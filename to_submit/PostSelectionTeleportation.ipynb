{
  "cells": [
    {
      "cell_type": "markdown",
      "source": [
        "# Assignment 3 - Quantum Communication \n",
        "\n",
        "### <span style=\"color:#61c2e8\">Task 3</span>: Quantum Teleportation with Postselection (IonQ)\n",
        "Now, let's see how to implement teleportation protocol on IonQ system. IonQ devices do not support mid-circuit measurements (that is, they don't have the ability to apply gates based on measurement results). This means that we cannot implement the receiver's part of teleportation protocol.\n",
        "\n",
        "Instead, we can implement a different scheme which will still allow us to teleport states, at a cost of doing that probabilistically, with success rate of 25%. In this scheme, the sender will perform their part of the protocol as usual, but the receiver will not apply any fixup to the state they receive. Instead, they will discard any runs in which sender's measurement results are anything other than $|00\\rangle$.\n",
        "\n",
        "Unfortunately, the inability to perform mid-circuit measurements will limit the receiver's ability to use the teleported states. Since we cannot analyze the measurement results while running the circuit, we won't know which teleportation runs succeeded. Therefore, there is no way to use this teleportation scheme as a building block of some larger protocol. What we will do to show that teleportation is happening is perform measurement on every qubit and then analyze the measurement data."
      ],
      "metadata": {}
    },
    {
      "cell_type": "markdown",
      "source": [
        "#### Run these cells before beginning to import necessary packages.\n",
        "This cell may take a minute or more to complete. Importing qsharp triggers a sequence of actions which allow us to compile and run Q# code in this notebook."
      ],
      "metadata": {}
    },
    {
      "cell_type": "code",
      "source": [
        "import qsharp\n",
        "import qsharp.azure\n",
        "import matplotlib.pyplot as plt\n",
        "from collections import defaultdict"
      ],
      "outputs": [
        {
          "output_type": "stream",
          "name": "stdout",
          "text": "Preparing Q# environment...\n.."
        }
      ],
      "execution_count": 1,
      "metadata": {}
    },
    {
      "cell_type": "code",
      "source": [
        "%%qsharp\n",
        "open Microsoft.Quantum.Diagnostics; \n",
        "open Microsoft.Quantum.Measurement;\n",
        "open Microsoft.Quantum.Canon;\n",
        "open Microsoft.Quantum.Arrays;\n",
        "open Microsoft.Quantum.Random;\n"
      ],
      "outputs": [],
      "execution_count": 2,
      "metadata": {
        "microsoft": {
          "language": "qsharp"
        }
      }
    },
    {
      "cell_type": "markdown",
      "source": [
        "First let us define the operations `BellStatePrep`, `StatePrepare` and `Sender`. These operations are identical to the ones defined in Task 2. "
      ],
      "metadata": {}
    },
    {
      "cell_type": "code",
      "source": [
        "%%qsharp\n",
        "/// # Summary\n",
        "/// Prepares a Bell state on a 2 qubit array\n",
        "///\n",
        "/// # Input\n",
        "/// ## qs\n",
        "/// The array that is being acted on\n",
        "\n",
        "operation BellStatePrep(qs : Qubit[]) : Unit {\n",
        "    H(qs[0]);\n",
        "    CNOT(qs[0], qs[1]);\n",
        "}\n",
        "\n",
        "/// # Summary\n",
        "/// Takes a qubit and applies an Ry to it.\n",
        "///\n",
        "/// # Input\n",
        "/// ## q\n",
        "/// The input qubit\n",
        "\n",
        "operation StatePrepare(q : Qubit) : Unit is Adj {\n",
        "    Ry(3.1415 / 7.0, q);\n",
        "}\n",
        "\n",
        "/// # Summary\n",
        "/// In this operation the sender will take her half of the Bell state\n",
        "/// and entangle it with the qubit she wishes to teleport. \n",
        "/// Lastly she will perform Bell state measurement.\n",
        "/// \n",
        "/// # Input\n",
        "/// ## q\n",
        "/// The sender's qubit from the initial shared Bell state.\n",
        "///\n",
        "/// # Output\n",
        "/// A tuple of two Results, one for each result in the Bell state measurement.\n",
        "\n",
        "operation Sender(q : Qubit) : (Result, Result) {\n",
        "    use qSend = Qubit();\n",
        "    // Prepare the state to transmit\n",
        "    StatePrepare(qSend);\n",
        "    \n",
        "    // Perform Bell state measurement \n",
        "    CNOT(qSend, q);\n",
        "    H(qSend);\n",
        "    return (M(qSend), M(q));\n",
        "}"
      ],
      "outputs": [],
      "execution_count": 3,
      "metadata": {
        "microsoft": {
          "language": "qsharp"
        }
      }
    },
    {
      "cell_type": "markdown",
      "source": [
        "Lastly we will define a Teleport operation which orchestrates things.\n",
        "\n",
        "We want to see that the state we teleported was moved onto the receiver's qubit. This state should be the state created by applying the `PrepareState` operation. Therefore, applying the inverse, or adjoint, of this operation should take that state back to $|0\\rangle$. In this operation we will apply the adjoint of `PrepareState` to the receiver's qubit at the end of teleportation, if we measure $|0\\rangle$ we know that the state was teleported.\n",
        "\n",
        "In this situation there is no need to define the `Receiver` operation, since the receiver is not applying any transformations and is instead just measuring their qubit."
      ],
      "metadata": {}
    },
    {
      "cell_type": "code",
      "source": [
        "%%qsharp\n",
        "/// # Summary \n",
        "/// This is the top-level operation for the teleportation routine.\n",
        "/// It allocates qubits and prepares the initial Bell pair which the sender \n",
        "/// and receiver will share, and then performs the teleportation protocol.\n",
        "///\n",
        "/// # Output\n",
        "/// Result array which contains three values:\n",
        "/// 1, 2 - These are the results of the sender's Bell state measurement.\n",
        "/// 3 - This is the result of measurement on the receiver's qubit.\n",
        "\n",
        "operation Teleport() : Result[] {\n",
        "    use senderQubit = Qubit();\n",
        "    use receiverQubit = Qubit();\n",
        "    BellStatePrep([senderQubit, receiverQubit]); \n",
        "\n",
        "    // Now the sender performs Bell state measurement.\n",
        "    let (m1, m2) = Sender(senderQubit);\n",
        "\n",
        "    // At this point the receiver should perform the post-selection step.\n",
        "    // However, this cannot be done on IonQ targets.\n",
        "    // So instead we apply the adjoint of the StatePrepare operation.\n",
        "    // If we teleport the state properly, we will always measure |0⟩,\n",
        "    // otherwise we'll measure |1⟩ part of the time.\n",
        "    // So, when m1 and m2 are |0⟩, we expect to always measure |0⟩.\n",
        "\n",
        "    Adjoint StatePrepare(receiverQubit);\n",
        "    return [m1, m2, M(receiverQubit)];\n",
        "}"
      ],
      "outputs": [],
      "execution_count": 4,
      "metadata": {
        "microsoft": {
          "language": "qsharp"
        }
      }
    },
    {
      "cell_type": "markdown",
      "source": [
        "Now let's submit this job to the IonQ simulator and see what the histogram looks like. The IonQ simulator has the same constraints as the IonQ hardware, so we will use it to demonstrate the behavior of the protocol."
      ],
      "metadata": {}
    },
    {
      "cell_type": "code",
      "source": [
        "qsharp.azure.connect(\n",
        "   resourceId=\"/subscriptions/476fe4b3-6f35-4af3-8050-b3b41a795058/resourceGroups/AzureQuantum/providers/Microsoft.Quantum/Workspaces/IntroToQuantumProj\",\n",
        "   location=\"East US\")\n",
        "qsharp.azure.target(\"ionq.simulator\")"
      ],
      "outputs": [
        {
          "output_type": "display_data",
          "data": {
            "text/plain": "Connecting to Azure Quantum...",
            "application/x-qsharp-data": "\"Connecting to Azure Quantum...\""
          },
          "metadata": {}
        },
        {
          "output_type": "stream",
          "name": "stdout",
          "text": "Authenticated using Microsoft.Azure.Quantum.Authentication.TokenFileCredential\n\n\nConnected to Azure Quantum workspace IntroToQuantumProj in location eastus.\nLoading package Microsoft.Quantum.Providers.IonQ and dependencies...\nActive target is now ionq.simulator\n"
        },
        {
          "output_type": "execute_result",
          "execution_count": 5,
          "data": {
            "text/plain": "{'id': 'ionq.simulator', 'current_availability': {}, 'average_queue_time': 5}"
          },
          "metadata": {}
        }
      ],
      "execution_count": 5,
      "metadata": {}
    },
    {
      "cell_type": "markdown",
      "source": [
        "Now submit the job."
      ],
      "metadata": {}
    },
    {
      "cell_type": "code",
      "source": [
        "job = qsharp.azure.submit(Teleport, shots=500, jobName=\"Teleportation Post Select\")"
      ],
      "outputs": [
        {
          "output_type": "stream",
          "name": "stdout",
          "text": "Submitting Teleport to target ionq.simulator...\nJob successfully submitted.\n   Job name: Teleportation Post Select\n   Job ID: 7b7f1580-18da-4a87-ac31-ef3cd343ac5d\n"
        }
      ],
      "execution_count": 6,
      "metadata": {}
    },
    {
      "cell_type": "markdown",
      "source": [
        "Now check the status of the job. Once it is finished, you can run the results analysis code."
      ],
      "metadata": {}
    },
    {
      "cell_type": "code",
      "source": [
        "qsharp.azure.status()"
      ],
      "outputs": [
        {
          "output_type": "execute_result",
          "execution_count": 7,
          "data": {
            "text/plain": "{'id': '7b7f1580-18da-4a87-ac31-ef3cd343ac5d', 'name': 'Teleportation Post Select', 'status': 'Succeeded', 'uri': 'https://portal.azure.com/#@microsoft.onmicrosoft.com/resource/subscriptions/476fe4b3-6f35-4af3-8050-b3b41a795058/resourceGroups/AzureQuantum/providers/Microsoft.Quantum/Workspaces/IntroToQuantumProj/job_management?microsoft_azure_quantum_jobid=7b7f1580-18da-4a87-ac31-ef3cd343ac5d', 'provider': 'ionq', 'target': 'ionq.simulator', 'creation_time': '2022-12-10T06:41:58.8887088+00:00', 'begin_execution_time': '2022-12-10T06:42:03.923+00:00', 'end_execution_time': '2022-12-10T06:42:03.942+00:00', 'cost_estimate': '$0.00'}"
          },
          "metadata": {}
        }
      ],
      "execution_count": 7,
      "metadata": {}
    },
    {
      "cell_type": "markdown",
      "source": [
        "Plot the results."
      ],
      "metadata": {}
    },
    {
      "cell_type": "code",
      "source": [
        "results = defaultdict(float, qsharp.azure.output())\n",
        "plt.bar(list(results.keys()), list(results.values()))\n",
        "plt.ylabel(\"Percentage\")\n",
        "plt.title(\"Distribution of Measurement\")\n",
        "plt.show()"
      ],
      "outputs": [
        {
          "output_type": "display_data",
          "data": {
            "text/plain": "<Figure size 640x480 with 1 Axes>",
            "image/png": "[encoded data removed]"
          },
          "metadata": {}
        }
      ],
      "execution_count": 8,
      "metadata": {}
    },
    {
      "cell_type": "markdown",
      "source": [
        "This is the distribution of the raw measurement results. We want to select only the outcomes where the sender measured $|00\\rangle$, since they are the ones in which teleportation yielded the correct state. Let's do that now."
      ],
      "metadata": {}
    },
    {
      "cell_type": "code",
      "source": [
        "freq0 = results[\"[0,0,0]\"]\n",
        "freq1 = results[\"[0,0,1]\"]\n",
        "# Renormalize them \n",
        "normFactor = freq0 + freq1\n",
        "freq0 = freq0/normFactor\n",
        "freq1 = freq1/normFactor\n",
        "\n",
        "plt.bar([r\"$|0\\rangle$\", r\"$|1\\rangle$\"], [freq0, freq1])\n",
        "plt.ylabel(\"Percentage\")\n",
        "plt.title(\"Post-selected Distribution\")\n",
        "plt.show()"
      ],
      "outputs": [
        {
          "output_type": "display_data",
          "data": {
            "text/plain": "<Figure size 640x480 with 1 Axes>",
            "image/png": "[encoded data removed]"
          },
          "metadata": {}
        }
      ],
      "execution_count": 9,
      "metadata": {}
    },
    {
      "cell_type": "markdown",
      "source": [
        "We only measured $|0\\rangle$! Since we were applying the adjoint of `PrepareState` operation to the receiver's qubit, this is what we were hoping for. This means that we are indeed teleporting the state correctly 25% of the time!"
      ],
      "metadata": {}
    },
    {
      "cell_type": "markdown",
      "source": [
        "### <span style=\"color:#61c2e8\">Task 3 Questions</span>:\n",
        "\n",
        "* T3.1. We cannot perform mid-circuit measurement on the IonQ platform. Explain why performing mid-circuit measurement can be difficult to implement physically. \n",
        "\n",
        "* T3.2. Do you think 25% is the best that can be achieved in any system limited to end-circuit measurements? Justify your answer.\n",
        "\n",
        "* T3.3. In the measurement results distribution above, the state [0, 0, 1] does not appear, as expected. However, the state [1, 1, 0] also does not appear. Why is this happening?\n",
        "\n"
      ],
      "metadata": {}
    },
    {
      "cell_type": "markdown",
      "source": [
        "##### T 3.1\n",
        "\n",
        "Performing mid-circuit measurements physically changes the behavior of the quantum state."
      ],
      "metadata": {
        "nteract": {
          "transient": {
            "deleting": false
          }
        }
      }
    },
    {
      "cell_type": "markdown",
      "source": [
        "##### T 3.2\n",
        "\n",
        "In the system limited to end-circuit measurements, the reciever only measures the state $\\ket{00}$ and discards everything else. Therefore, $25\\%$ is the best that can be achieved in end-circuit measurements systems. Alternately, the sender can send the states $\\ket{0}$ or the state $\\ket{1}$ and the reciever can measure the state $\\ket{0}$ or the state $\\ket{1}$. Therefore, the frequency of the sender sending the state $\\ket{0}$ and the reciever measuing the state $\\ket{0}$ is $25\\%$."
      ],
      "metadata": {
        "nteract": {
          "transient": {
            "deleting": false
          }
        }
      }
    },
    {
      "cell_type": "markdown",
      "source": [
        "##### T 3.3\n",
        "\n",
        "For the states $\\ket{00}$ and $\\ket{11}$, the teleportation is successful. When the teleportation is successful the reciever state is deterministically at $\\ket{0}$ or $\\ket{1}$, respectively. However, when the teleportation is not successful the measurment is probabilistic, and therefore can be at state $\\ket{0}$ or state $\\ket{1}$. Therefore, the states $[0,0,1]$ and $[1,1,0]$ do not appear."
      ],
      "metadata": {
        "nteract": {
          "transient": {
            "deleting": false
          }
        }
      }
    },
    {
      "cell_type": "markdown",
      "source": [
        "You can now continue on to part 4 where we will be exploring quantum repeaters networks."
      ],
      "metadata": {}
    }
  ],
  "metadata": {
    "kernelspec": {
      "name": "python3",
      "language": "python",
      "display_name": "Python 3 (ipykernel)"
    },
    "language_info": {
      "name": "python",
      "version": "3.9.15",
      "mimetype": "text/x-python",
      "codemirror_mode": {
        "name": "ipython",
        "version": 3
      },
      "pygments_lexer": "ipython3",
      "nbconvert_exporter": "python",
      "file_extension": ".py"
    },
    "orig_nbformat": 4,
    "vscode": {
      "interpreter": {
        "hash": "1cde0123ad091c17bb3dac1610a1b00e4cc7ccaccc904fd2e4f3100417f26ae7"
      }
    },
    "kernel_info": {
      "name": "python3"
    },
    "nteract": {
      "version": "nteract-front-end@1.0.0"
    }
  },
  "nbformat": 4,
  "nbformat_minor": 2
}