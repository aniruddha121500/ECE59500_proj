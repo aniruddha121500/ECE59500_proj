{
  "cells": [
    {
      "cell_type": "markdown",
      "source": [
        "# Assignment 3 - Quantum Communication\n",
        "\n",
        "### <span style=\"color:#61c2e8\">Task 2</span>: Quantum Teleportation with Fixup (Quantinuum)"
      ],
      "metadata": {}
    },
    {
      "cell_type": "markdown",
      "source": [
        "In tasks 2 and 3 we will explore quantum teleportation - a protocol for moving quantum information. As we will see, the limitations of the targets on which we want to run the protocol will impact the implementation of the protocol. To start with, we will implement the standard teleportation scheme and run it on the Quantinuum simulator."
      ],
      "metadata": {}
    },
    {
      "cell_type": "markdown",
      "source": [
        "#### Run these cells before beginning to import necessary packages.\n",
        "This cell may take a minute or more to complete. Importing qsharp triggers a sequence of actions which allow us to compile and run Q# code in this notebook."
      ],
      "metadata": {}
    },
    {
      "cell_type": "code",
      "source": [
        "import qsharp\n",
        "import qsharp.azure\n",
        "import matplotlib.pyplot as plt"
      ],
      "outputs": [
        {
          "output_type": "stream",
          "name": "stdout",
          "text": "Preparing Q# environment...\n."
        }
      ],
      "execution_count": 1,
      "metadata": {}
    },
    {
      "cell_type": "code",
      "source": [
        "%%qsharp\n",
        "open Microsoft.Quantum.Diagnostics; \n",
        "open Microsoft.Quantum.Measurement;\n",
        "open Microsoft.Quantum.Canon;\n",
        "open Microsoft.Quantum.Arrays;\n",
        "open Microsoft.Quantum.Random;"
      ],
      "outputs": [],
      "execution_count": 2,
      "metadata": {
        "microsoft": {
          "language": "qsharp"
        }
      }
    },
    {
      "cell_type": "markdown",
      "source": [
        "The first part of quantum teleportation is the creation of a Bell pair. Let's implement an operation to prepare it."
      ],
      "metadata": {}
    },
    {
      "cell_type": "code",
      "source": [
        "%%qsharp\n",
        "/// # Summary\n",
        "/// Prepares a Bell state on a 2 qubit array\n",
        "///\n",
        "/// # Input\n",
        "/// ## qs\n",
        "/// The array that is being acted on\n",
        "\n",
        "operation BellStatePrep(qs : Qubit[]) : Unit {\n",
        "    H(qs[0]);\n",
        "    CNOT(qs[0], qs[1]);\n",
        "}"
      ],
      "outputs": [],
      "execution_count": 3,
      "metadata": {
        "microsoft": {
          "language": "qsharp"
        }
      }
    },
    {
      "cell_type": "markdown",
      "source": [
        "Next we will distribute our Bell pair to two parties, the sender and receiver. In order to do this, let's create the `Sender` and `Receiver` operations. The sender will need to send 2 bits of classical information to the receiver to perform teleportation.\n",
        "\n",
        "The flow of the teleportation protocol is as follows:\n",
        "1. The sender and the receiver each obtain a single qubit from a Bell pair, prepared by a third party.\n",
        "2. The sender entangles her qubit with the qubit she wishes to teleport and performs Bell state measurement.\n",
        "3. The receiver performs one of the 4 different operations on his qubit depending on the results of the sender's measurement.\n",
        "4. The receiver now has a qubit with the state the sender wanted to teleport!"
      ],
      "metadata": {}
    },
    {
      "cell_type": "code",
      "source": [
        "%%qsharp\n",
        "/// # Summary\n",
        "/// Takes a qubit and applies an Ry to it.\n",
        "///\n",
        "/// # Input\n",
        "/// ## q\n",
        "/// The input qubit\n",
        "\n",
        "operation StatePrepare(q : Qubit) : Unit is Adj {\n",
        "    Ry(3.1415 / 7.0, q);\n",
        "}\n",
        "\n",
        "/// # Summary\n",
        "/// In this operation the sender will take her half of the Bell state\n",
        "/// and entangle it with the qubit she wishes to teleport. \n",
        "/// Lastly she will perform Bell state measurement.\n",
        "/// \n",
        "/// # Input\n",
        "/// ## q\n",
        "/// The sender's qubit from the initial shared Bell state.\n",
        "///\n",
        "/// # Output\n",
        "/// A tuple of two Results, one for each result in the Bell state measurement.\n",
        "\n",
        "operation Sender(q : Qubit) : (Result, Result) {\n",
        "    use qSend = Qubit();\n",
        "    // Prepare the state to transmit\n",
        "    StatePrepare(qSend);\n",
        "    \n",
        "    // Perform Bell state measurement \n",
        "    CNOT(qSend, q);\n",
        "    H(qSend);\n",
        "    return (M(qSend), M(q));\n",
        "}\n",
        "\n",
        "/// # Summary\n",
        "/// In this operation the receiver performs one of 4 operations depending\n",
        "/// on the results of the sender's Bell state measurement.\n",
        "///\n",
        "/// # Input\n",
        "/// ## q\n",
        "/// This is the receiver's share of the Bell state\n",
        "/// ## (first, second) \n",
        "/// The tuple of the sender's measurement results.\n",
        "\n",
        "operation Receiver(q : Qubit, (first : Result, second : Result)): Unit {\n",
        "    // This splits the tuple into two variables\n",
        "    if second == One { \n",
        "        X(q);\n",
        "    }\n",
        "    if first == One {\n",
        "        Z(q);\n",
        "    }\n",
        "}"
      ],
      "outputs": [],
      "execution_count": 4,
      "metadata": {
        "microsoft": {
          "language": "qsharp"
        }
      }
    },
    {
      "cell_type": "markdown",
      "source": [
        "Now let us implement the top-level operation that prepares the Bell state, passes their qubits to the sender and the receiver, and performs their parts of the protocol."
      ],
      "metadata": {}
    },
    {
      "cell_type": "code",
      "source": [
        "%%qsharp\n",
        "/// # Summary\n",
        "/// This is the top-level operation for the teleportation routine.\n",
        "/// It allocates qubits and prepares the initial Bell pair which the sender \n",
        "/// and receiver will share, and then performs the teleportation protocol.\n",
        "///\n",
        "/// # Output\n",
        "/// A single result obtained by measuring the qubit that had a state\n",
        "/// teleported to it. Before measurement we apply the adjoint of StatePrepare to\n",
        "/// this qubit, so we will measure |0⟩ if the state was teleported successfully.\n",
        "\n",
        "operation Teleport() : Result {\n",
        "    use qs = Qubit[2];\n",
        "    BellStatePrep(qs);\n",
        "    let result = Sender(qs[0]);\n",
        "    Receiver(qs[1], result);\n",
        "\n",
        "    // Apply the adjoint of the StatePrepare operation.\n",
        "    // If we teleport the state properly, we will always measure |0⟩,\n",
        "    // otherwise we'll measure |1⟩ part of the time.\n",
        "    Adjoint StatePrepare(qs[1]);\n",
        "    return M(qs[1]);\n",
        "}"
      ],
      "outputs": [],
      "execution_count": 15,
      "metadata": {
        "microsoft": {
          "language": "qsharp"
        }
      }
    },
    {
      "cell_type": "markdown",
      "source": [
        "Let's first simulate things to see what is happening in the ideal case."
      ],
      "metadata": {}
    },
    {
      "cell_type": "code",
      "source": [
        "result = []\n",
        "for shot in range(500):\n",
        "    result.append(Teleport.simulate())\n",
        "fig, ax = plt.subplots()\n",
        "ax.set_xticks([0], labels=[r\"$|0\\rangle$\"])\n",
        "plt.hist(result, bins=[-1, -0.1, 0.1, 1])\n",
        "plt.show()"
      ],
      "outputs": [
        {
          "output_type": "display_data",
          "data": {
            "text/plain": "<Figure size 640x480 with 1 Axes>",
            "image/png": "[encoded data removed]"
          },
          "metadata": {}
        }
      ],
      "execution_count": 16,
      "metadata": {}
    },
    {
      "cell_type": "markdown",
      "source": [
        "Notice how we always measure $|0\\rangle$. This means the sender successfully teleported the state."
      ],
      "metadata": {}
    },
    {
      "cell_type": "markdown",
      "source": [
        "Next let's submit this job to the Quantinuum noisy simulator to see how noise affects the performance of teleportation."
      ],
      "metadata": {}
    },
    {
      "cell_type": "code",
      "source": [
        "qsharp.azure.connect(\n",
        "   resourceId=\"/subscriptions/476fe4b3-6f35-4af3-8050-b3b41a795058/resourceGroups/AzureQuantum/providers/Microsoft.Quantum/Workspaces/IntroToQuantumProj\",\n",
        "   location=\"East US\")"
      ],
      "outputs": [
        {
          "output_type": "display_data",
          "data": {
            "text/plain": "Connecting to Azure Quantum...",
            "application/x-qsharp-data": "\"Connecting to Azure Quantum...\""
          },
          "metadata": {}
        },
        {
          "output_type": "stream",
          "name": "stdout",
          "text": "Authenticated using Microsoft.Azure.Quantum.Authentication.TokenFileCredential\n\n\nConnected to Azure Quantum workspace IntroToQuantumProj in location eastus.\n"
        },
        {
          "output_type": "execute_result",
          "execution_count": 17,
          "data": {
            "text/plain": "[{'id': 'ionq.qpu', 'current_availability': {}, 'average_queue_time': 40382},\n {'id': 'ionq.qpu.aria-1', 'current_availability': {}, 'average_queue_time': 1671425},\n {'id': 'ionq.simulator', 'current_availability': {}, 'average_queue_time': 2},\n {'id': 'microsoft.estimator', 'current_availability': {}, 'average_queue_time': 0},\n {'id': 'quantinuum.hqs-lt-s1', 'current_availability': {}, 'average_queue_time': 0},\n {'id': 'quantinuum.hqs-lt-s1-apival', 'current_availability': {}, 'average_queue_time': 0},\n {'id': 'quantinuum.hqs-lt-s2', 'current_availability': {}, 'average_queue_time': 222021},\n {'id': 'quantinuum.hqs-lt-s2-apival', 'current_availability': {}, 'average_queue_time': 0},\n {'id': 'quantinuum.hqs-lt-s1-sim', 'current_availability': {}, 'average_queue_time': 20},\n {'id': 'quantinuum.hqs-lt-s2-sim', 'current_availability': {}, 'average_queue_time': 8790},\n {'id': 'quantinuum.hqs-lt', 'current_availability': {}, 'average_queue_time': 0},\n {'id': 'quantinuum.qpu.h1-1', 'current_availability': {}, 'average_queue_time': 0},\n {'id': 'quantinuum.sim.h1-1sc', 'current_availability': {}, 'average_queue_time': 0},\n {'id': 'quantinuum.qpu.h1-2', 'current_availability': {}, 'average_queue_time': 222021},\n {'id': 'quantinuum.sim.h1-2sc', 'current_availability': {}, 'average_queue_time': 0},\n {'id': 'quantinuum.sim.h1-1e', 'current_availability': {}, 'average_queue_time': 20},\n {'id': 'quantinuum.sim.h1-2e', 'current_availability': {}, 'average_queue_time': 8790},\n {'id': 'quantinuum.qpu.h1', 'current_availability': {}, 'average_queue_time': 0},\n {'id': 'rigetti.sim.qvm', 'current_availability': {}, 'average_queue_time': 5},\n {'id': 'rigetti.qpu.aspen-11', 'current_availability': {}, 'average_queue_time': 0},\n {'id': 'rigetti.qpu.aspen-m-2', 'current_availability': {}, 'average_queue_time': 5}]"
          },
          "metadata": {}
        }
      ],
      "execution_count": 17,
      "metadata": {}
    },
    {
      "cell_type": "code",
      "source": [
        "qsharp.azure.target(\"quantinuum.hqs-lt-s1-sim\")"
      ],
      "outputs": [
        {
          "output_type": "stream",
          "name": "stdout",
          "text": "Loading package Microsoft.Quantum.Providers.Honeywell and dependencies...\nActive target is now quantinuum.hqs-lt-s1-sim\n"
        },
        {
          "output_type": "execute_result",
          "execution_count": 18,
          "data": {
            "text/plain": "{'id': 'quantinuum.hqs-lt-s1-sim', 'current_availability': {}, 'average_queue_time': 20}"
          },
          "metadata": {}
        }
      ],
      "execution_count": 18,
      "metadata": {}
    },
    {
      "cell_type": "code",
      "source": [
        "qsharp.azure.submit(Teleport, shots=500, jobName=\"Teleportation\")"
      ],
      "outputs": [
        {
          "output_type": "stream",
          "name": "stdout",
          "text": "Submitting Teleport to target quantinuum.hqs-lt-s1-sim...\nJob successfully submitted.\n   Job name: Teleportation\n   Job ID: e668e37c-c57a-4dc1-a912-29374da6b74f\n"
        },
        {
          "output_type": "execute_result",
          "execution_count": 19,
          "data": {
            "text/plain": "{'id': 'e668e37c-c57a-4dc1-a912-29374da6b74f', 'name': 'Teleportation', 'status': 'Waiting', 'uri': 'https://portal.azure.com/#@microsoft.onmicrosoft.com/resource/subscriptions/476fe4b3-6f35-4af3-8050-b3b41a795058/resourceGroups/AzureQuantum/providers/Microsoft.Quantum/Workspaces/IntroToQuantumProj/job_management?microsoft_azure_quantum_jobid=e668e37c-c57a-4dc1-a912-29374da6b74f', 'provider': 'quantinuum', 'target': 'quantinuum.hqs-lt-s1-sim', 'creation_time': '2022-12-09T03:18:17.1453986+00:00', 'begin_execution_time': None, 'end_execution_time': None, 'cost_estimate': ''}"
          },
          "metadata": {}
        }
      ],
      "execution_count": 19,
      "metadata": {}
    },
    {
      "cell_type": "code",
      "source": [
        "qsharp.azure.status()"
      ],
      "outputs": [
        {
          "output_type": "execute_result",
          "execution_count": 22,
          "data": {
            "text/plain": "{'id': 'e668e37c-c57a-4dc1-a912-29374da6b74f', 'name': 'Teleportation', 'status': 'Waiting', 'uri': 'https://portal.azure.com/#@microsoft.onmicrosoft.com/resource/subscriptions/476fe4b3-6f35-4af3-8050-b3b41a795058/resourceGroups/AzureQuantum/providers/Microsoft.Quantum/Workspaces/IntroToQuantumProj/job_management?microsoft_azure_quantum_jobid=e668e37c-c57a-4dc1-a912-29374da6b74f', 'provider': 'quantinuum', 'target': 'quantinuum.hqs-lt-s1-sim', 'creation_time': '2022-12-09T03:18:17.1453986+00:00', 'begin_execution_time': None, 'end_execution_time': None, 'cost_estimate': ''}"
          },
          "metadata": {}
        }
      ],
      "execution_count": 22,
      "metadata": {}
    },
    {
      "cell_type": "code",
      "source": [
        "qsharp.azure.output()"
      ],
      "outputs": [
        {
          "output_type": "execute_result",
          "execution_count": 23,
          "data": {
            "text/plain": "{'0': 0.5760000000000004, '1': 0.4240000000000003}",
            "text/html": "\r\n                    <table style=\"table-layout: fixed; width: 100%\">\r\n                        <thead>\r\n                            <tr>\r\n                                <th style=\"text-align: left; width: 25ch\">Result</th>\r\n                                <th style=\"text-align: left; width: 25ch\">Frequency</th>\r\n                                <th style=\"text-align: left; width: calc(100% - 25ch - 25ch)\">Histogram</th>\r\n                            </tr>\r\n                        </thead>\r\n                        <tbody>\r\n                            \r\n                            <tr>\r\n                                <td style=\"text-align: left; width: 25ch\">0</td>\r\n                                <td style=\"text-align: left; width: 25ch\">0.5760000000000004</td>\r\n                                <td style=\"text-align: left; width: calc(100% - 25ch - 25ch)\">\r\n                                    <progress\r\n                                        max=\"100\"\r\n                                        value=\"57.60000000000004\"\r\n                                        style=\"width: 100%;\"\r\n                                    >\r\n                                </td>\r\n                            </tr>\r\n                        \n\r\n                            <tr>\r\n                                <td style=\"text-align: left; width: 25ch\">1</td>\r\n                                <td style=\"text-align: left; width: 25ch\">0.4240000000000003</td>\r\n                                <td style=\"text-align: left; width: calc(100% - 25ch - 25ch)\">\r\n                                    <progress\r\n                                        max=\"100\"\r\n                                        value=\"42.400000000000034\"\r\n                                        style=\"width: 100%;\"\r\n                                    >\r\n                                </td>\r\n                            </tr>\r\n                        \r\n                        </tbody>\r\n                    </table>\r\n                ",
            "application/x-qsharp-data": "{\"0\":0.5760000000000004,\"1\":0.4240000000000003}"
          },
          "metadata": {}
        }
      ],
      "execution_count": 23,
      "metadata": {}
    },
    {
      "cell_type": "markdown",
      "source": [
        "### <span style=\"color:#61c2e8\">Task 2 Questions</span>:\n",
        "* T2.1. What should we expect from the output of the job? What do we actually see?\n"
      ],
      "metadata": {}
    },
    {
      "cell_type": "markdown",
      "source": [
        "By compiling the ideal teleportation structure outlined above through the use if a Bell pair we see that the frequency is split about evenly between $\\ket{0}$ and $\\ket{1}$ but ideally the frequency should be concentrated at $\\ket{0}$. The ideal result is also shown above where it displays the frequency being concentrated at $\\ket{0}$."
      ],
      "metadata": {
        "nteract": {
          "transient": {
            "deleting": false
          }
        }
      }
    },
    {
      "cell_type": "markdown",
      "source": [
        "Next switch to the Assignment_3_Task3.ipynb file to continue with assignment 3. "
      ],
      "metadata": {}
    }
  ],
  "metadata": {
    "kernelspec": {
      "name": "python3",
      "language": "python",
      "display_name": "Python 3 (ipykernel)"
    },
    "language_info": {
      "name": "python",
      "version": "3.9.15",
      "mimetype": "text/x-python",
      "codemirror_mode": {
        "name": "ipython",
        "version": 3
      },
      "pygments_lexer": "ipython3",
      "nbconvert_exporter": "python",
      "file_extension": ".py"
    },
    "orig_nbformat": 4,
    "vscode": {
      "interpreter": {
        "hash": "1cde0123ad091c17bb3dac1610a1b00e4cc7ccaccc904fd2e4f3100417f26ae7"
      }
    },
    "kernel_info": {
      "name": "python3"
    },
    "nteract": {
      "version": "nteract-front-end@1.0.0"
    }
  },
  "nbformat": 4,
  "nbformat_minor": 2
}