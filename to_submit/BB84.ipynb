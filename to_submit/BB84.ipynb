{
  "cells": [
    {
      "cell_type": "markdown",
      "source": [
        "# Assignment 3 - Quantum Communication \n",
        "### <span style=\"color:#61c2e8\">Task 1</span>: BB84 Key Distribution\n",
        "\n",
        "In class you have learned about the protocols for exchanging classical and quantum units of information. BB84 is one such protocol. BB84 is a protocol proposed by Charles Bennet and Gilles Brassard in 1984. It was introduced for securely generating random bitstrings, which can then be used to encrypt information to securely share it between parties. In this task we are going to look at this protocol, and how its behavior changes as we introduce noise to its operation."
      ],
      "metadata": {}
    },
    {
      "cell_type": "markdown",
      "source": [
        "#### Run these cells before beginning to import necessary packages.\n",
        "This cell may take a minute or more to complete. Importing qsharp triggers a sequence of actions which allow us to compile and run Q# code in this notebook."
      ],
      "metadata": {}
    },
    {
      "cell_type": "code",
      "source": [
        "import qsharp\n",
        "import qsharp.azure\n",
        "import matplotlib.pyplot as plt"
      ],
      "outputs": [
        {
          "output_type": "stream",
          "name": "stdout",
          "text": "Preparing Q# environment...\n."
        }
      ],
      "execution_count": 1,
      "metadata": {}
    },
    {
      "cell_type": "code",
      "source": [
        "%%qsharp \n",
        "open Microsoft.Quantum.Diagnostics; \n",
        "open Microsoft.Quantum.Canon;\n",
        "open Microsoft.Quantum.Arrays;\n",
        "open Microsoft.Quantum.Random;"
      ],
      "outputs": [],
      "execution_count": 2,
      "metadata": {
        "microsoft": {
          "language": "qsharp"
        }
      }
    },
    {
      "cell_type": "markdown",
      "source": [
        "The first step of BB84 is for the sender to prepare the qubits by initializing them randomly to $|0\\rangle, |1\\rangle, |+\\rangle \\text{ or } |-\\rangle$. These basis states represent two choices done by the sender: the bit they want to encode (0 or 1) and the basis they encode this bit in. \n",
        "Remember that $|0\\rangle$ and $|1\\rangle$ are the basis vectors in the Z basis and $|+\\rangle$ and $|-\\rangle$ are the basis vectors in the X basis."
      ],
      "metadata": {}
    },
    {
      "cell_type": "markdown",
      "source": [
        "The operation `Sender` represents the first part of the protocol, the actions taken by the sender."
      ],
      "metadata": {}
    },
    {
      "cell_type": "code",
      "source": [
        "%%qsharp\n",
        "/// # Summary\n",
        "/// Returns a random bit (0 or 1) with equal probability.\n",
        "///\n",
        "/// # Output\n",
        "/// A random integer in {0, 1}\n",
        "\n",
        "operation RandomBit() : Int {\n",
        "    return DrawRandomInt(0, 1);\n",
        "}\n",
        "\n",
        "/// # Summary\n",
        "/// This operation prepares each of the qubits in the input array in one of the |0⟩, |1⟩, |+⟩, or |-⟩ states randomly.\n",
        "/// Additionally, it returns a tuple of two arrays, an array of the chosen bases (X or Z) and an array of the encoded bits (0 or 1).\n",
        "/// \n",
        "/// # Input\n",
        "/// ## qs\n",
        "/// A qubit array that the sender prepares randomly in X and Z basis as either 0 or 1\n",
        "///\n",
        "/// # Output\n",
        "/// A tuple of two integer arrays. Each element of the first array indicates the basis chosen, 0 for Z, 1 for X.\n",
        "/// The corresponding element of the second array indicates whether the qubit was prepared as 0 or 1 in that basis.\n",
        "\n",
        "operation Sender(qs : Qubit[]) : (Int[], Int[]) {\n",
        "    // Create the array where we track the chosen basis\n",
        "    mutable chosenBases = [];\n",
        "    mutable encodedBits = [];\n",
        "    for i in 0 .. Length(qs) - 1 {\n",
        "        // 0 - 0 in chosen basis, 1 - 1 in chosen basis\n",
        "        set encodedBits = encodedBits + [RandomBit()];\n",
        "        if encodedBits[i] == 1 {\n",
        "            X(qs[i]); // 0 to 1\n",
        "        }\n",
        "        // 0 - Z basis, 1 - X basis\n",
        "        set chosenBases = chosenBases + [RandomBit()]; \n",
        "        if chosenBases[i] == 1 {\n",
        "            H(qs[i]); //Swap our basis\n",
        "        }\n",
        "    }\n",
        "    // In the BB84 protocol, the sender will only communicate the bases to the receiver. \n",
        "    // In our implementation we're also returning the bits encoded to allow for protocol visualization.\n",
        "    return (chosenBases, encodedBits);\n",
        "}"
      ],
      "outputs": [],
      "execution_count": 3,
      "metadata": {
        "microsoft": {
          "language": "qsharp"
        }
      }
    },
    {
      "cell_type": "markdown",
      "source": [
        "After this, we implement the second part of the protocol, the actions done by the receiver after receiving the qubits prepared by the sender. \n"
      ],
      "metadata": {}
    },
    {
      "cell_type": "code",
      "source": [
        "%%qsharp\n",
        "/// # Summary\n",
        "/// Performs the receiver side of key distribution. \n",
        "/// Measures each qubit in a randomly chosen basis, X or Z, and returns the chosen bases and the measurement results.\n",
        "/// \n",
        "/// # Input\n",
        "/// ## qs\n",
        "/// Array of qubits which were prepared by the sender\n",
        "///\n",
        "/// # Output\n",
        "/// A tuple of two integer arrays. Each element of the first array indicates the basis chosen for measurement, 0 for Z, 1 for X.\n",
        "/// The corresponding element of the second array indicates whether the qubit was measured as 0 or 1 in that basis.\n",
        "\n",
        "operation Receiver(qs : Qubit[]) : (Int[], Int[]) {\n",
        "    mutable measuredBases = [];\n",
        "    for i in 0 .. Length(qs) - 1 {\n",
        "        // We need to randomly select a base to measure in\n",
        "        set measuredBases = measuredBases + [RandomBit()];\n",
        "        if measuredBases[i] == 1 {\n",
        "            H(qs[i]);\n",
        "        }\n",
        "    }\n",
        "    let decodedBits = ForEach((x) => M(x) == One ? 1 | 0, qs);\n",
        "    return (measuredBases, decodedBits);\n",
        "}"
      ],
      "outputs": [],
      "execution_count": 4,
      "metadata": {
        "microsoft": {
          "language": "qsharp"
        }
      }
    },
    {
      "cell_type": "markdown",
      "source": [
        "So now we just need to call our operations in the right order to perform key distribution. The length of generated keys is probabilistic, since we do not know how many times the sender and the receiver will choose the same basis. Our BB84 operation takes an argument $N$ which specifies the number of protocol iterations we run. The length of our key will be between 0 and N, and on average it will be $\\frac{1}{2}N$."
      ],
      "metadata": {}
    },
    {
      "cell_type": "code",
      "source": [
        "%%qsharp \n",
        "\n",
        "/// # Summary\n",
        "/// This operation acts as the intermediary exchanging\n",
        "/// both classical and quantum information between parties.\n",
        "/// N controls the number of qubits transmitted, so our final\n",
        "/// key will be of length less than or equal to N.\n",
        "///\n",
        "/// # Input\n",
        "/// ## N\n",
        "/// The number of qubits to attempt key distribution with.\n",
        "/// \n",
        "/// # Output\n",
        "/// A tuple of 5 integer arrays. \n",
        "/// 1 - The preparation bases the sender used.\n",
        "/// 2 - The measurement bases the receiver used.\n",
        "/// 3 - The bits that the sender prepared in either basis.\n",
        "/// 4 - The bits that were measured by the receiver.\n",
        "/// 5 - The key that the receiver made after comparing bases.\n",
        "\n",
        "operation BB84(N : Int) : (Int[], Int[], Int[], Int[], Int[]) {\n",
        "    use qs = Qubit[N];\n",
        "    let (basesS, bitS) = Sender(qs);\n",
        "    let (basesR, bitR) = Receiver(qs);\n",
        "    // Now we can reconstruct the key\n",
        "    mutable key = [];\n",
        "    for i in 0 .. N - 1 {\n",
        "        if basesR[i] == basesS[i] {\n",
        "            // Append the measurement result in integer form to key\n",
        "            set key += [bitR[i]];\n",
        "        } \n",
        "    }\n",
        "\n",
        "    // Return some other things for analysis\n",
        "    return (basesS, basesR, bitS, bitR, key);\n",
        "}"
      ],
      "outputs": [],
      "execution_count": 5,
      "metadata": {
        "microsoft": {
          "language": "qsharp"
        }
      }
    },
    {
      "cell_type": "markdown",
      "source": [
        "Let's analyze things in Python a bit now."
      ],
      "metadata": {}
    },
    {
      "cell_type": "code",
      "source": [
        "def formatOutput(basesS, basesR, bitS, bitR, key):\n",
        "    keyCopy = key.copy()\n",
        "    same = \"|\" \n",
        "    basisSentChar = \"|\"\n",
        "    basisRecChar = \"|\"\n",
        "    bitSent = \"|\"\n",
        "    bitRec = \"|\"\n",
        "    keyS = \"|\"\n",
        "    keyR = \"|\"\n",
        "    stateSent = \"|\"\n",
        "    for i in range(len(basesR)):\n",
        "        bitSent += ' 1 |' if bitS[i] == 1 else ' 0 |'\n",
        "        bitRec += ' 1 |' if bitR[i] == 1 else ' 0 |'\n",
        "        same += ' y |' if basesR[i] == basesS[i] else ' n |'\n",
        "        keyS += ' {} |'.format(bitS[i]) if basesR[i] == basesS[i] else \"   |\"\n",
        "        keyR += ' {} |'.format(key.pop(0)) if basesR[i] == basesS[i] else \"   |\"\n",
        "        basisRecChar += ' Z |' if basesR[i] == 0 else ' X |'\n",
        "        if basesS[i] == 0:\n",
        "            stateSent += \"|0>|\" if bitS[i] == 0 else \"|1>|\"\n",
        "            basisSentChar += \" Z |\"\n",
        "        else:\n",
        "            stateSent += \"|+>|\" if bitS[i] == 0 else \"|->|\"\n",
        "            basisSentChar += \" X |\"\n",
        "\n",
        "    print(\"Let's compare this to the selected bases, and the transmitted qubit states\")\n",
        "    print(\"Our sender bases were:      {}\".format(basisSentChar))\n",
        "    print(\"The receiver bases were:    {}\".format(basisRecChar))\n",
        "    print(\"Both bases match (yes/no):  {}\".format(same))\n",
        "    print(\"The sender encoded bit:     {}\".format(bitSent))\n",
        "    print(\"The states sent were:       {}\".format(stateSent))\n",
        "    print(\"The receiver measured:      {}\".format(bitRec))\n",
        "    print(\"Notice how the key is formed by the bits where bases are equal\")\n",
        "    print(\"Receiver key:               {}\".format(keyR))\n",
        "    print(\"Sender key:                 {}\".format(keyS))\n",
        "    print(\"The key that was generated was {}\\n\".format(keyCopy))\n",
        "(basesS, basesR, bitS, bitR, key) = BB84.simulate(N=20)\n",
        "formatOutput(basesS, basesR, bitS, bitR, key)"
      ],
      "outputs": [
        {
          "output_type": "stream",
          "name": "stdout",
          "text": "Let's compare this to the selected bases, and the transmitted qubit states\nOur sender bases were:      | Z | Z | X | X | Z | Z | X | X | Z | Z | Z | X | X | X | Z | X | Z | X | X | X |\nThe receiver bases were:    | X | Z | X | Z | X | Z | X | X | X | X | X | X | X | X | X | Z | Z | Z | X | Z |\nBoth bases match (yes/no):  | n | y | y | n | n | y | y | y | n | n | n | y | y | y | n | n | y | n | y | n |\nThe sender encoded bit:     | 0 | 0 | 1 | 1 | 1 | 0 | 1 | 1 | 1 | 0 | 1 | 0 | 1 | 0 | 1 | 0 | 1 | 1 | 1 | 0 |\nThe states sent were:       ||0>||0>||->||->||1>||0>||->||->||1>||0>||1>||+>||->||+>||1>||+>||1>||->||->||+>|\nThe receiver measured:      | 0 | 0 | 1 | 1 | 0 | 0 | 1 | 1 | 1 | 1 | 0 | 0 | 1 | 0 | 0 | 1 | 1 | 1 | 1 | 0 |\nNotice how the key is formed by the bits where bases are equal\nReceiver key:               |   | 0 | 1 |   |   | 0 | 1 | 1 |   |   |   | 0 | 1 | 0 |   |   | 1 |   | 1 |   |\nSender key:                 |   | 0 | 1 |   |   | 0 | 1 | 1 |   |   |   | 0 | 1 | 0 |   |   | 1 |   | 1 |   |\nThe key that was generated was [0, 1, 0, 1, 1, 0, 1, 0, 1, 1]\n\n"
        }
      ],
      "execution_count": 6,
      "metadata": {}
    },
    {
      "cell_type": "markdown",
      "source": [
        "In an ideal scenario we will transmit keys over a noiseless channel with no eavesdroppers. So it is not necessary to check whether the key that has been transmitted is correct. In the real world this may not be true. \n",
        "\n",
        "We can modify our transmission channel by adding an operation in BB84 between the sender and receiver which can add noise and act as an unwanted observer. Let's call this operation ObserverAndNoise(). It will apply an X operation to each qubit with probability, $p$. If we set the observer flag to true it will measure the qubit and apply some strategy for replicating the state."
      ],
      "metadata": {}
    },
    {
      "cell_type": "code",
      "source": [
        "%%qsharp\n",
        "\n",
        "/// # Summary\n",
        "/// This operation adds in a controllable noise source and an observer to the \n",
        "/// key distribution signal chain.\n",
        "///\n",
        "/// # Input\n",
        "/// ## qs\n",
        "/// The qubit array that is being transmitted.\n",
        "/// ## p\n",
        "/// The probability of applying our noise model, in [0, 1]\n",
        "/// ## observer\n",
        "/// A Boolean which indicates whether an observer is present.\n",
        "\n",
        "operation ObserverAndNoise(qs : Qubit[], p : Double, observe : Bool) : Unit {\n",
        "    // First, we will add a really simple noise model\n",
        "    for q in qs { \n",
        "        // Flip qubit with probability p\n",
        "        if DrawRandomBool(p) {\n",
        "            X(q); \n",
        "        }\n",
        "        if observe {\n",
        "            // Measure the qubit\n",
        "            let result = M(q);\n",
        "            // Apply observer's strategy for replicating the state they've intercepted.\n",
        "            // In this case, just send the state that matches the measurement result by \n",
        "            // doing nothing to it, since the measurement leaves it in the measured state. \n",
        "        }\n",
        "    }\n",
        "}"
      ],
      "outputs": [],
      "execution_count": 7,
      "metadata": {
        "microsoft": {
          "language": "qsharp"
        }
      }
    },
    {
      "cell_type": "code",
      "source": [
        "%%qsharp\n",
        "\n",
        "/// # Summary\n",
        "/// A top level operation for BB84 protocol which incorporates the observer and noise.\n",
        "///\n",
        "/// # Input\n",
        "/// ## N\n",
        "/// The number of qubits to attempt key distribution with.\n",
        "/// ## p\n",
        "/// The probability of an error occurring due to the channel noise.\n",
        "/// ## observer\n",
        "/// Indicates the presence of an observer that measures each qubit in the Z basis.\n",
        "/// \n",
        "/// # Output\n",
        "/// A tuple of 5 integer arrays. \n",
        "/// 1 - The preparation bases the sender used.\n",
        "/// 2 - The measurement bases the receiver used.\n",
        "/// 3 - The bits that the sender prepared in either basis.\n",
        "/// 4 - The key that the receiver made after comparing bases.\n",
        "/// 5 - The key that the receiver made after comparing bases.\n",
        "\n",
        "operation BB84_Noisy(N : Int, p : Double, observe : Bool) : (Int[], Int[], Int[], Int[], Int[]) {\n",
        "    use qs = Qubit[N];\n",
        "    let (basesS, bitS) = Sender(qs);\n",
        "\n",
        "    ObserverAndNoise(qs, p, observe);\n",
        "\n",
        "    let (basesR, bitR) = Receiver(qs);\n",
        "    mutable key = [];\n",
        "    // Now we construct the key\n",
        "    for i in 0 .. N - 1 {\n",
        "        if basesR[i] == basesS[i] {\n",
        "            // Append the measurement result in integer form to key\n",
        "            set key += [bitR[i]];\n",
        "        } \n",
        "    }\n",
        "    // Now return some helpful data for analysis.\n",
        "    return (basesS, basesR, bitS, bitR, key);\n",
        "}"
      ],
      "outputs": [],
      "execution_count": 8,
      "metadata": {
        "microsoft": {
          "language": "qsharp"
        }
      }
    },
    {
      "cell_type": "code",
      "source": [
        "import numpy as np\n",
        "\n",
        "obs_levels = [True, False]\n",
        "p_levels = np.array(range(10, 80, 5)) * (1/100)\n",
        "print(obs_levels)\n",
        "print(p_levels)"
      ],
      "outputs": [
        {
          "output_type": "stream",
          "name": "stdout",
          "text": "[True, False]\n[0.1  0.15 0.2  0.25 0.3  0.35 0.4  0.45 0.5  0.55 0.6  0.65 0.7  0.75]\n"
        }
      ],
      "execution_count": 17,
      "metadata": {
        "jupyter": {
          "source_hidden": false,
          "outputs_hidden": false
        },
        "nteract": {
          "transient": {
            "deleting": false
          }
        }
      }
    },
    {
      "cell_type": "code",
      "source": [
        "# (basesS, basesR, bitS, bitR, key) = BB84_Noisy.simulate(N=20, p=0.3, observe=True)\n",
        "# formatOutput(basesS, basesR, bitS, bitR, key)\n",
        "\n",
        "# file_s = open(\"Task 1\", \"w+\")\n",
        "# output = \"\"\n",
        "\n",
        "# for obs_level in obs_levels:\n",
        "#     print(\"****** obs_level: \" + str(obs_level) + \" [START] ******\")\n",
        "#     for p_level in p_levels:\n",
        "#         (basesS, basesR, bitS, bitR, key) = BB84_Noisy.simulate(N=20, p=p_level, observe=True)\n",
        "#         print(\"****** (p_level, obs_leve): (\" + str(p_level) + \", \" + str(obs_level) + \") ******\")\n",
        "#         formatOutput(basesS, basesR, bitS, bitR, key)\n",
        "\n",
        "p_level=0\n",
        "for iter in range(0, 10):\n",
        "    print(\"****** val of iter is: \" + str(iter) + \" ******\")\n",
        "    for obs_level in obs_levels:\n",
        "        print(\"****** obs_level: \" + str(obs_level) + \" [START] ******\")\n",
        "        (basesS, basesR, bitS, bitR, key) = BB84_Noisy.simulate(N=20, p=p_level, observe=True)\n",
        "        print(\"****** (p_level, obs_leve): (\" + str(p_level) + \", \" + str(obs_level) + \") ******\")\n",
        "        formatOutput(basesS, basesR, bitS, bitR, key)\n",
        "\n",
        "# file_s.write(output)\n",
        "# file_s.close()"
      ],
      "outputs": [
        {
          "output_type": "stream",
          "name": "stdout",
          "text": "****** val of iter is: 0 ******\n****** obs_level: True [START] ******\n****** (p_level, obs_leve): (0, True) ******\nLet's compare this to the selected bases, and the transmitted qubit states\nOur sender bases were:      | X | X | Z | X | X | X | X | X | X | Z | X | Z | Z | Z | X | X | Z | X | X | X |\nThe receiver bases were:    | Z | X | Z | X | X | X | Z | Z | X | Z | Z | X | Z | Z | X | Z | Z | Z | X | Z |\nBoth bases match (yes/no):  | n | y | y | y | y | y | n | n | y | y | n | n | y | y | y | n | y | n | y | n |\nThe sender encoded bit:     | 1 | 0 | 0 | 1 | 1 | 1 | 0 | 1 | 0 | 0 | 1 | 1 | 0 | 0 | 1 | 1 | 0 | 1 | 0 | 1 |\nThe states sent were:       ||->||+>||0>||->||->||->||+>||->||+>||0>||->||1>||0>||0>||->||->||0>||->||+>||->|\nThe receiver measured:      | 0 | 0 | 0 | 0 | 1 | 1 | 0 | 0 | 1 | 0 | 0 | 1 | 0 | 0 | 0 | 0 | 0 | 1 | 0 | 0 |\nNotice how the key is formed by the bits where bases are equal\nReceiver key:               |   | 0 | 0 | 0 | 1 | 1 |   |   | 1 | 0 |   |   | 0 | 0 | 0 |   | 0 |   | 0 |   |\nSender key:                 |   | 0 | 0 | 1 | 1 | 1 |   |   | 0 | 0 |   |   | 0 | 0 | 1 |   | 0 |   | 0 |   |\nThe key that was generated was [0, 0, 0, 1, 1, 1, 0, 0, 0, 0, 0, 0]\n\n****** obs_level: False [START] ******\n****** (p_level, obs_leve): (0, False) ******\nLet's compare this to the selected bases, and the transmitted qubit states\nOur sender bases were:      | Z | Z | Z | Z | X | X | X | X | X | Z | X | X | X | Z | X | X | Z | Z | X | X |\nThe receiver bases were:    | X | Z | Z | X | Z | X | X | Z | X | Z | Z | X | Z | X | X | Z | Z | Z | X | X |\nBoth bases match (yes/no):  | n | y | y | n | n | y | y | n | y | y | n | y | n | n | y | n | y | y | y | y |\nThe sender encoded bit:     | 0 | 0 | 0 | 1 | 0 | 0 | 0 | 1 | 0 | 0 | 1 | 0 | 0 | 0 | 1 | 1 | 0 | 0 | 0 | 0 |\nThe states sent were:       ||0>||0>||0>||1>||+>||+>||+>||->||+>||0>||->||+>||+>||0>||->||->||0>||0>||+>||+>|\nThe receiver measured:      | 1 | 0 | 0 | 0 | 0 | 0 | 1 | 0 | 1 | 0 | 1 | 0 | 1 | 1 | 1 | 1 | 0 | 0 | 0 | 1 |\nNotice how the key is formed by the bits where bases are equal\nReceiver key:               |   | 0 | 0 |   |   | 0 | 1 |   | 1 | 0 |   | 0 |   |   | 1 |   | 0 | 0 | 0 | 1 |\nSender key:                 |   | 0 | 0 |   |   | 0 | 0 |   | 0 | 0 |   | 0 |   |   | 1 |   | 0 | 0 | 0 | 0 |\nThe key that was generated was [0, 0, 0, 1, 1, 0, 0, 1, 0, 0, 0, 1]\n\n****** val of iter is: 1 ******\n****** obs_level: True [START] ******\n****** (p_level, obs_leve): (0, True) ******\nLet's compare this to the selected bases, and the transmitted qubit states\nOur sender bases were:      | X | X | X | Z | X | Z | Z | X | Z | X | X | X | X | Z | Z | X | X | X | X | Z |\nThe receiver bases were:    | X | Z | X | Z | Z | Z | X | X | Z | Z | Z | X | Z | Z | Z | X | X | X | Z | Z |\nBoth bases match (yes/no):  | y | n | y | y | n | y | n | y | y | n | n | y | n | y | y | y | y | y | n | y |\nThe sender encoded bit:     | 0 | 1 | 1 | 0 | 1 | 1 | 1 | 1 | 0 | 0 | 1 | 1 | 1 | 1 | 1 | 1 | 0 | 1 | 0 | 1 |\nThe states sent were:       ||+>||->||->||0>||->||1>||1>||->||0>||+>||->||->||->||1>||1>||->||+>||->||+>||1>|\nThe receiver measured:      | 1 | 1 | 0 | 0 | 0 | 1 | 1 | 0 | 0 | 0 | 1 | 1 | 0 | 1 | 1 | 0 | 1 | 0 | 1 | 1 |\nNotice how the key is formed by the bits where bases are equal\nReceiver key:               | 1 |   | 0 | 0 |   | 1 |   | 0 | 0 |   |   | 1 |   | 1 | 1 | 0 | 1 | 0 |   | 1 |\nSender key:                 | 0 |   | 1 | 0 |   | 1 |   | 1 | 0 |   |   | 1 |   | 1 | 1 | 1 | 0 | 1 |   | 1 |\nThe key that was generated was [1, 0, 0, 1, 0, 0, 1, 1, 1, 0, 1, 0, 1]\n\n****** obs_level: False [START] ******\n****** (p_level, obs_leve): (0, False) ******\nLet's compare this to the selected bases, and the transmitted qubit states\nOur sender bases were:      | Z | X | X | Z | X | X | X | Z | Z | X | X | Z | Z | X | Z | Z | Z | Z | X | X |\nThe receiver bases were:    | X | X | Z | Z | Z | Z | Z | X | X | X | Z | Z | X | Z | Z | X | Z | Z | Z | X |\nBoth bases match (yes/no):  | n | y | n | y | n | n | n | n | n | y | n | y | n | n | y | n | y | y | n | y |\nThe sender encoded bit:     | 1 | 0 | 1 | 1 | 0 | 1 | 0 | 1 | 0 | 0 | 0 | 0 | 0 | 0 | 1 | 0 | 1 | 1 | 1 | 0 |\nThe states sent were:       ||1>||+>||->||1>||+>||->||+>||1>||0>||+>||+>||0>||0>||+>||1>||0>||1>||1>||->||+>|\nThe receiver measured:      | 0 | 0 | 1 | 1 | 1 | 1 | 1 | 0 | 0 | 0 | 1 | 0 | 1 | 1 | 1 | 1 | 1 | 1 | 1 | 1 |\nNotice how the key is formed by the bits where bases are equal\nReceiver key:               |   | 0 |   | 1 |   |   |   |   |   | 0 |   | 0 |   |   | 1 |   | 1 | 1 |   | 1 |\nSender key:                 |   | 0 |   | 1 |   |   |   |   |   | 0 |   | 0 |   |   | 1 |   | 1 | 1 |   | 0 |\nThe key that was generated was [0, 1, 0, 0, 1, 1, 1, 1]\n\n****** val of iter is: 2 ******\n****** obs_level: True [START] ******\n****** (p_level, obs_leve): (0, True) ******\nLet's compare this to the selected bases, and the transmitted qubit states\nOur sender bases were:      | X | Z | X | X | X | X | X | X | X | Z | Z | X | X | X | X | X | X | X | Z | X |\nThe receiver bases were:    | Z | X | Z | Z | Z | X | Z | Z | X | X | Z | X | Z | Z | X | X | Z | X | X | X |\nBoth bases match (yes/no):  | n | n | n | n | n | y | n | n | y | n | y | y | n | n | y | y | n | y | n | y |\nThe sender encoded bit:     | 0 | 1 | 0 | 0 | 0 | 1 | 1 | 0 | 0 | 0 | 0 | 0 | 1 | 0 | 0 | 0 | 0 | 0 | 1 | 0 |\nThe states sent were:       ||+>||1>||+>||+>||+>||->||->||+>||+>||0>||0>||+>||->||+>||+>||+>||+>||+>||1>||+>|\nThe receiver measured:      | 1 | 0 | 0 | 0 | 0 | 1 | 1 | 1 | 0 | 0 | 0 | 0 | 0 | 1 | 0 | 1 | 0 | 0 | 0 | 1 |\nNotice how the key is formed by the bits where bases are equal\nReceiver key:               |   |   |   |   |   | 1 |   |   | 0 |   | 0 | 0 |   |   | 0 | 1 |   | 0 |   | 1 |\nSender key:                 |   |   |   |   |   | 1 |   |   | 0 |   | 0 | 0 |   |   | 0 | 0 |   | 0 |   | 0 |\nThe key that was generated was [1, 0, 0, 0, 0, 1, 0, 1]\n\n****** obs_level: False [START] ******\n****** (p_level, obs_leve): (0, False) ******\nLet's compare this to the selected bases, and the transmitted qubit states\nOur sender bases were:      | X | X | X | X | Z | X | X | Z | Z | X | X | X | Z | X | X | Z | Z | X | X | Z |\nThe receiver bases were:    | Z | X | X | X | X | Z | X | X | X | Z | X | Z | Z | X | Z | Z | X | Z | X | Z |\nBoth bases match (yes/no):  | n | y | y | y | n | n | y | n | n | n | y | n | y | y | n | y | n | n | y | y |\nThe sender encoded bit:     | 0 | 1 | 0 | 0 | 0 | 0 | 0 | 1 | 0 | 1 | 1 | 1 | 1 | 1 | 0 | 1 | 0 | 1 | 0 | 1 |\nThe states sent were:       ||+>||->||+>||+>||0>||+>||+>||1>||0>||->||->||->||1>||->||+>||1>||0>||->||+>||1>|\nThe receiver measured:      | 1 | 0 | 1 | 1 | 1 | 0 | 0 | 0 | 1 | 1 | 1 | 0 | 1 | 1 | 1 | 1 | 0 | 0 | 0 | 1 |\nNotice how the key is formed by the bits where bases are equal\nReceiver key:               |   | 0 | 1 | 1 |   |   | 0 |   |   |   | 1 |   | 1 | 1 |   | 1 |   |   | 0 | 1 |\nSender key:                 |   | 1 | 0 | 0 |   |   | 0 |   |   |   | 1 |   | 1 | 1 |   | 1 |   |   | 0 | 1 |\nThe key that was generated was [0, 1, 1, 0, 1, 1, 1, 1, 0, 1]\n\n****** val of iter is: 3 ******\n****** obs_level: True [START] ******\n****** (p_level, obs_leve): (0, True) ******\nLet's compare this to the selected bases, and the transmitted qubit states\nOur sender bases were:      | X | Z | Z | Z | Z | Z | X | X | X | Z | Z | X | Z | Z | Z | Z | X | Z | X | Z |\nThe receiver bases were:    | X | Z | Z | Z | X | X | X | Z | X | X | X | X | X | Z | X | X | X | Z | X | X |\nBoth bases match (yes/no):  | y | y | y | y | n | n | y | n | y | n | n | y | n | y | n | n | y | y | y | n |\nThe sender encoded bit:     | 0 | 0 | 0 | 1 | 0 | 0 | 1 | 0 | 1 | 1 | 1 | 0 | 1 | 1 | 0 | 1 | 1 | 1 | 1 | 1 |\nThe states sent were:       ||+>||0>||0>||1>||0>||0>||->||+>||->||1>||1>||+>||1>||1>||0>||1>||->||1>||->||1>|\nThe receiver measured:      | 0 | 0 | 0 | 1 | 0 | 1 | 1 | 0 | 0 | 1 | 0 | 1 | 1 | 1 | 0 | 0 | 1 | 1 | 0 | 1 |\nNotice how the key is formed by the bits where bases are equal\nReceiver key:               | 0 | 0 | 0 | 1 |   |   | 1 |   | 0 |   |   | 1 |   | 1 |   |   | 1 | 1 | 0 |   |\nSender key:                 | 0 | 0 | 0 | 1 |   |   | 1 |   | 1 |   |   | 0 |   | 1 |   |   | 1 | 1 | 1 |   |\nThe key that was generated was [0, 0, 0, 1, 1, 0, 1, 1, 1, 1, 0]\n\n****** obs_level: False [START] ******\n****** (p_level, obs_leve): (0, False) ******\nLet's compare this to the selected bases, and the transmitted qubit states\nOur sender bases were:      | X | Z | X | X | Z | X | X | X | X | X | X | Z | Z | Z | X | Z | Z | X | X | Z |\nThe receiver bases were:    | X | Z | X | Z | X | Z | X | Z | X | X | Z | Z | X | X | Z | Z | X | X | X | Z |\nBoth bases match (yes/no):  | y | y | y | n | n | n | y | n | y | y | n | y | n | n | n | y | n | y | y | y |\nThe sender encoded bit:     | 1 | 1 | 0 | 1 | 0 | 1 | 0 | 1 | 1 | 1 | 1 | 0 | 1 | 1 | 0 | 1 | 0 | 0 | 1 | 1 |\nThe states sent were:       ||->||1>||+>||->||0>||->||+>||->||->||->||->||0>||1>||1>||+>||1>||0>||+>||->||1>|\nThe receiver measured:      | 1 | 1 | 1 | 0 | 0 | 0 | 1 | 0 | 1 | 0 | 0 | 0 | 1 | 0 | 1 | 1 | 0 | 1 | 0 | 1 |\nNotice how the key is formed by the bits where bases are equal\nReceiver key:               | 1 | 1 | 1 |   |   |   | 1 |   | 1 | 0 |   | 0 |   |   |   | 1 |   | 1 | 0 | 1 |\nSender key:                 | 1 | 1 | 0 |   |   |   | 0 |   | 1 | 1 |   | 0 |   |   |   | 1 |   | 0 | 1 | 1 |\nThe key that was generated was [1, 1, 1, 1, 1, 0, 0, 1, 1, 0, 1]\n\n****** val of iter is: 4 ******\n****** obs_level: True [START] ******\n****** (p_level, obs_leve): (0, True) ******\nLet's compare this to the selected bases, and the transmitted qubit states\nOur sender bases were:      | Z | X | X | Z | X | Z | X | Z | X | Z | X | X | Z | Z | Z | X | Z | X | Z | Z |\nThe receiver bases were:    | X | Z | X | X | X | X | X | Z | X | X | Z | Z | Z | Z | X | X | Z | Z | Z | Z |\nBoth bases match (yes/no):  | n | n | y | n | y | n | y | y | y | n | n | n | y | y | n | y | y | n | y | y |\nThe sender encoded bit:     | 0 | 1 | 0 | 1 | 0 | 1 | 0 | 0 | 0 | 1 | 1 | 1 | 1 | 1 | 1 | 1 | 1 | 1 | 1 | 1 |\nThe states sent were:       ||0>||->||+>||1>||+>||1>||+>||0>||+>||1>||->||->||1>||1>||1>||->||1>||->||1>||1>|\nThe receiver measured:      | 1 | 1 | 0 | 1 | 0 | 1 | 1 | 0 | 0 | 0 | 0 | 1 | 1 | 1 | 0 | 1 | 1 | 1 | 1 | 1 |\nNotice how the key is formed by the bits where bases are equal\nReceiver key:               |   |   | 0 |   | 0 |   | 1 | 0 | 0 |   |   |   | 1 | 1 |   | 1 | 1 |   | 1 | 1 |\nSender key:                 |   |   | 0 |   | 0 |   | 0 | 0 | 0 |   |   |   | 1 | 1 |   | 1 | 1 |   | 1 | 1 |\nThe key that was generated was [0, 0, 1, 0, 0, 1, 1, 1, 1, 1, 1]\n\n****** obs_level: False [START] ******\n****** (p_level, obs_leve): (0, False) ******\nLet's compare this to the selected bases, and the transmitted qubit states\nOur sender bases were:      | Z | Z | X | Z | Z | Z | Z | X | Z | Z | Z | Z | Z | Z | Z | X | Z | Z | Z | Z |\nThe receiver bases were:    | Z | X | Z | Z | Z | Z | X | X | X | X | X | X | Z | Z | Z | Z | Z | Z | X | Z |\nBoth bases match (yes/no):  | y | n | n | y | y | y | n | y | n | n | n | n | y | y | y | n | y | y | n | y |\nThe sender encoded bit:     | 1 | 0 | 0 | 1 | 0 | 0 | 1 | 0 | 0 | 0 | 0 | 1 | 1 | 1 | 1 | 1 | 0 | 0 | 0 | 0 |\nThe states sent were:       ||1>||0>||+>||1>||0>||0>||1>||+>||0>||0>||0>||1>||1>||1>||1>||->||0>||0>||0>||0>|\nThe receiver measured:      | 1 | 1 | 1 | 1 | 0 | 0 | 0 | 1 | 0 | 0 | 0 | 0 | 1 | 1 | 1 | 1 | 0 | 0 | 0 | 0 |\nNotice how the key is formed by the bits where bases are equal\nReceiver key:               | 1 |   |   | 1 | 0 | 0 |   | 1 |   |   |   |   | 1 | 1 | 1 |   | 0 | 0 |   | 0 |\nSender key:                 | 1 |   |   | 1 | 0 | 0 |   | 0 |   |   |   |   | 1 | 1 | 1 |   | 0 | 0 |   | 0 |\nThe key that was generated was [1, 1, 0, 0, 1, 1, 1, 1, 0, 0, 0]\n\n****** val of iter is: 5 ******\n****** obs_level: True [START] ******\n****** (p_level, obs_leve): (0, True) ******\nLet's compare this to the selected bases, and the transmitted qubit states\nOur sender bases were:      | X | Z | X | Z | X | Z | Z | X | Z | Z | X | Z | Z | Z | Z | Z | Z | Z | X | X |\nThe receiver bases were:    | X | Z | X | Z | X | Z | Z | X | X | X | Z | X | X | X | X | Z | Z | X | X | X |\nBoth bases match (yes/no):  | y | y | y | y | y | y | y | y | n | n | n | n | n | n | n | y | y | n | y | y |\nThe sender encoded bit:     | 0 | 0 | 1 | 0 | 0 | 0 | 0 | 0 | 1 | 1 | 1 | 1 | 1 | 0 | 1 | 1 | 0 | 1 | 1 | 0 |\nThe states sent were:       ||+>||0>||->||0>||+>||0>||0>||+>||1>||1>||->||1>||1>||0>||1>||1>||0>||1>||->||+>|\nThe receiver measured:      | 0 | 0 | 1 | 0 | 0 | 0 | 0 | 0 | 1 | 0 | 1 | 0 | 0 | 1 | 1 | 1 | 0 | 1 | 0 | 0 |\nNotice how the key is formed by the bits where bases are equal\nReceiver key:               | 0 | 0 | 1 | 0 | 0 | 0 | 0 | 0 |   |   |   |   |   |   |   | 1 | 0 |   | 0 | 0 |\nSender key:                 | 0 | 0 | 1 | 0 | 0 | 0 | 0 | 0 |   |   |   |   |   |   |   | 1 | 0 |   | 1 | 0 |\nThe key that was generated was [0, 0, 1, 0, 0, 0, 0, 0, 1, 0, 0, 0]\n\n****** obs_level: False [START] ******\n****** (p_level, obs_leve): (0, False) ******\nLet's compare this to the selected bases, and the transmitted qubit states\nOur sender bases were:      | X | X | Z | Z | Z | Z | X | X | X | X | Z | X | Z | X | X | X | Z | X | Z | X |\nThe receiver bases were:    | X | Z | X | X | X | Z | X | X | Z | Z | Z | X | X | X | X | Z | Z | X | Z | Z |\nBoth bases match (yes/no):  | y | n | n | n | n | y | y | y | n | n | y | y | n | y | y | n | y | y | y | n |\nThe sender encoded bit:     | 1 | 0 | 0 | 0 | 1 | 1 | 0 | 0 | 0 | 1 | 0 | 0 | 0 | 0 | 1 | 0 | 0 | 1 | 0 | 1 |\nThe states sent were:       ||->||+>||0>||0>||1>||1>||+>||+>||+>||->||0>||+>||0>||+>||->||+>||0>||->||0>||->|\nThe receiver measured:      | 0 | 1 | 0 | 0 | 0 | 1 | 1 | 1 | 1 | 0 | 0 | 1 | 0 | 0 | 0 | 0 | 0 | 0 | 0 | 1 |\nNotice how the key is formed by the bits where bases are equal\nReceiver key:               | 0 |   |   |   |   | 1 | 1 | 1 |   |   | 0 | 1 |   | 0 | 0 |   | 0 | 0 | 0 |   |\nSender key:                 | 1 |   |   |   |   | 1 | 0 | 0 |   |   | 0 | 0 |   | 0 | 1 |   | 0 | 1 | 0 |   |\nThe key that was generated was [0, 1, 1, 1, 0, 1, 0, 0, 0, 0, 0]\n\n****** val of iter is: 6 ******\n****** obs_level: True [START] ******\n****** (p_level, obs_leve): (0, True) ******\nLet's compare this to the selected bases, and the transmitted qubit states\nOur sender bases were:      | X | X | X | X | Z | Z | Z | Z | Z | X | X | X | X | X | X | X | Z | Z | Z | X |\nThe receiver bases were:    | Z | Z | Z | X | X | Z | X | X | Z | X | Z | Z | X | X | X | Z | X | Z | Z | Z |\nBoth bases match (yes/no):  | n | n | n | y | n | y | n | n | y | y | n | n | y | y | y | n | n | y | y | n |\nThe sender encoded bit:     | 1 | 1 | 0 | 1 | 0 | 1 | 0 | 0 | 0 | 0 | 0 | 1 | 0 | 0 | 1 | 0 | 1 | 0 | 1 | 0 |\nThe states sent were:       ||->||->||+>||->||0>||1>||0>||0>||0>||+>||+>||->||+>||+>||->||+>||1>||0>||1>||+>|\nThe receiver measured:      | 1 | 0 | 0 | 1 | 1 | 1 | 1 | 0 | 0 | 0 | 0 | 0 | 0 | 0 | 0 | 1 | 1 | 0 | 1 | 1 |\nNotice how the key is formed by the bits where bases are equal\nReceiver key:               |   |   |   | 1 |   | 1 |   |   | 0 | 0 |   |   | 0 | 0 | 0 |   |   | 0 | 1 |   |\nSender key:                 |   |   |   | 1 |   | 1 |   |   | 0 | 0 |   |   | 0 | 0 | 1 |   |   | 0 | 1 |   |\nThe key that was generated was [1, 1, 0, 0, 0, 0, 0, 0, 1]\n\n****** obs_level: False [START] ******\n****** (p_level, obs_leve): (0, False) ******\nLet's compare this to the selected bases, and the transmitted qubit states\nOur sender bases were:      | X | X | X | Z | X | Z | Z | Z | Z | Z | X | Z | Z | Z | Z | Z | Z | Z | Z | Z |\nThe receiver bases were:    | X | Z | Z | Z | Z | Z | X | Z | Z | Z | Z | Z | Z | Z | Z | Z | Z | X | X | X |\nBoth bases match (yes/no):  | y | n | n | y | n | y | n | y | y | y | n | y | y | y | y | y | y | n | n | n |\nThe sender encoded bit:     | 1 | 0 | 0 | 1 | 0 | 0 | 1 | 1 | 0 | 1 | 1 | 1 | 0 | 0 | 0 | 1 | 0 | 0 | 1 | 0 |\nThe states sent were:       ||->||+>||+>||1>||+>||0>||1>||1>||0>||1>||->||1>||0>||0>||0>||1>||0>||0>||1>||0>|\nThe receiver measured:      | 0 | 1 | 1 | 1 | 1 | 0 | 0 | 1 | 0 | 1 | 0 | 1 | 0 | 0 | 0 | 1 | 0 | 1 | 1 | 1 |\nNotice how the key is formed by the bits where bases are equal\nReceiver key:               | 0 |   |   | 1 |   | 0 |   | 1 | 0 | 1 |   | 1 | 0 | 0 | 0 | 1 | 0 |   |   |   |\nSender key:                 | 1 |   |   | 1 |   | 0 |   | 1 | 0 | 1 |   | 1 | 0 | 0 | 0 | 1 | 0 |   |   |   |\nThe key that was generated was [0, 1, 0, 1, 0, 1, 1, 0, 0, 0, 1, 0]\n\n****** val of iter is: 7 ******\n****** obs_level: True [START] ******\n****** (p_level, obs_leve): (0, True) ******\nLet's compare this to the selected bases, and the transmitted qubit states\nOur sender bases were:      | X | Z | Z | X | Z | Z | Z | Z | X | X | X | Z | Z | X | Z | X | Z | X | Z | Z |\nThe receiver bases were:    | X | Z | Z | X | X | X | X | X | X | Z | Z | X | X | Z | Z | X | X | X | X | Z |\nBoth bases match (yes/no):  | y | y | y | y | n | n | n | n | y | n | n | n | n | n | y | y | n | y | n | y |\nThe sender encoded bit:     | 0 | 1 | 1 | 1 | 0 | 0 | 0 | 1 | 0 | 1 | 1 | 1 | 0 | 1 | 1 | 0 | 0 | 1 | 0 | 0 |\nThe states sent were:       ||+>||1>||1>||->||0>||0>||0>||1>||+>||->||->||1>||0>||->||1>||+>||0>||->||0>||0>|\nThe receiver measured:      | 1 | 1 | 1 | 0 | 0 | 1 | 1 | 1 | 0 | 0 | 1 | 1 | 0 | 1 | 1 | 1 | 1 | 1 | 1 | 0 |\nNotice how the key is formed by the bits where bases are equal\nReceiver key:               | 1 | 1 | 1 | 0 |   |   |   |   | 0 |   |   |   |   |   | 1 | 1 |   | 1 |   | 0 |\nSender key:                 | 0 | 1 | 1 | 1 |   |   |   |   | 0 |   |   |   |   |   | 1 | 0 |   | 1 |   | 0 |\nThe key that was generated was [1, 1, 1, 0, 0, 1, 1, 1, 0]\n\n****** obs_level: False [START] ******\n****** (p_level, obs_leve): (0, False) ******\nLet's compare this to the selected bases, and the transmitted qubit states\nOur sender bases were:      | X | X | Z | X | Z | Z | Z | X | Z | Z | Z | X | X | X | Z | Z | X | X | Z | Z |\nThe receiver bases were:    | X | X | Z | X | Z | X | X | Z | X | Z | Z | Z | Z | X | Z | X | X | X | Z | Z |\nBoth bases match (yes/no):  | y | y | y | y | y | n | n | n | n | y | y | n | n | y | y | n | y | y | y | y |\nThe sender encoded bit:     | 0 | 0 | 0 | 0 | 1 | 0 | 0 | 1 | 1 | 0 | 0 | 1 | 0 | 0 | 1 | 1 | 1 | 1 | 0 | 0 |\nThe states sent were:       ||+>||+>||0>||+>||1>||0>||0>||->||1>||0>||0>||->||+>||+>||1>||1>||->||->||0>||0>|\nThe receiver measured:      | 0 | 0 | 0 | 0 | 1 | 1 | 0 | 0 | 0 | 0 | 0 | 1 | 0 | 0 | 1 | 1 | 1 | 0 | 0 | 0 |\nNotice how the key is formed by the bits where bases are equal\nReceiver key:               | 0 | 0 | 0 | 0 | 1 |   |   |   |   | 0 | 0 |   |   | 0 | 1 |   | 1 | 0 | 0 | 0 |\nSender key:                 | 0 | 0 | 0 | 0 | 1 |   |   |   |   | 0 | 0 |   |   | 0 | 1 |   | 1 | 1 | 0 | 0 |\nThe key that was generated was [0, 0, 0, 0, 1, 0, 0, 0, 1, 1, 0, 0, 0]\n\n****** val of iter is: 8 ******\n****** obs_level: True [START] ******\n****** (p_level, obs_leve): (0, True) ******\nLet's compare this to the selected bases, and the transmitted qubit states\nOur sender bases were:      | Z | X | X | Z | X | Z | X | Z | Z | Z | Z | X | Z | Z | X | Z | X | X | Z | Z |\nThe receiver bases were:    | Z | X | X | Z | X | X | X | Z | Z | Z | X | Z | X | Z | Z | Z | X | Z | Z | X |\nBoth bases match (yes/no):  | y | y | y | y | y | n | y | y | y | y | n | n | n | y | n | y | y | n | y | n |\nThe sender encoded bit:     | 1 | 0 | 0 | 0 | 0 | 1 | 1 | 0 | 0 | 0 | 0 | 0 | 1 | 0 | 1 | 0 | 1 | 1 | 1 | 0 |\nThe states sent were:       ||1>||+>||+>||0>||+>||1>||->||0>||0>||0>||0>||+>||1>||0>||->||0>||->||->||1>||0>|\nThe receiver measured:      | 1 | 1 | 0 | 0 | 0 | 0 | 0 | 0 | 0 | 0 | 0 | 0 | 1 | 0 | 0 | 0 | 0 | 0 | 1 | 1 |\nNotice how the key is formed by the bits where bases are equal\nReceiver key:               | 1 | 1 | 0 | 0 | 0 |   | 0 | 0 | 0 | 0 |   |   |   | 0 |   | 0 | 0 |   | 1 |   |\nSender key:                 | 1 | 0 | 0 | 0 | 0 |   | 1 | 0 | 0 | 0 |   |   |   | 0 |   | 0 | 1 |   | 1 |   |\nThe key that was generated was [1, 1, 0, 0, 0, 0, 0, 0, 0, 0, 0, 0, 1]\n\n****** obs_level: False [START] ******\n****** (p_level, obs_leve): (0, False) ******\nLet's compare this to the selected bases, and the transmitted qubit states\nOur sender bases were:      | Z | Z | X | Z | Z | Z | Z | X | X | X | Z | Z | Z | Z | X | X | Z | X | X | Z |\nThe receiver bases were:    | Z | X | X | X | Z | X | Z | Z | Z | X | Z | Z | Z | X | Z | X | X | Z | X | X |\nBoth bases match (yes/no):  | y | n | y | n | y | n | y | n | n | y | y | y | y | n | n | y | n | n | y | n |\nThe sender encoded bit:     | 0 | 1 | 0 | 1 | 0 | 1 | 0 | 0 | 0 | 1 | 1 | 1 | 1 | 1 | 0 | 1 | 0 | 0 | 1 | 0 |\nThe states sent were:       ||0>||1>||+>||1>||0>||1>||0>||+>||+>||->||1>||1>||1>||1>||+>||->||0>||+>||->||0>|\nThe receiver measured:      | 0 | 1 | 0 | 0 | 0 | 0 | 0 | 1 | 0 | 0 | 1 | 1 | 1 | 0 | 0 | 1 | 1 | 1 | 1 | 0 |\nNotice how the key is formed by the bits where bases are equal\nReceiver key:               | 0 |   | 0 |   | 0 |   | 0 |   |   | 0 | 1 | 1 | 1 |   |   | 1 |   |   | 1 |   |\nSender key:                 | 0 |   | 0 |   | 0 |   | 0 |   |   | 1 | 1 | 1 | 1 |   |   | 1 |   |   | 1 |   |\nThe key that was generated was [0, 0, 0, 0, 0, 1, 1, 1, 1, 1]\n\n****** val of iter is: 9 ******\n****** obs_level: True [START] ******\n****** (p_level, obs_leve): (0, True) ******\nLet's compare this to the selected bases, and the transmitted qubit states\nOur sender bases were:      | X | X | X | Z | X | Z | Z | X | X | X | X | X | Z | Z | Z | X | X | Z | Z | Z |\nThe receiver bases were:    | X | X | X | Z | Z | Z | X | X | Z | Z | X | X | Z | X | X | Z | X | X | X | Z |\nBoth bases match (yes/no):  | y | y | y | y | n | y | n | y | n | n | y | y | y | n | n | n | y | n | n | y |\nThe sender encoded bit:     | 1 | 1 | 0 | 0 | 0 | 1 | 0 | 0 | 1 | 1 | 1 | 1 | 1 | 1 | 0 | 0 | 0 | 0 | 1 | 0 |\nThe states sent were:       ||->||->||+>||0>||+>||1>||0>||+>||->||->||->||->||1>||1>||0>||+>||+>||0>||1>||0>|\nThe receiver measured:      | 0 | 1 | 0 | 0 | 1 | 1 | 1 | 1 | 1 | 0 | 0 | 1 | 1 | 1 | 1 | 1 | 1 | 1 | 0 | 0 |\nNotice how the key is formed by the bits where bases are equal\nReceiver key:               | 0 | 1 | 0 | 0 |   | 1 |   | 1 |   |   | 0 | 1 | 1 |   |   |   | 1 |   |   | 0 |\nSender key:                 | 1 | 1 | 0 | 0 |   | 1 |   | 0 |   |   | 1 | 1 | 1 |   |   |   | 0 |   |   | 0 |\nThe key that was generated was [0, 1, 0, 0, 1, 1, 0, 1, 1, 1, 0]\n\n****** obs_level: False [START] ******\n****** (p_level, obs_leve): (0, False) ******\nLet's compare this to the selected bases, and the transmitted qubit states\nOur sender bases were:      | X | Z | Z | X | X | X | Z | Z | Z | Z | X | X | X | Z | X | Z | X | Z | X | Z |\nThe receiver bases were:    | Z | X | Z | X | X | Z | Z | Z | Z | X | X | X | Z | X | X | Z | X | X | X | Z |\nBoth bases match (yes/no):  | n | n | y | y | y | n | y | y | y | n | y | y | n | n | y | y | y | n | y | y |\nThe sender encoded bit:     | 0 | 1 | 0 | 1 | 0 | 1 | 1 | 1 | 0 | 1 | 0 | 1 | 0 | 1 | 1 | 0 | 1 | 1 | 0 | 1 |\nThe states sent were:       ||+>||1>||0>||->||+>||->||1>||1>||0>||1>||+>||->||+>||1>||->||0>||->||1>||+>||1>|\nThe receiver measured:      | 0 | 1 | 0 | 0 | 0 | 1 | 1 | 1 | 0 | 0 | 1 | 0 | 0 | 1 | 1 | 0 | 1 | 0 | 0 | 1 |\nNotice how the key is formed by the bits where bases are equal\nReceiver key:               |   |   | 0 | 0 | 0 |   | 1 | 1 | 0 |   | 1 | 0 |   |   | 1 | 0 | 1 |   | 0 | 1 |\nSender key:                 |   |   | 0 | 1 | 0 |   | 1 | 1 | 0 |   | 0 | 1 |   |   | 1 | 0 | 1 |   | 0 | 1 |\nThe key that was generated was [0, 0, 0, 1, 1, 0, 1, 0, 1, 0, 1, 0, 1]\n\n"
        }
      ],
      "execution_count": 34,
      "metadata": {}
    },
    {
      "cell_type": "markdown",
      "source": [
        "### <span style=\"color:#61c2e8\">Task 1 Questions</span>:\n",
        "* T1.1. Experiment with noise levels and turning the observer on and off. In the results, can you distinguish the noise from the observer?\n",
        "\n",
        "* T1.2. Assuming there is no noise, how can the sender and the receiver identify the presence of the observer?"
      ],
      "metadata": {}
    },
    {
      "cell_type": "markdown",
      "source": [
        "##### T1.1\n",
        "\n",
        "To experiment with noise levels and how the observer plays a role in BB84 communication methods, I have simulated for *p* values from *p*$=0.1$ to *p*$=0.75$ in steps of $0.05$ with the effects of the observer and without the effects of the observer. I ran this simulation over $10$ times. The results of $10$ of the simulations are shown graphically below."
      ],
      "metadata": {
        "nteract": {
          "transient": {
            "deleting": false
          }
        }
      }
    },
    {
      "cell_type": "markdown",
      "source": [
        "![Simulation 1](https://raw.githubusercontent.com/aniruddha121500/ECE59500_proj/main/simulation_1.png)"
      ],
      "metadata": {
        "nteract": {
          "transient": {
            "deleting": false
          }
        }
      }
    },
    {
      "cell_type": "markdown",
      "source": [
        "![Simulation 2](https://raw.githubusercontent.com/aniruddha121500/ECE59500_proj/main/simulation_2.png)"
      ],
      "metadata": {
        "nteract": {
          "transient": {
            "deleting": false
          }
        }
      }
    },
    {
      "cell_type": "markdown",
      "source": [
        "![Simulation 3](https://raw.githubusercontent.com/aniruddha121500/ECE59500_proj/main/simulation_3.png)"
      ],
      "metadata": {
        "nteract": {
          "transient": {
            "deleting": false
          }
        }
      }
    },
    {
      "cell_type": "markdown",
      "source": [
        "![Simulation 4](https://raw.githubusercontent.com/aniruddha121500/ECE59500_proj/main/simulation_4.png)"
      ],
      "metadata": {
        "nteract": {
          "transient": {
            "deleting": false
          }
        }
      }
    },
    {
      "cell_type": "markdown",
      "source": [
        "![Simulation 5](https://raw.githubusercontent.com/aniruddha121500/ECE59500_proj/main/simulation_5.png)"
      ],
      "metadata": {
        "nteract": {
          "transient": {
            "deleting": false
          }
        }
      }
    },
    {
      "cell_type": "markdown",
      "source": [
        "![Simulation 6](https://raw.githubusercontent.com/aniruddha121500/ECE59500_proj/main/simulation_6.png)"
      ],
      "metadata": {
        "nteract": {
          "transient": {
            "deleting": false
          }
        }
      }
    },
    {
      "cell_type": "markdown",
      "source": [
        "![SImulation 7](https://raw.githubusercontent.com/aniruddha121500/ECE59500_proj/main/simulation_7.png)"
      ],
      "metadata": {
        "nteract": {
          "transient": {
            "deleting": false
          }
        }
      }
    },
    {
      "cell_type": "markdown",
      "source": [
        "![Simulation 8](https://raw.githubusercontent.com/aniruddha121500/ECE59500_proj/main/simulation_8.png)"
      ],
      "metadata": {
        "nteract": {
          "transient": {
            "deleting": false
          }
        }
      }
    },
    {
      "cell_type": "markdown",
      "source": [
        "![Simulation 9](https://raw.githubusercontent.com/aniruddha121500/ECE59500_proj/main/simulation_9.png)"
      ],
      "metadata": {
        "nteract": {
          "transient": {
            "deleting": false
          }
        }
      }
    },
    {
      "cell_type": "markdown",
      "source": [
        "![Simulation 10](https://raw.githubusercontent.com/aniruddha121500/ECE59500_proj/main/simulation_10.png)"
      ],
      "metadata": {
        "nteract": {
          "transient": {
            "deleting": false
          }
        }
      }
    },
    {
      "cell_type": "markdown",
      "source": [
        "As seen by the simulation outputs above, it is very hard to distinguish an observer from noise. WHen we are guranteed that the channel does not have any noise and we observe a disturbance in the communication channel then we have reason to believe that there is an unwanted observer in the communication channel. Nevertheless, this relationship is not very evident from the simulated runs shown above."
      ],
      "metadata": {
        "nteract": {
          "transient": {
            "deleting": false
          }
        }
      }
    },
    {
      "cell_type": "markdown",
      "source": [
        "##### T1.2\n",
        "\n",
        "As mentioned above, if we are guranteed that the communication channel does not have any noise then one way to know if there is an unwanted observer is to check for noise. In a noiseless communication channel, if there is noise between the sender and recieverm then the noise is generated by an unwanted observer. Although this relationship is not very evident from the simulated runs shown above, theoretically, the presence of an observer should induce more noise into the cimmunication channle than if the unwanted observer was absent."
      ],
      "metadata": {
        "nteract": {
          "transient": {
            "deleting": false
          }
        }
      }
    },
    {
      "cell_type": "markdown",
      "source": [
        "For task 2 of this assignment we will be moving to a new notebook file. Please now open Assignment_3_Task2 to begin. "
      ],
      "metadata": {}
    }
  ],
  "metadata": {
    "kernelspec": {
      "name": "python3",
      "language": "python",
      "display_name": "Python 3 (ipykernel)"
    },
    "language_info": {
      "name": "python",
      "version": "3.9.15",
      "mimetype": "text/x-python",
      "codemirror_mode": {
        "name": "ipython",
        "version": 3
      },
      "pygments_lexer": "ipython3",
      "nbconvert_exporter": "python",
      "file_extension": ".py"
    },
    "vscode": {
      "interpreter": {
        "hash": "1cde0123ad091c17bb3dac1610a1b00e4cc7ccaccc904fd2e4f3100417f26ae7"
      }
    },
    "kernel_info": {
      "name": "python3"
    },
    "nteract": {
      "version": "nteract-front-end@1.0.0"
    }
  },
  "nbformat": 4,
  "nbformat_minor": 2
}