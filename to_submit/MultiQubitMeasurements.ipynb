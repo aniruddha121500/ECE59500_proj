{
  "cells": [
    {
      "cell_type": "markdown",
      "source": [
        "# Assignment 2 - Essential Concepts in Quantum Computing\n",
        "In class you have learned about entangling operations like the controlled-not (CNOT) and controlled-Z (CZ) gates which allow us to create non-separable qubit states. In this assignment we are going to explore how these gates affect the ways in which we measure and manipulate qubits. For reference, the $4 \\times 4$ matrices which represent the CNOT and CZ gates are:\n",
        "\n",
        "$CNOT = \\begin{bmatrix} 1&0&0&0\\\\0&1&0&0\\\\0&0&0&1\\\\0&0&1&0\\end{bmatrix}\\;\\;\\;\\;\\;\\; CZ = \\begin{bmatrix}1&0&0&0\\\\0&1&0&0\\\\0&0&1&0\\\\0&0&0&-1\\end{bmatrix}$\n",
        "\n",
        "We will also be using the Hadamard (H) gate in this assignment. Its matrix is:\n",
        "\n",
        "$H = \\frac{1}{\\sqrt{2}}\\begin{bmatrix} 1 & 1 \\\\ 1 & -1 \\end{bmatrix}$"
      ],
      "metadata": {}
    },
    {
      "cell_type": "markdown",
      "source": [
        "#### Run these cells before beginning to import necessary packages.\n",
        "This cell may take a minute or more to complete. Importing qsharp triggers a sequence of actions which allow us to compile and run Q# code in this notebook."
      ],
      "metadata": {}
    },
    {
      "cell_type": "code",
      "source": [
        "import qsharp\n",
        "import qsharp.azure\n",
        "import matplotlib.pyplot as plt"
      ],
      "outputs": [
        {
          "output_type": "stream",
          "name": "stdout",
          "text": "Preparing Q# environment...\n."
        }
      ],
      "execution_count": 2,
      "metadata": {}
    },
    {
      "cell_type": "code",
      "source": [
        "%%qsharp \n",
        "open Microsoft.Quantum.Diagnostics; \n",
        "open Microsoft.Quantum.Canon;\n",
        "open Microsoft.Quantum.Arrays;"
      ],
      "outputs": [],
      "execution_count": 3,
      "metadata": {
        "microsoft": {
          "language": "qsharp"
        }
      }
    },
    {
      "cell_type": "markdown",
      "source": [
        "### <span style=\"color:#61c2e8\">Task 1</span>: Bell States and Partial Measurement\n",
        "The simplest entangled state which can be prepared is the Bell state. The state vector of the Bell state is: $$\\frac{1}{\\sqrt{2}}(|00\\rangle + |11\\rangle) = \\frac{1}{\\sqrt{2}}\\begin{bmatrix}1\\\\0\\\\0\\\\1\\end{bmatrix}$$\n",
        "Below is Q# code for creating the Bell state."
      ],
      "metadata": {}
    },
    {
      "cell_type": "code",
      "source": [
        "%%qsharp\n",
        "\n",
        "/// # Summary\n",
        "/// Creates a Bell pair and then prints the state vector using DumpMachine() \n",
        "\n",
        "operation Bell() : Unit {\n",
        "    // Allocate two qubits, both start in the |0⟩ state\n",
        "    use qs = Qubit[2];     \n",
        "    // Apply a Hadamard gate to qubit 0\n",
        "    H(qs[0]);    \n",
        "    // Apply a CNOT gate with qubit 0 as the control and qubit 1 as the target\n",
        "    CNOT(qs[0], qs[1]); \n",
        "    // Print the current state \n",
        "    DumpMachine(); \n",
        "    \n",
        "    // In Q# you are required to measure qubits or return them to the |0⟩\n",
        "    // state by uncomputing them when you are done with them\n",
        "    // When you measure a qubit it is measured and then set to the |0⟩ state.\n",
        "    ResetAll(qs);\n",
        "}"
      ],
      "outputs": [],
      "execution_count": 3,
      "metadata": {
        "microsoft": {
          "language": "qsharp"
        }
      }
    },
    {
      "cell_type": "code",
      "source": [
        "Bell.simulate()"
      ],
      "outputs": [
        {
          "output_type": "display_data",
          "data": {
            "text/plain": "|0⟩\t0.7071067811865476 + 0𝑖\n|1⟩\t0 + 0𝑖\n|2⟩\t0 + 0𝑖\n|3⟩\t0.7071067811865476 + 0𝑖",
            "text/html": "\r\n                    <table style=\"table-layout: fixed; width: 100%\">\r\n                        <thead>\r\n                            \r\n                        <tr>\r\n                            <th>Qubit IDs</th>\r\n                            <td span=\"3\">0, 1</td>\r\n                        </tr>\r\n                    \r\n                            <tr>\r\n                                <th style=\"width: 20ch)\">Basis state (little endian)</th>\r\n                                <th style=\"width: 20ch\">Amplitude</th><th style=\"width: calc(100% - 26ch - 20ch)\">Meas. Pr.</th><th style=\"width: 6ch\">Phase</th>\r\n                            </tr>\r\n                        </thead>\r\n                        <tbody>\r\n                        \r\n                            <tr>\r\n                                <td>$\\left|0\\right\\rangle$</td>\r\n                                <td>$0.7071 + 0.0000 i$</td>\r\n                                \r\n                                <td>\r\n                                    <progress\r\n                                        max=\"100\"\r\n                                        value=\"50.000000000000014\"\r\n                                        style=\"width: 100%;\"\r\n                                    > \r\n                                    <td>\r\n                                    <p id=\"round-0d0e66bc-5f1f-431b-8869-ff5e77fa43bd\"> \r\n                                    <script>\r\n                                    var num = 50.000000000000014;\r\n                                    num = num.toFixed(4);\r\n                                    var num_string = num + \"%\";\r\n                                     document.getElementById(\"round-0d0e66bc-5f1f-431b-8869-ff5e77fa43bd\").innerHTML = num_string;\r\n                                    </script> </p>\r\n                                    </td>\r\n                                </td>\r\n                            \r\n                                \r\n                                <td style=\"transform: rotate(0deg);\r\n                   text-align: center;\">\r\n                                 ↑\r\n                                </td>\r\n                            \r\n                            </tr>\r\n                        \n\r\n                            <tr>\r\n                                <td>$\\left|1\\right\\rangle$</td>\r\n                                <td>$0.0000 + 0.0000 i$</td>\r\n                                \r\n                                <td>\r\n                                    <progress\r\n                                        max=\"100\"\r\n                                        value=\"0\"\r\n                                        style=\"width: 100%;\"\r\n                                    > \r\n                                    <td>\r\n                                    <p id=\"round-a7a57ef0-b812-4d02-a5e9-272f4435e39b\"> \r\n                                    <script>\r\n                                    var num = 0;\r\n                                    num = num.toFixed(4);\r\n                                    var num_string = num + \"%\";\r\n                                     document.getElementById(\"round-a7a57ef0-b812-4d02-a5e9-272f4435e39b\").innerHTML = num_string;\r\n                                    </script> </p>\r\n                                    </td>\r\n                                </td>\r\n                            \r\n                                \r\n                                <td style=\"transform: rotate(0deg);\r\n                   text-align: center;\">\r\n                                 ↑\r\n                                </td>\r\n                            \r\n                            </tr>\r\n                        \n\r\n                            <tr>\r\n                                <td>$\\left|2\\right\\rangle$</td>\r\n                                <td>$0.0000 + 0.0000 i$</td>\r\n                                \r\n                                <td>\r\n                                    <progress\r\n                                        max=\"100\"\r\n                                        value=\"0\"\r\n                                        style=\"width: 100%;\"\r\n                                    > \r\n                                    <td>\r\n                                    <p id=\"round-f1725fab-ec0e-49d8-85ee-4e00ec24f294\"> \r\n                                    <script>\r\n                                    var num = 0;\r\n                                    num = num.toFixed(4);\r\n                                    var num_string = num + \"%\";\r\n                                     document.getElementById(\"round-f1725fab-ec0e-49d8-85ee-4e00ec24f294\").innerHTML = num_string;\r\n                                    </script> </p>\r\n                                    </td>\r\n                                </td>\r\n                            \r\n                                \r\n                                <td style=\"transform: rotate(0deg);\r\n                   text-align: center;\">\r\n                                 ↑\r\n                                </td>\r\n                            \r\n                            </tr>\r\n                        \n\r\n                            <tr>\r\n                                <td>$\\left|3\\right\\rangle$</td>\r\n                                <td>$0.7071 + 0.0000 i$</td>\r\n                                \r\n                                <td>\r\n                                    <progress\r\n                                        max=\"100\"\r\n                                        value=\"50.000000000000014\"\r\n                                        style=\"width: 100%;\"\r\n                                    > \r\n                                    <td>\r\n                                    <p id=\"round-a8f715de-e3c2-4d35-846d-94c187ae2141\"> \r\n                                    <script>\r\n                                    var num = 50.000000000000014;\r\n                                    num = num.toFixed(4);\r\n                                    var num_string = num + \"%\";\r\n                                     document.getElementById(\"round-a8f715de-e3c2-4d35-846d-94c187ae2141\").innerHTML = num_string;\r\n                                    </script> </p>\r\n                                    </td>\r\n                                </td>\r\n                            \r\n                                \r\n                                <td style=\"transform: rotate(0deg);\r\n                   text-align: center;\">\r\n                                 ↑\r\n                                </td>\r\n                            \r\n                            </tr>\r\n                        \r\n                        </tbody>\r\n                    </table>",
            "application/x-qsharp-data": "{\"diagnostic_kind\":\"state-vector\",\"qubit_ids\":[0,1],\"n_qubits\":2,\"amplitudes\":{\"0\":{\"Real\":0.7071067811865476,\"Imaginary\":0.0,\"Magnitude\":0.7071067811865476,\"Phase\":0.0},\"1\":{\"Real\":0.0,\"Imaginary\":0.0,\"Magnitude\":0.0,\"Phase\":0.0},\"2\":{\"Real\":0.0,\"Imaginary\":0.0,\"Magnitude\":0.0,\"Phase\":0.0},\"3\":{\"Real\":0.7071067811865476,\"Imaginary\":0.0,\"Magnitude\":0.7071067811865476,\"Phase\":0.0}}}"
          },
          "metadata": {}
        },
        {
          "output_type": "execute_result",
          "execution_count": 4,
          "data": {
            "text/plain": "()"
          },
          "metadata": {}
        }
      ],
      "execution_count": 4,
      "metadata": {}
    },
    {
      "cell_type": "markdown",
      "source": [
        "Here we see a printout of the current state vector. Notice how it is a superposition of only two basis states, $|00\\rangle$ and $|11\\rangle$ (the default configs use a little endian base 10 encoding, so these appear as $|0\\rangle$ and $|3\\rangle$). This means that when we measure both qubits, they will either both be 0 or both be 1.\n",
        "\n",
        "> For reference, [here](https://docs.microsoft.com/en-us/azure/quantum/user-guide/testing-debugging?tabs=tabid-vs2022#dumpmachine) is the documentation for DumpMachine() - the function that produces the dump of the quantum state of the program you can see above. \n",
        "\n",
        "Let's now consider what happens when we perform a partial measurement on a Bell pair. That is to say, when we measure one qubit in the pair, how will it modify the state of the other?"
      ],
      "metadata": {}
    },
    {
      "cell_type": "code",
      "source": [
        "%%qsharp\n",
        "/// # Summary\n",
        "/// Creates a Bell pair and outputs the state vector before\n",
        "/// and after performing measurement on half of the pair.\n",
        "\n",
        "operation BellPartial() : Unit {\n",
        "    // Allocate 2 qubits\n",
        "    use qs = Qubit[2]; \n",
        "    // Use a Hadamard gate on qubit 0\n",
        "    H(qs[0]); \n",
        "    // CNOT on qubit 1 controlled by qubit 0\n",
        "    CNOT(qs[0], qs[1]); \n",
        "    // Print current state vector\n",
        "    DumpMachine(); \n",
        "    // Measure qubit 0 and print out result\n",
        "    let res = M(qs[0]);     \n",
        "    Message($\"Our first qubit has measured as {res}\");\n",
        "    // Show new state vector\n",
        "    DumpMachine(); \n",
        "    // Reset both of our qubits\n",
        "    ResetAll(qs);\n",
        "}"
      ],
      "outputs": [],
      "execution_count": 84,
      "metadata": {
        "microsoft": {
          "language": "qsharp"
        }
      }
    },
    {
      "cell_type": "code",
      "source": [
        "BellPartial.simulate()"
      ],
      "outputs": [
        {
          "output_type": "display_data",
          "data": {
            "text/plain": "|0⟩\t0.7071067811865476 + 0𝑖\n|1⟩\t0 + 0𝑖\n|2⟩\t0 + 0𝑖\n|3⟩\t0.7071067811865476 + 0𝑖",
            "text/html": "\r\n                    <table style=\"table-layout: fixed; width: 100%\">\r\n                        <thead>\r\n                            \r\n                        <tr>\r\n                            <th>Qubit IDs</th>\r\n                            <td span=\"3\">0, 1</td>\r\n                        </tr>\r\n                    \r\n                            <tr>\r\n                                <th style=\"width: 20ch)\">Basis state (little endian)</th>\r\n                                <th style=\"width: 20ch\">Amplitude</th><th style=\"width: calc(100% - 26ch - 20ch)\">Meas. Pr.</th><th style=\"width: 6ch\">Phase</th>\r\n                            </tr>\r\n                        </thead>\r\n                        <tbody>\r\n                        \r\n                            <tr>\r\n                                <td>$\\left|0\\right\\rangle$</td>\r\n                                <td>$0.7071 + 0.0000 i$</td>\r\n                                \r\n                                <td>\r\n                                    <progress\r\n                                        max=\"100\"\r\n                                        value=\"50.000000000000014\"\r\n                                        style=\"width: 100%;\"\r\n                                    > \r\n                                    <td>\r\n                                    <p id=\"round-143f1b8d-c236-4d7a-b47f-72ae20608123\"> \r\n                                    <script>\r\n                                    var num = 50.000000000000014;\r\n                                    num = num.toFixed(4);\r\n                                    var num_string = num + \"%\";\r\n                                     document.getElementById(\"round-143f1b8d-c236-4d7a-b47f-72ae20608123\").innerHTML = num_string;\r\n                                    </script> </p>\r\n                                    </td>\r\n                                </td>\r\n                            \r\n                                \r\n                                <td style=\"transform: rotate(0deg);\r\n                   text-align: center;\">\r\n                                 ↑\r\n                                </td>\r\n                            \r\n                            </tr>\r\n                        \n\r\n                            <tr>\r\n                                <td>$\\left|1\\right\\rangle$</td>\r\n                                <td>$0.0000 + 0.0000 i$</td>\r\n                                \r\n                                <td>\r\n                                    <progress\r\n                                        max=\"100\"\r\n                                        value=\"0\"\r\n                                        style=\"width: 100%;\"\r\n                                    > \r\n                                    <td>\r\n                                    <p id=\"round-28dacad9-4062-490e-9375-de0390ed8f70\"> \r\n                                    <script>\r\n                                    var num = 0;\r\n                                    num = num.toFixed(4);\r\n                                    var num_string = num + \"%\";\r\n                                     document.getElementById(\"round-28dacad9-4062-490e-9375-de0390ed8f70\").innerHTML = num_string;\r\n                                    </script> </p>\r\n                                    </td>\r\n                                </td>\r\n                            \r\n                                \r\n                                <td style=\"transform: rotate(0deg);\r\n                   text-align: center;\">\r\n                                 ↑\r\n                                </td>\r\n                            \r\n                            </tr>\r\n                        \n\r\n                            <tr>\r\n                                <td>$\\left|2\\right\\rangle$</td>\r\n                                <td>$0.0000 + 0.0000 i$</td>\r\n                                \r\n                                <td>\r\n                                    <progress\r\n                                        max=\"100\"\r\n                                        value=\"0\"\r\n                                        style=\"width: 100%;\"\r\n                                    > \r\n                                    <td>\r\n                                    <p id=\"round-26a5f3a0-7639-4bf6-87d4-615da5136108\"> \r\n                                    <script>\r\n                                    var num = 0;\r\n                                    num = num.toFixed(4);\r\n                                    var num_string = num + \"%\";\r\n                                     document.getElementById(\"round-26a5f3a0-7639-4bf6-87d4-615da5136108\").innerHTML = num_string;\r\n                                    </script> </p>\r\n                                    </td>\r\n                                </td>\r\n                            \r\n                                \r\n                                <td style=\"transform: rotate(0deg);\r\n                   text-align: center;\">\r\n                                 ↑\r\n                                </td>\r\n                            \r\n                            </tr>\r\n                        \n\r\n                            <tr>\r\n                                <td>$\\left|3\\right\\rangle$</td>\r\n                                <td>$0.7071 + 0.0000 i$</td>\r\n                                \r\n                                <td>\r\n                                    <progress\r\n                                        max=\"100\"\r\n                                        value=\"50.000000000000014\"\r\n                                        style=\"width: 100%;\"\r\n                                    > \r\n                                    <td>\r\n                                    <p id=\"round-ac0479ea-2909-43d1-b799-e32d5a93c8c7\"> \r\n                                    <script>\r\n                                    var num = 50.000000000000014;\r\n                                    num = num.toFixed(4);\r\n                                    var num_string = num + \"%\";\r\n                                     document.getElementById(\"round-ac0479ea-2909-43d1-b799-e32d5a93c8c7\").innerHTML = num_string;\r\n                                    </script> </p>\r\n                                    </td>\r\n                                </td>\r\n                            \r\n                                \r\n                                <td style=\"transform: rotate(0deg);\r\n                   text-align: center;\">\r\n                                 ↑\r\n                                </td>\r\n                            \r\n                            </tr>\r\n                        \r\n                        </tbody>\r\n                    </table>",
            "application/x-qsharp-data": "{\"diagnostic_kind\":\"state-vector\",\"qubit_ids\":[0,1],\"n_qubits\":2,\"amplitudes\":{\"0\":{\"Real\":0.7071067811865476,\"Imaginary\":0.0,\"Magnitude\":0.7071067811865476,\"Phase\":0.0},\"1\":{\"Real\":0.0,\"Imaginary\":0.0,\"Magnitude\":0.0,\"Phase\":0.0},\"2\":{\"Real\":0.0,\"Imaginary\":0.0,\"Magnitude\":0.0,\"Phase\":0.0},\"3\":{\"Real\":0.7071067811865476,\"Imaginary\":0.0,\"Magnitude\":0.7071067811865476,\"Phase\":0.0}}}"
          },
          "metadata": {}
        },
        {
          "output_type": "stream",
          "name": "stdout",
          "text": "Our first qubit has measured as Zero\n"
        },
        {
          "output_type": "display_data",
          "data": {
            "text/plain": "|0⟩\t1 + 0𝑖\n|1⟩\t0 + 0𝑖\n|2⟩\t0 + 0𝑖\n|3⟩\t0 + 0𝑖",
            "text/html": "\r\n                    <table style=\"table-layout: fixed; width: 100%\">\r\n                        <thead>\r\n                            \r\n                        <tr>\r\n                            <th>Qubit IDs</th>\r\n                            <td span=\"3\">0, 1</td>\r\n                        </tr>\r\n                    \r\n                            <tr>\r\n                                <th style=\"width: 20ch)\">Basis state (little endian)</th>\r\n                                <th style=\"width: 20ch\">Amplitude</th><th style=\"width: calc(100% - 26ch - 20ch)\">Meas. Pr.</th><th style=\"width: 6ch\">Phase</th>\r\n                            </tr>\r\n                        </thead>\r\n                        <tbody>\r\n                        \r\n                            <tr>\r\n                                <td>$\\left|0\\right\\rangle$</td>\r\n                                <td>$1.0000 + 0.0000 i$</td>\r\n                                \r\n                                <td>\r\n                                    <progress\r\n                                        max=\"100\"\r\n                                        value=\"100\"\r\n                                        style=\"width: 100%;\"\r\n                                    > \r\n                                    <td>\r\n                                    <p id=\"round-9796c8b7-1031-4a57-806a-28be6abf7412\"> \r\n                                    <script>\r\n                                    var num = 100;\r\n                                    num = num.toFixed(4);\r\n                                    var num_string = num + \"%\";\r\n                                     document.getElementById(\"round-9796c8b7-1031-4a57-806a-28be6abf7412\").innerHTML = num_string;\r\n                                    </script> </p>\r\n                                    </td>\r\n                                </td>\r\n                            \r\n                                \r\n                                <td style=\"transform: rotate(0deg);\r\n                   text-align: center;\">\r\n                                 ↑\r\n                                </td>\r\n                            \r\n                            </tr>\r\n                        \n\r\n                            <tr>\r\n                                <td>$\\left|1\\right\\rangle$</td>\r\n                                <td>$0.0000 + 0.0000 i$</td>\r\n                                \r\n                                <td>\r\n                                    <progress\r\n                                        max=\"100\"\r\n                                        value=\"0\"\r\n                                        style=\"width: 100%;\"\r\n                                    > \r\n                                    <td>\r\n                                    <p id=\"round-da763f26-f53f-4970-bb96-ca38a515dc6d\"> \r\n                                    <script>\r\n                                    var num = 0;\r\n                                    num = num.toFixed(4);\r\n                                    var num_string = num + \"%\";\r\n                                     document.getElementById(\"round-da763f26-f53f-4970-bb96-ca38a515dc6d\").innerHTML = num_string;\r\n                                    </script> </p>\r\n                                    </td>\r\n                                </td>\r\n                            \r\n                                \r\n                                <td style=\"transform: rotate(0deg);\r\n                   text-align: center;\">\r\n                                 ↑\r\n                                </td>\r\n                            \r\n                            </tr>\r\n                        \n\r\n                            <tr>\r\n                                <td>$\\left|2\\right\\rangle$</td>\r\n                                <td>$0.0000 + 0.0000 i$</td>\r\n                                \r\n                                <td>\r\n                                    <progress\r\n                                        max=\"100\"\r\n                                        value=\"0\"\r\n                                        style=\"width: 100%;\"\r\n                                    > \r\n                                    <td>\r\n                                    <p id=\"round-e38f0079-734c-49d4-aa16-3103bdf6faca\"> \r\n                                    <script>\r\n                                    var num = 0;\r\n                                    num = num.toFixed(4);\r\n                                    var num_string = num + \"%\";\r\n                                     document.getElementById(\"round-e38f0079-734c-49d4-aa16-3103bdf6faca\").innerHTML = num_string;\r\n                                    </script> </p>\r\n                                    </td>\r\n                                </td>\r\n                            \r\n                                \r\n                                <td style=\"transform: rotate(0deg);\r\n                   text-align: center;\">\r\n                                 ↑\r\n                                </td>\r\n                            \r\n                            </tr>\r\n                        \n\r\n                            <tr>\r\n                                <td>$\\left|3\\right\\rangle$</td>\r\n                                <td>$0.0000 + 0.0000 i$</td>\r\n                                \r\n                                <td>\r\n                                    <progress\r\n                                        max=\"100\"\r\n                                        value=\"0\"\r\n                                        style=\"width: 100%;\"\r\n                                    > \r\n                                    <td>\r\n                                    <p id=\"round-c04a8279-4d39-463d-9f5b-477992e8dba0\"> \r\n                                    <script>\r\n                                    var num = 0;\r\n                                    num = num.toFixed(4);\r\n                                    var num_string = num + \"%\";\r\n                                     document.getElementById(\"round-c04a8279-4d39-463d-9f5b-477992e8dba0\").innerHTML = num_string;\r\n                                    </script> </p>\r\n                                    </td>\r\n                                </td>\r\n                            \r\n                                \r\n                                <td style=\"transform: rotate(0deg);\r\n                   text-align: center;\">\r\n                                 ↑\r\n                                </td>\r\n                            \r\n                            </tr>\r\n                        \r\n                        </tbody>\r\n                    </table>",
            "application/x-qsharp-data": "{\"diagnostic_kind\":\"state-vector\",\"qubit_ids\":[0,1],\"n_qubits\":2,\"amplitudes\":{\"0\":{\"Real\":1.0,\"Imaginary\":0.0,\"Magnitude\":1.0,\"Phase\":0.0},\"1\":{\"Real\":0.0,\"Imaginary\":0.0,\"Magnitude\":0.0,\"Phase\":0.0},\"2\":{\"Real\":0.0,\"Imaginary\":0.0,\"Magnitude\":0.0,\"Phase\":0.0},\"3\":{\"Real\":0.0,\"Imaginary\":0.0,\"Magnitude\":0.0,\"Phase\":0.0}}}"
          },
          "metadata": {}
        },
        {
          "output_type": "execute_result",
          "execution_count": 85,
          "data": {
            "text/plain": "()"
          },
          "metadata": {}
        }
      ],
      "execution_count": 85,
      "metadata": {}
    },
    {
      "cell_type": "markdown",
      "source": [
        "### <span style=\"color:#61c2e8\">Task 1 Questions</span>:\n",
        "* T1.1. Explain what is happening above to the second qubit when partial measurement is performed. Address the two states which are printed out and explain why they are different. What are the two possible outputs of this code?"
      ],
      "metadata": {}
    },
    {
      "cell_type": "markdown",
      "source": [
        "The given Bell state is $\\frac{1}{\\sqrt{2}}\\left( \\ket{00} + \\ket{11} \\right)$. First the code segment above is applying the Hadamard gate onto the state $\\ket{0}$. This is the same as performing the following operation, $\\frac{1}{\\sqrt{2}} \\left( \\ket{0} + \\ket{1} \\right) \\otimes \\ket{0}$ which produces the result $\\frac{1}{\\sqrt{2}}\\left( \\ket{00} + \\ket{10} \\right)$. Then the CNOT operator is being applied to the result of the previous calculation. Which is producing the result $\\frac{1}{\\sqrt{2}} \\left( \\ket{00} + \\ket{11} \\right)$. When we measure the first qubit we have an equal probability of measuring $0$ or $1$. If the first measured qubit is $0$ then the next qubit measured will be $0$ with certainty, simsimilarly if the first qubit measured is $1$ then the next qubit measured will be $1$ with certainty. This is because if we measure both qubits we would get either $\\ket{00}$ or $\\ket{11}$ with equal probability. Therefore, the two possible states that can result from the above code segment are $\\ket{00}$ or $\\ket{11}$. \n",
        "\n",
        "The first printout of the above code segment gives the Bell state before the measurement operation. Therefore, the state $\\ket{00}$ has a coefficient of $1/\\sqrt{2}$ and the state $\\ket{11}$ has a coefficient of $1/\\sqrt{2}$ and the rest of the states have a coefficient of 0. Once the measurement is taken for the first qubit, if the measurement turns out to be $0$ (that is eigenvalue of $1$ for the Puali-z matrix) then the state of the system that will be shown by the command **DumpMachine()** will be $1 + 0i$, $0 + 0i$, $0 + 0i$, and $0 + 0i$ (indicating the amplitude column), because the measured system will be $\\ket{00}$. However, if the measurement of the first qubit is $1$ (that is eigenvalue of $0$ for the Puali-z matrix) then the state of the system that will be shown by the command **DumpMachine()** will be $0 + 0i$, $0 + 0i$, $0 + 0i$, and $1 + 0i$ (indicating the amplitude column) because the measured system will be $\\ket{11}$."
      ],
      "metadata": {
        "nteract": {
          "transient": {
            "deleting": false
          }
        }
      }
    },
    {
      "cell_type": "markdown",
      "source": [
        "### <span style=\"color:#61c2e8\">Task 2</span>: Running on an IonQ Quantum Computer \n",
        "When we measure both qubits of a Bell state, we always measure $|00\\rangle$ or $|11\\rangle$. While this is true when running the code on a simulator, real quantum devices are noisy! Because of this, occasionally we will measure the $|01\\rangle$ and $|10\\rangle$ states when we run the code on a quantum computer.\n",
        "\n",
        "To see this, let's run this code on a real quantum computer. Whenever executing on real hardware, we lose the ability to view the current quantum state of the program using DumpMachine() - using this convenient tool is only possible in simulations. Instead, we must measure the qubits of interest and return a Result array."
      ],
      "metadata": {}
    },
    {
      "cell_type": "code",
      "source": [
        "%%qsharp\n",
        "\n",
        "/// # Summary\n",
        "/// Creates a Bell pair and then measures both qubits and returns the results in an array\n",
        "///\n",
        "/// # Output\n",
        "/// An array of length 2. Contains the measurement results of the Bell pair which was prepared. \n",
        "\n",
        "operation BellReal() : Result[] {\n",
        "    // Allocate Qubits\n",
        "    use qs = Qubit[2]; \n",
        "    // Hadamard on qubit 0\n",
        "    H(qs[0]);     \n",
        "    // CNOT control qubit 0, target qubit 1\n",
        "    CNOT(qs[0], qs[1]); \n",
        "    // Loop through qs measuring each qubit and then return the accumulated results\n",
        "    return ForEach(M, qs); \n",
        "}"
      ],
      "outputs": [],
      "execution_count": 86,
      "metadata": {
        "microsoft": {
          "language": "qsharp"
        }
      }
    },
    {
      "cell_type": "markdown",
      "source": [
        "Below is the Python code for connecting to your Azure Quantum Workspace and submitting a job to the IonQ full state simulator. Run each cell in order."
      ],
      "metadata": {}
    },
    {
      "cell_type": "markdown",
      "source": [
        "\n",
        "Connect to Azure and set the execution target for your job. You will need to input your location and resourceID, which can be found in the Azure Portal on the overview page in your quantum workspace. \n",
        "\n",
        "If you want to run multiple jobs on the same execution target, you only need to set it once. You'll need to run `qsharp.azure.target` again only when switching to a different target. "
      ],
      "metadata": {}
    },
    {
      "cell_type": "code",
      "source": [
        "# Put your Resource ID and location INSIDE the quotation marks\n",
        "qsharp.azure.connect(\n",
        "   resourceId=\"/subscriptions/476fe4b3-6f35-4af3-8050-b3b41a795058/resourceGroups/AzureQuantum/providers/Microsoft.Quantum/Workspaces/IntroToQuantumProj\",\n",
        "   location=\"East US\") \n",
        "qsharp.azure.target(\"ionq.simulator\")\n"
      ],
      "outputs": [
        {
          "output_type": "display_data",
          "data": {
            "text/plain": "Connecting to Azure Quantum...",
            "application/x-qsharp-data": "\"Connecting to Azure Quantum...\""
          },
          "metadata": {}
        },
        {
          "output_type": "stream",
          "name": "stdout",
          "text": "Authenticated using Microsoft.Azure.Quantum.Authentication.TokenFileCredential\n\n\nConnected to Azure Quantum workspace IntroToQuantumProj in location eastus.\nLoading package Microsoft.Quantum.Providers.IonQ and dependencies...\nActive target is now ionq.simulator\n"
        },
        {
          "output_type": "execute_result",
          "execution_count": 87,
          "data": {
            "text/plain": "{'id': 'ionq.simulator', 'current_availability': {}, 'average_queue_time': 3}"
          },
          "metadata": {}
        }
      ],
      "execution_count": 87,
      "metadata": {}
    },
    {
      "cell_type": "markdown",
      "source": [
        "Submit the operation you want to run."
      ],
      "metadata": {}
    },
    {
      "cell_type": "code",
      "source": [
        "qsharp.azure.submit(BellReal, shots=1000, jobName=\"Bell State on IonQ simulator\")"
      ],
      "outputs": [
        {
          "output_type": "stream",
          "name": "stdout",
          "text": "Submitting BellReal to target ionq.simulator...\nJob successfully submitted.\n   Job name: Bell State on IonQ simulator\n   Job ID: c3eb6c11-981d-445f-af46-a80debecbbd6\n"
        },
        {
          "output_type": "execute_result",
          "execution_count": 102,
          "data": {
            "text/plain": "{'id': 'c3eb6c11-981d-445f-af46-a80debecbbd6', 'name': 'Bell State on IonQ simulator', 'status': 'Waiting', 'uri': 'https://portal.azure.com/#@microsoft.onmicrosoft.com/resource/subscriptions/476fe4b3-6f35-4af3-8050-b3b41a795058/resourceGroups/AzureQuantum/providers/Microsoft.Quantum/Workspaces/IntroToQuantumProj/job_management?microsoft_azure_quantum_jobid=c3eb6c11-981d-445f-af46-a80debecbbd6', 'provider': 'ionq', 'target': 'ionq.simulator', 'creation_time': '2022-12-09T07:35:58.2946703+00:00', 'begin_execution_time': None, 'end_execution_time': None, 'cost_estimate': ''}"
          },
          "metadata": {}
        }
      ],
      "execution_count": 102,
      "metadata": {}
    },
    {
      "cell_type": "markdown",
      "source": [
        "Check the status of the job. By default, this command checks the last job submitted. If you want to check the status of a different job, you need to pass it the ID of that job."
      ],
      "metadata": {}
    },
    {
      "cell_type": "code",
      "source": [
        "qsharp.azure.status()\n",
        "# Here is how you can change the job which is checked.\n",
        "# qsharp.azure.status(jobId=\"########-####-####-####-####-############\")"
      ],
      "outputs": [
        {
          "output_type": "execute_result",
          "execution_count": 103,
          "data": {
            "text/plain": "{'id': 'c3eb6c11-981d-445f-af46-a80debecbbd6', 'name': 'Bell State on IonQ simulator', 'status': 'Succeeded', 'uri': 'https://portal.azure.com/#@microsoft.onmicrosoft.com/resource/subscriptions/476fe4b3-6f35-4af3-8050-b3b41a795058/resourceGroups/AzureQuantum/providers/Microsoft.Quantum/Workspaces/IntroToQuantumProj/job_management?microsoft_azure_quantum_jobid=c3eb6c11-981d-445f-af46-a80debecbbd6', 'provider': 'ionq', 'target': 'ionq.simulator', 'creation_time': '2022-12-09T07:35:58.2946703+00:00', 'begin_execution_time': '2022-12-09T07:36:02.919+00:00', 'end_execution_time': '2022-12-09T07:36:02.952+00:00', 'cost_estimate': '$0.00'}"
          },
          "metadata": {}
        }
      ],
      "execution_count": 103,
      "metadata": {}
    },
    {
      "cell_type": "markdown",
      "source": [
        "Output the results of the job. By default, this command uses the last job submitted, but you can query outputs of other jobs in the same way as `qsharp.azure.status()`.\n",
        "\n",
        "Running this job on the IonQ simulator can take a couple of minutes, so make sure the job status is `Succeeded` before checking the output."
      ],
      "metadata": {}
    },
    {
      "cell_type": "code",
      "source": [
        "qsharp.azure.output()\n",
        "# Here is how you can check the output of other jobs.\n",
        "# qsharp.azure.output(jobId=\"########-####-####-####-####-############\")"
      ],
      "outputs": [
        {
          "output_type": "execute_result",
          "execution_count": 104,
          "data": {
            "text/plain": "{'[0,0]': 0.5, '[1,1]': 0.5}",
            "text/html": "\r\n                    <table style=\"table-layout: fixed; width: 100%\">\r\n                        <thead>\r\n                            <tr>\r\n                                <th style=\"text-align: left; width: 25ch\">Result</th>\r\n                                <th style=\"text-align: left; width: 25ch\">Frequency</th>\r\n                                <th style=\"text-align: left; width: calc(100% - 25ch - 25ch)\">Histogram</th>\r\n                            </tr>\r\n                        </thead>\r\n                        <tbody>\r\n                            \r\n                            <tr>\r\n                                <td style=\"text-align: left; width: 25ch\">[0,0]</td>\r\n                                <td style=\"text-align: left; width: 25ch\">0.5</td>\r\n                                <td style=\"text-align: left; width: calc(100% - 25ch - 25ch)\">\r\n                                    <progress\r\n                                        max=\"100\"\r\n                                        value=\"50\"\r\n                                        style=\"width: 100%;\"\r\n                                    >\r\n                                </td>\r\n                            </tr>\r\n                        \n\r\n                            <tr>\r\n                                <td style=\"text-align: left; width: 25ch\">[1,1]</td>\r\n                                <td style=\"text-align: left; width: 25ch\">0.5</td>\r\n                                <td style=\"text-align: left; width: calc(100% - 25ch - 25ch)\">\r\n                                    <progress\r\n                                        max=\"100\"\r\n                                        value=\"50\"\r\n                                        style=\"width: 100%;\"\r\n                                    >\r\n                                </td>\r\n                            </tr>\r\n                        \r\n                        </tbody>\r\n                    </table>\r\n                ",
            "application/x-qsharp-data": "{\"[0,0]\":0.5,\"[1,1]\":0.5}"
          },
          "metadata": {}
        }
      ],
      "execution_count": 104,
      "metadata": {}
    },
    {
      "cell_type": "markdown",
      "source": [
        "Let's now compare this output to the output we get from running this operation on the IonQ QPU (Quantum Processing Unit). Note the queue time in seconds when running this command. It may take a while for jobs submitted to the IonQ QPU to complete. "
      ],
      "metadata": {}
    },
    {
      "cell_type": "code",
      "source": [
        "qsharp.azure.target(\"ionq.qpu\")"
      ],
      "outputs": [
        {
          "output_type": "stream",
          "name": "stdout",
          "text": "Loading package Microsoft.Quantum.Providers.IonQ and dependencies...\nActive target is now ionq.qpu\n"
        },
        {
          "output_type": "execute_result",
          "execution_count": 35,
          "data": {
            "text/plain": "{'id': 'ionq.qpu', 'current_availability': {}, 'average_queue_time': 56812}"
          },
          "metadata": {}
        }
      ],
      "execution_count": 35,
      "metadata": {}
    },
    {
      "cell_type": "markdown",
      "source": [
        "Note the queue time reported by the QPU target. It is typically a lot longer than the time for the simulator, so getting the results of your job might take a while. Note the job ID of the submitted job, so that you can return to the notebook several hours later to check its status. You can always find the job ID of any job in your Azure Quantum workspace in Operations $\\rightarrow$ Job Management."
      ],
      "metadata": {}
    },
    {
      "cell_type": "code",
      "source": [
        "qsharp.azure.submit(BellReal, shots=200, jobName = \"Bell state on IonQ QPU\")"
      ],
      "outputs": [
        {
          "output_type": "stream",
          "name": "stdout",
          "text": "Submitting BellReal to target ionq.qpu...\nJob successfully submitted.\n   Job name: Bell state on IonQ QPU\n   Job ID: 1548db37-65e1-4ddb-af57-d39806835377\n"
        },
        {
          "output_type": "execute_result",
          "execution_count": 76,
          "data": {
            "text/plain": "{'id': '1548db37-65e1-4ddb-af57-d39806835377', 'name': 'Bell state on IonQ QPU', 'status': 'Waiting', 'uri': 'https://portal.azure.com/#@microsoft.onmicrosoft.com/resource/subscriptions/476fe4b3-6f35-4af3-8050-b3b41a795058/resourceGroups/AzureQuantum/providers/Microsoft.Quantum/Workspaces/IntroToQuantumProj/job_management?microsoft_azure_quantum_jobid=1548db37-65e1-4ddb-af57-d39806835377', 'provider': 'ionq', 'target': 'ionq.qpu', 'creation_time': '2022-12-09T07:20:11.1451466+00:00', 'begin_execution_time': None, 'end_execution_time': None, 'cost_estimate': ''}"
          },
          "metadata": {}
        }
      ],
      "execution_count": 76,
      "metadata": {}
    },
    {
      "cell_type": "code",
      "source": [
        "qsharp.azure.status()"
      ],
      "outputs": [
        {
          "output_type": "execute_result",
          "execution_count": 78,
          "data": {
            "text/plain": "{'id': '1548db37-65e1-4ddb-af57-d39806835377', 'name': 'Bell state on IonQ QPU', 'status': 'Succeeded', 'uri': 'https://portal.azure.com/#@microsoft.onmicrosoft.com/resource/subscriptions/476fe4b3-6f35-4af3-8050-b3b41a795058/resourceGroups/AzureQuantum/providers/Microsoft.Quantum/Workspaces/IntroToQuantumProj/job_management?microsoft_azure_quantum_jobid=1548db37-65e1-4ddb-af57-d39806835377', 'provider': 'ionq', 'target': 'ionq.qpu', 'creation_time': '2022-12-09T07:20:11.1451466+00:00', 'begin_execution_time': '2022-12-09T07:21:22.439+00:00', 'end_execution_time': '2022-12-09T07:21:25.187+00:00', 'cost_estimate': '$0.00'}"
          },
          "metadata": {}
        }
      ],
      "execution_count": 78,
      "metadata": {}
    },
    {
      "cell_type": "code",
      "source": [
        "qsharp.azure.output()"
      ],
      "outputs": [
        {
          "output_type": "execute_result",
          "execution_count": 79,
          "data": {
            "text/plain": "{'[0,0]': 0.455, '[1,0]': 0.005, '[0,1]': 0.015, '[1,1]': 0.525}",
            "text/html": "\r\n                    <table style=\"table-layout: fixed; width: 100%\">\r\n                        <thead>\r\n                            <tr>\r\n                                <th style=\"text-align: left; width: 25ch\">Result</th>\r\n                                <th style=\"text-align: left; width: 25ch\">Frequency</th>\r\n                                <th style=\"text-align: left; width: calc(100% - 25ch - 25ch)\">Histogram</th>\r\n                            </tr>\r\n                        </thead>\r\n                        <tbody>\r\n                            \r\n                            <tr>\r\n                                <td style=\"text-align: left; width: 25ch\">[0,0]</td>\r\n                                <td style=\"text-align: left; width: 25ch\">0.455</td>\r\n                                <td style=\"text-align: left; width: calc(100% - 25ch - 25ch)\">\r\n                                    <progress\r\n                                        max=\"100\"\r\n                                        value=\"45.5\"\r\n                                        style=\"width: 100%;\"\r\n                                    >\r\n                                </td>\r\n                            </tr>\r\n                        \n\r\n                            <tr>\r\n                                <td style=\"text-align: left; width: 25ch\">[1,0]</td>\r\n                                <td style=\"text-align: left; width: 25ch\">0.005</td>\r\n                                <td style=\"text-align: left; width: calc(100% - 25ch - 25ch)\">\r\n                                    <progress\r\n                                        max=\"100\"\r\n                                        value=\"0.5\"\r\n                                        style=\"width: 100%;\"\r\n                                    >\r\n                                </td>\r\n                            </tr>\r\n                        \n\r\n                            <tr>\r\n                                <td style=\"text-align: left; width: 25ch\">[0,1]</td>\r\n                                <td style=\"text-align: left; width: 25ch\">0.015</td>\r\n                                <td style=\"text-align: left; width: calc(100% - 25ch - 25ch)\">\r\n                                    <progress\r\n                                        max=\"100\"\r\n                                        value=\"1.5\"\r\n                                        style=\"width: 100%;\"\r\n                                    >\r\n                                </td>\r\n                            </tr>\r\n                        \n\r\n                            <tr>\r\n                                <td style=\"text-align: left; width: 25ch\">[1,1]</td>\r\n                                <td style=\"text-align: left; width: 25ch\">0.525</td>\r\n                                <td style=\"text-align: left; width: calc(100% - 25ch - 25ch)\">\r\n                                    <progress\r\n                                        max=\"100\"\r\n                                        value=\"52.5\"\r\n                                        style=\"width: 100%;\"\r\n                                    >\r\n                                </td>\r\n                            </tr>\r\n                        \r\n                        </tbody>\r\n                    </table>\r\n                ",
            "application/x-qsharp-data": "{\"[0,0]\":0.455,\"[1,0]\":0.005,\"[0,1]\":0.015,\"[1,1]\":0.525}"
          },
          "metadata": {}
        }
      ],
      "execution_count": 79,
      "metadata": {}
    },
    {
      "cell_type": "markdown",
      "source": [
        "### <span style=\"color:#61c2e8\">Task 2 Questions</span>:\n",
        "* T2.1. Compare the results of execution on the simulator vs the QPU. What could be causing these differences?\n",
        "\n",
        "* T2.2. Let's say that you have prepared a Bell state on a quantum computer which has noiseless gates. However, the measurement on this device is not noiseless. There is a 0.1 probability that when you measure a qubit, a bit flip will be occur. Calculate the new probability of measuring $|00\\rangle$ on this device.\n",
        "\n",
        "### <span style=\"color:#61c2e8\">Extra Credit Question</span>:\n",
        "* T2.3. Try running the job on the IonQ simulator several times. Do you observe a variation in the results? How can you explain this? For more information check here: [IonQ Provider](https://learn.microsoft.com/en-us/azure/quantum/provider-ionq)"
      ],
      "metadata": {}
    },
    {
      "cell_type": "markdown",
      "source": [
        "##### T 2.1\n",
        "\n",
        "The output of the simulator and the QPU are shown above. These outputs are similar as the simulator tries to replicate the processing of the QPU but due to the nature of random noise induced in the simulator and QPU they will not be the same. In general we expect the result $[0,0]$ and $[1,1]$ to have a frequency close to $0.5$ and the other results to have a frequency close to $0$."
      ],
      "metadata": {
        "nteract": {
          "transient": {
            "deleting": false
          }
        }
      }
    },
    {
      "cell_type": "markdown",
      "source": [
        "##### T 2.2\n",
        "\n",
        "The probability of measuring the state $\\ket{00}$ is $0.5$ in a noiseless gate. The probability of a bit flip not occuring during measurement is $0.9$. Therefore, the probability of measuring the state $\\ket{00}$ is $0.5 * 0.9 = 0.45$. Therefore, the probability of measuring the state $\\ket{00}$ with a $0.1$ bit flip probability is $0.45$."
      ],
      "metadata": {
        "nteract": {
          "transient": {
            "deleting": false
          }
        }
      }
    },
    {
      "cell_type": "markdown",
      "source": [
        "##### T 2.3 (Extra Credit)\n",
        "\n",
        "I ran the job on the IonQ simulator and the IonQ QPU several times and recorded my results as shown below. In general, the IonQ QPU Simulator is able to output the ideal results while the IonQ QPU is only able to output approximate results of the theoretical results.\n",
        "\n",
        "The results of the IonQ QPU are tabulated below.\n",
        "| Result | Frequency 1 | Frequency 2 | Frequency 3 |Frequency 4 |Frequency 5 |\n",
        "| :---:  | :---:       | :---:       | :---:       | :---:      | :---:      |\n",
        "| [0,0]  | 0.525       | 0.515       | 0.465       | 0.5        | 0.455      |\n",
        "| [1,0]  | 0.005       | 0           | 0.005       | 0          | 0.005      |\n",
        "| [0,1]  | 0.01        | 0           | 0.01        | 0.025      | 0.015      |\n",
        "| [1,1]  | 0.46        | 0.485       | 0.52        | 0.475      | 0.525      |\n",
        "\n",
        "The results of the IonQ Simulator are tabulated below.\n",
        "| Result | Frequency 1 | Frequency 2 | Frequency 3 |Frequency 4 |Frequency 5 |\n",
        "| :---:  | :---:       | :---:       | :---:       | :---:      | :---:      |\n",
        "| [0,0]  | 0.5         | 0.5         | 0.5         | 0.5        | 0.5        |\n",
        "| [1,0]  | 0           | 0           | 0           | 0          | 0          |\n",
        "| [0,1]  | 0           | 0           | 0           | 0          | 0          |\n",
        "| [1,1]  | 0.5         | 0.5         | 0.5         | 0.5        | 0.5        |\n",
        "\n",
        "As seen by the table above, the IonQ Simulator is able to simulate the QPU without the noise. There are a few possibilities for this. One such possibility is that the IonQ simulator simulates the a 23 qubit quantum computer while the IonQ Harmonic QPU has 11 qubits and the IonQ Aria QPU has 23 qubits. The simulator is much more powerful and hence can perform more demanding tasks with better precision. Another possibility is that the simulator is free from the noise in the IonQ Harmonic QPU and the IonQ Aria QPU."
      ],
      "metadata": {
        "nteract": {
          "transient": {
            "deleting": false
          }
        }
      }
    },
    {
      "cell_type": "markdown",
      "source": [
        "### <span style=\"color:#61c2e8\">Task 3</span>: Exploring Different Entangled States\n",
        "When we measure both qubits of a Bell state, we will get $|00\\rangle$ and $|11\\rangle$ with equal probability. But we can actually manipulate these probabilities by changing how the control qubit is initialized before the CNOT gate is applied. The probabilities of measuring our control qubit in the $|0\\rangle$ and $|1\\rangle$ states will become the probabilities of measuring $|00\\rangle$ and $|11\\rangle$. Below is code which demonstrates this: we can use an $R_Y(\\theta)$ gate with a varying $\\theta$ to sweep over a range of states."
      ],
      "metadata": {}
    },
    {
      "cell_type": "code",
      "source": [
        "%%qsharp\n",
        "/// # Summary\n",
        "/// Creates an entangled state by first applying an Ry rotation and then a CNOT gate.\n",
        "///\n",
        "/// # Input\n",
        "/// ## theta\n",
        "/// Degree in radians which is passed to the Ry gate.\n",
        "///\n",
        "/// # Output\n",
        "/// Result array containing measurement result on the two qubit entangled state.\n",
        "\n",
        "operation VaryingBell(theta : Double) : Result[] {\n",
        "    // Allocate qubits\n",
        "    use qs = Qubit[2];     \n",
        "    // Apply Ry gate of theta radians \n",
        "    Ry(theta, qs[0]);\n",
        "    // Controlled not between qubit 0 and qubit 1\n",
        "    CNOT(qs[0], qs[1]);     \n",
        "    // Return the measurement results\n",
        "    return ForEach(M, qs); \n",
        "}"
      ],
      "outputs": [],
      "execution_count": 5,
      "metadata": {
        "microsoft": {
          "language": "qsharp"
        }
      }
    },
    {
      "cell_type": "code",
      "source": [
        "pi = 3.1415\n",
        "# Theta values to test\n",
        "thetaRange = [.3*pi, .7*pi, pi, 1.4*pi] \n",
        "# Number of times to sample the circuit\n",
        "shots = 500\n",
        "\n",
        "for (theta_i, theta) in enumerate(thetaRange):\n",
        "    results = []\n",
        "    for shot in range(shots):\n",
        "        result = VaryingBell.simulate(theta=theta)\n",
        "        num = 0\n",
        "        for (idx, bit) in enumerate(result):\n",
        "            # This converts the bits in result into a number between 0 and 3\n",
        "            # The least significant bit is stored in the first index of result\n",
        "            num = num + (bit * 2**idx) \n",
        "        results.append(num)\n",
        "    # Plot our results\n",
        "    ax = plt.subplot(2, 2, theta_i+1)\n",
        "    plt.hist(results) \n",
        "    plt.ylabel(\"Frequency\")\n",
        "    ax.set_xticks([0, 1, 2, 3], labels=[r\"$|00\\rangle$\", r\"$|01\\rangle$\", r\"$|10\\rangle$\", r\"$|11\\rangle$\"])\n",
        "    plt.title(\"Ry({})\".format(theta))\n",
        "plt.tight_layout()\n",
        "plt.show()"
      ],
      "outputs": [
        {
          "output_type": "display_data",
          "data": {
            "text/plain": "<Figure size 640x480 with 4 Axes>",
            "image/png": "[encoded data removed]"
          },
          "metadata": {}
        }
      ],
      "execution_count": 6,
      "metadata": {}
    },
    {
      "cell_type": "markdown",
      "source": [
        "We can make this more interesting. Even in noiseless simulations there are entangled states where we will measure not just two states but a range of possible distributions over the measurement space. We can create a state like this using the $R_X(\\theta), R_Y(\\theta)$ and the $R_Z(\\theta)$ gates. One way to do this is to perform additional gate operations after creating a Bell pair.\n",
        "\n",
        "A key thing to realize here is that we are in essence preparing a distribution over measurement space.  "
      ],
      "metadata": {}
    },
    {
      "cell_type": "code",
      "source": [
        "%%qsharp\n",
        "/// # Summary\n",
        "/// Creates an entangled state by first creating a Bell pair and then applying the Ry gate to one of the qubits.\n",
        "///\n",
        "/// # Input\n",
        "/// ## theta\n",
        "/// Degree in radians which is passed to the Ry gate.\n",
        "///\n",
        "/// # Output\n",
        "/// Result array containing measurement result on the two qubit entangled state.\n",
        "\n",
        "operation VaryingDistribution(theta : Double) : Result[] {\n",
        "    use qs = Qubit[2];\n",
        "    H(qs[0]);\n",
        "    CNOT(qs[0], qs[1]);\n",
        "    Ry(theta, qs[0]);\n",
        "    return ForEach(M, qs);\n",
        "}"
      ],
      "outputs": [],
      "execution_count": 7,
      "metadata": {
        "microsoft": {
          "language": "qsharp"
        }
      }
    },
    {
      "cell_type": "code",
      "source": [
        "pi = 3.1415\n",
        "# Range of theta values to test\n",
        "thetaRange = [.3*pi, .7*pi, pi, 1.4*pi] \n",
        "shots = 100\n",
        "for (theta_i, theta) in enumerate(thetaRange):\n",
        "    results = []\n",
        "    for shot in range(shots):\n",
        "        result = VaryingDistribution.simulate(theta=theta)\n",
        "        num = 0\n",
        "        for (idx, bit) in enumerate(result):\n",
        "            # Convert binary to decimal\n",
        "            # The least significant bit is stored in the first index of result\n",
        "            num = num + (bit * 2**idx)\n",
        "        results.append(num)\n",
        "    # Plot results\n",
        "    ax = plt.subplot(2, 2, theta_i+1)\n",
        "    plt.hist(results) \n",
        "    plt.ylabel(\"Frequency\")\n",
        "    ax.set_xticks([0, 1, 2, 3], labels=[r\"$|00\\rangle$\", r\"$|01\\rangle$\", r\"$|10\\rangle$\", r\"$|11\\rangle$\"])\n",
        "    plt.title(\"Ry({})\".format(theta))\n",
        "\n",
        "plt.tight_layout()\n",
        "plt.show()"
      ],
      "outputs": [
        {
          "output_type": "display_data",
          "data": {
            "text/plain": "<Figure size 640x480 with 4 Axes>",
            "image/png": "[encoded data removed]"
          },
          "metadata": {}
        }
      ],
      "execution_count": 8,
      "metadata": {}
    },
    {
      "cell_type": "markdown",
      "source": [
        "With entangled states like these, a partial measurement on one qubit will not yield as much information about the state of the second qubit as in the case of the Bell state."
      ],
      "metadata": {}
    },
    {
      "cell_type": "markdown",
      "source": [
        "### <span style=\"color:#61c2e8\">Task 3 Questions</span>: \n",
        "* T3.1. Calculate the resulting state from applying the $R_Y(\\theta)$ gate to the state $\\begin{bmatrix} \\alpha \\\\ \\beta \\end{bmatrix}$.\n",
        "\n",
        "* T3.2. Let's say we have the state $$|\\psi_1\\psi_2\\rangle = \\alpha_{00}|00\\rangle + \\alpha_{01}|01\\rangle + \\alpha_{10}|10\\rangle + \\alpha_{11}|11\\rangle$$ Next we apply a CNOT gate to both qubits with $|\\psi_1\\rangle$ as the control. Derive an expression for the probability of $|\\psi_2\\rangle$ being measured in the $|0\\rangle$ state.\n",
        "\n",
        "* T3.3. Consider the state generated in the last Q# code cell by applying the $R_Y(\\theta)$ gate to the first qubit in the Bell state. For $\\theta = \\frac{\\pi}{4}$ calculate the probability of measuring the target qubit as $|0\\rangle$ after measuring the control qubit in the $|1\\rangle$ state.  "
      ],
      "metadata": {}
    },
    {
      "cell_type": "markdown",
      "source": [
        "##### T3.1\n",
        "\n",
        "The $R_y(\\theta)$ gate is defined below.\n",
        "$$\n",
        "    R_y(\\theta) = \\begin{pmatrix}\n",
        "                  \\cos(\\theta/2) & -\\sin(\\theta/2) \\\\\n",
        "                  \\sin(\\theta/2) &  \\cos(\\theta/2)\n",
        "                  \\end{pmatrix}\n",
        "$$\n",
        "By applying the $R_y(\\theta)$ gate to the state $[\\alpha\\quad\\beta]^\\intercal$ we get the resulting matrix.\n",
        "$$\n",
        "\\begin{align*}\n",
        "    R_y(\\theta)\\;\\begin{bmatrix}\n",
        "                 \\alpha \\\\\n",
        "                 \\beta\n",
        "                 \\end{bmatrix}\n",
        "    &=\n",
        "    \\begin{pmatrix}\n",
        "    \\cos(\\theta/2) & -\\sin(\\theta/2) \\\\\n",
        "    \\sin(\\theta/2) &  \\cos(\\theta/2)\n",
        "    \\end{pmatrix}\n",
        "      * \n",
        "      \\begin{bmatrix}\n",
        "      \\alpha \\\\\n",
        "      \\beta\n",
        "      \\end{bmatrix} \\\\\n",
        "    &= \\begin{bmatrix}\n",
        "       \\alpha\\cos(\\theta/2)-\\beta\\sin(\\theta/2) \\\\\n",
        "       \\alpha\\sin(\\theta/2)+\\beta\\cos(\\theta/2)\n",
        "       \\end{bmatrix}\n",
        "\\end{align*}\n",
        "$$"
      ],
      "metadata": {
        "nteract": {
          "transient": {
            "deleting": false
          }
        }
      }
    },
    {
      "cell_type": "markdown",
      "source": [
        "##### T 3.2\n",
        "\n",
        "We are given the following equation.\n",
        "$$\n",
        "    \\ket{\\psi_1\\psi_2} = \\alpha_{00}\\ket{00} + \\alpha_{01}\\ket{01} + \\alpha_{10}\\ket{10} + \\alpha_{11}\\ket{11}\n",
        "$$\n",
        "By applying the CNOT gate to the above equation we get the following equation.\n",
        "$$\n",
        "    CNOT(\\ket{\\psi_1\\psi_2}) = \\alpha_{00}\\ket{00} + \\alpha_{01}\\ket{01} + \\alpha_{11}\\ket{10} + \\alpha_{10}\\ket{11} \n",
        "$$\n",
        "Therefore, \n",
        "$$\n",
        "\\begin{align*}\n",
        "    \\text{Pr}\\{\\ket{\\psi_2}\\text{being measured in the }\\ket{0}\\text{ state}\\} &= \\\\\n",
        "    \\text{Pr}\\{00\\} + \\text{Pr}\\{10\\} = |\\alpha_{00}|^2 + |\\alpha_{11}|^2\n",
        "\\end{align*}\n",
        "$$"
      ],
      "metadata": {
        "nteract": {
          "transient": {
            "deleting": false
          }
        }
      }
    },
    {
      "cell_type": "markdown",
      "source": [
        "##### T 3.3 \n",
        "\n",
        "We need to compute the following probability.\n",
        "$$\n",
        "    \\text{Pr}(\\text{target Qubit is measured as }\\ket{0} | \\text{control Qubit is measured as }\\ket{1})\n",
        "$$\n",
        "Control Qubit is measured in the $\\ket{1}$ state. Without rotation of the control Qubit the target Qubit will be measured as $\\ket{1}$ with probability $1$ and $\\ket{0}$ with probability $0$. The target Qubit will be measured as the following.\n",
        "$$\n",
        "\\begin{pmatrix}\n",
        "    0 \\\\\n",
        "    1\n",
        "\\end{pmatrix}\n",
        "$$\n",
        "Now, because the control Qubit is rotated by $\\theta$, and the control and target Qubit are entangled in the Bell State, the target Qubit will also be rotated by $\\theta$. Therefore, the target Qubit will be measured as the following.\n",
        "$$\n",
        "\\begin{pmatrix}\n",
        "    \\cos(\\theta/2) & -\\sin(\\theta/2) \\\\\n",
        "    \\sin(\\theta/2)  & \\cos(\\theta/2)\n",
        "\\end{pmatrix}\n",
        "\\begin{pmatrix}\n",
        "    0 \\\\\n",
        "    1\n",
        "\\end{pmatrix}\n",
        "= -\\sin(\\theta/2)\\ket{0} + \\cos(\\theta/2)\\ket{1}\n",
        "$$\n",
        "\n",
        "Therefore, $\\text{Pr}(\\text{target Qubit measured as }\\ket{0})=(-\\sin(\\theta/2))^2=\\sin^2(\\theta/2)$.\n",
        "By replacing $\\theta$ with $\\pi/8$ we get the following, $\\sin^2(\\pi/8)=0.1464$"
      ],
      "metadata": {
        "nteract": {
          "transient": {
            "deleting": false
          }
        }
      }
    },
    {
      "cell_type": "code",
      "source": [],
      "outputs": [],
      "execution_count": null,
      "metadata": {
        "jupyter": {
          "source_hidden": false,
          "outputs_hidden": false
        },
        "nteract": {
          "transient": {
            "deleting": false
          }
        }
      }
    }
  ],
  "metadata": {
    "kernelspec": {
      "name": "python3",
      "language": "python",
      "display_name": "Python 3 (ipykernel)"
    },
    "language_info": {
      "name": "python",
      "version": "3.9.15",
      "mimetype": "text/x-python",
      "codemirror_mode": {
        "name": "ipython",
        "version": 3
      },
      "pygments_lexer": "ipython3",
      "nbconvert_exporter": "python",
      "file_extension": ".py"
    },
    "vscode": {
      "interpreter": {
        "hash": "1cde0123ad091c17bb3dac1610a1b00e4cc7ccaccc904fd2e4f3100417f26ae7"
      }
    },
    "kernel_info": {
      "name": "python3"
    },
    "nteract": {
      "version": "nteract-front-end@1.0.0"
    }
  },
  "nbformat": 4,
  "nbformat_minor": 2
}