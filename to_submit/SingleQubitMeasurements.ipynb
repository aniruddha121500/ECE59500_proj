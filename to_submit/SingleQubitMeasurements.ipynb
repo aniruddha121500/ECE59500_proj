{
  "cells": [
    {
      "cell_type": "markdown",
      "source": [
        "# Assignment 1 - Fundamentals of Quantum Computing \n",
        "\n",
        "In class you were introduced to the concept of quantum gates. We represent these gates as matrices, and the application of these gates to a quantum state - as multiplying that state by the gate matrix. In this assignment we are going to explore two gates: The Hadamard and the $R_y$ gate.\n",
        "\n",
        "### Hadamard, or $H$ gate\n",
        "$H = \\frac{1}{\\sqrt{2}}\\begin{bmatrix} 1 & 1 \\\\ 1 & -1 \\end{bmatrix}$\n",
        "\n",
        "### $R_Y$ gate\n",
        "$R_Y(\\theta) = \\begin{bmatrix} \\cos(\\frac{\\theta}{2}) & -\\sin(\\frac{\\theta}{2}) \\\\ \\sin(\\frac{\\theta}{2}) & \\cos(\\frac{\\theta}{2}) \\end{bmatrix}$\n",
        "\n",
        "> Applying these gates to a qubit state makes the state vector undergo a rotation in the two-dimensional Hilbert space, which describes our qubit. The Hadamard gate rotates the $|0\\rangle$ state to $\\frac{1}{\\sqrt{2}}(|0\\rangle + |1\\rangle)$ and the $|1\\rangle$ state to $\\frac{1}{\\sqrt{2}}(|0\\rangle - |1\\rangle$. The $R_y$ gate rotates the qubit by an angle $\\theta$ with eigenvectors the state $\\frac{1}{\\sqrt{2}}(|0\\rangle \\pm |1\\rangle)$.\n"
      ],
      "metadata": {}
    },
    {
      "cell_type": "markdown",
      "source": [
        "#### Run these cells before beginning to import necessary packages.\n",
        "This cell may take a minute or more to complete. Importing qsharp triggers a sequence of actions which allow us to compile and run Q# code in this notebook."
      ],
      "metadata": {}
    },
    {
      "cell_type": "code",
      "source": [
        "import qsharp \n",
        "import matplotlib.pyplot as plt"
      ],
      "outputs": [
        {
          "output_type": "stream",
          "name": "stdout",
          "text": "Preparing Q# environment...\n."
        }
      ],
      "execution_count": 1,
      "metadata": {}
    },
    {
      "cell_type": "code",
      "source": [
        "%%qsharp\n",
        "open Microsoft.Quantum.Canon;       // Provide us with ApplyToEach\n",
        "open Microsoft.Quantum.Arrays;      // Provide us with ForEach"
      ],
      "outputs": [],
      "execution_count": 2,
      "metadata": {
        "microsoft": {
          "language": "qsharp"
        }
      }
    },
    {
      "cell_type": "markdown",
      "source": [
        "### <span style=\"color:#61c2e8\">Task 1</span>: Random Number Generation\n",
        "\n",
        "One potential application of quantum computing is generating random numbers. Below is Q# code that generates an array of N random bits. Run the Q# code cell below to compile the operation. "
      ],
      "metadata": {}
    },
    {
      "cell_type": "code",
      "source": [
        "%%qsharp \n",
        "\n",
        "/// # Summary\n",
        "/// Generates an array of N random bits.\n",
        "///\n",
        "/// # Input\n",
        "/// ## N\n",
        "/// The number of random bits to generate.\n",
        "///\n",
        "/// # Output \n",
        "/// An array of bits, represented as the Result data type - Q# data type for describing measurement results.\n",
        "\n",
        "operation RandomNumber(N : Int) : Result[] {\n",
        "    // Allocate an array of qubits of size N all initialized to |0⟩\n",
        "    use qs = Qubit[N]; \n",
        "\n",
        "    // Apply a Hadamard gate to each qubit\n",
        "    ApplyToEach(H, qs); \n",
        "\n",
        "    // Measure each qubit and return an array of Results.\n",
        "    // ForEach applies the given operation to each array elemnt and returns an \n",
        "    // array of the values returned by the operation.\n",
        "    //\n",
        "    // M performs measurement on a qubit in the computational basis (Z).\n",
        "    return ForEach(M, qs); \n",
        "} "
      ],
      "outputs": [],
      "execution_count": 3,
      "metadata": {
        "microsoft": {
          "language": "qsharp"
        }
      }
    },
    {
      "cell_type": "markdown",
      "source": [
        "Run the next Python cell to simulate the RandomNumber() operation and see its output. In Q# measurement returns a \"Result\" type, which can have two values: 'One' or 'Zero'. When returned to Python these are automatically converted to the integers 1 and 0. "
      ],
      "metadata": {}
    },
    {
      "cell_type": "code",
      "source": [
        "RandomNumber.simulate(N=10)"
      ],
      "outputs": [
        {
          "output_type": "execute_result",
          "execution_count": 4,
          "data": {
            "text/plain": "[1, 0, 1, 1, 1, 0, 0, 1, 1, 1]"
          },
          "metadata": {}
        }
      ],
      "execution_count": 4,
      "metadata": {}
    },
    {
      "cell_type": "markdown",
      "source": [
        "### <span style=\"color:#61c2e8\">Task 1 Questions</span>: \n",
        "* T1.1. Explain in your own words what this program does to create random bits.\n",
        "\n",
        "* T1.2. Show the math for calculating $H|0\\rangle$. Show the calculations for the probabilities of measuring $|0\\rangle$ and $|1\\rangle$ for this state.\n",
        "\n",
        "\n",
        "### <span style=\"color:#61c2e8\">Extra Credit Question</span>:\n",
        "\n",
        "* T1.3. Are the bits being generated here truly random? Check out the [documentation on the .simulate() method](https://docs.microsoft.com/en-us/azure/quantum/machines/full-state-simulator) to figure out how it runs your program."
      ],
      "metadata": {}
    },
    {
      "cell_type": "markdown",
      "source": [
        "##### T 1.1\n",
        "\n",
        "In the first line of the code shown above, that is i.e., $qs=Qubit[N]$, as array of $n$ qubits are registered. By deafault each of the qubits has a wave function of $\\ket{0}$. Then a Hadamard gate is applied in the line to each qubit using the following code chunck, $ApplyToEach(H, qs)$. Now the wave fucntion for each quvit is transformed as shown below.\n",
        "$$\n",
        "\\ket{\\psi} = \n",
        "\\frac{1}{\\sqrt{2}}\n",
        "\\begin{pmatrix}\n",
        "    1 & 1 \\\\ 1 & -1\n",
        "\\end{pmatrix}\n",
        "\\times\n",
        "\\begin{pmatrix}\n",
        "    1 \\\\ 0\n",
        "\\end{pmatrix} \n",
        "=\n",
        "\\frac{1}{\\sqrt{2}}\n",
        "\\begin{pmatrix}\n",
        "    1 \\\\ 1\n",
        "\\end{pmatrix}\n",
        "=\n",
        "\\frac{\\ket{0} + \\ket{1}}{\\sqrt{2}}\n",
        "$$\n",
        "Therefore, any measurement using the Pauli-z matrix has a equal probability of measuring each of the qubits as $\\ket{0}$ or $\\ket{1}$. The measurement is done and returned by applying the $M$ operation to each qubit. Therefore, we obtain a vector of random $0$ and $1$."
      ],
      "metadata": {
        "nteract": {
          "transient": {
            "deleting": false
          }
        }
      }
    },
    {
      "cell_type": "markdown",
      "source": [
        "##### T 1.2\n",
        "\n",
        "Below the math for the calculation of $H\\ket{0}$ is shown.\n",
        "$$\n",
        "\\ket{\\psi} = \n",
        "H\\ket{0} = \n",
        "\\frac{1}{\\sqrt{2}}\n",
        "\\begin{pmatrix}\n",
        "    1 & 1 \\\\ 1 & -1\n",
        "\\end{pmatrix}\n",
        "\\times\n",
        "\\begin{pmatrix}\n",
        "    1 \\\\ 0\n",
        "\\end{pmatrix} \n",
        "=\n",
        "\\frac{1}{\\sqrt{2}}\n",
        "\\begin{pmatrix}\n",
        "    1 \\\\ 1\n",
        "\\end{pmatrix}\n",
        "=\n",
        "\\frac{\\ket{0} + \\ket{1}}{\\sqrt{2}}\n",
        "$$\n",
        "<!-- The density operator for $\\ket{\\psi} = H\\ket{0}$ is shown below.\n",
        "$$\n",
        "\\begin{align*}\n",
        "    \\ket{\\psi}\\bra{\\psi} &= \\left( \\frac{\\ket{0} + \\ket{1}}{\\sqrt{2}} \\right) \\left( \\frac{\\bra{0} + \\bra{1}}{\\sqrt{2}} \\right) \\\\\n",
        "    &= \\frac{1}{2} \\begin{pmatrix}\n",
        "                   \\braket{0|0} & \\braket{0|1} \\\\\n",
        "                   \\braket{1|0} & \\braket{1|1}\n",
        "                   \\end{pmatrix} \\\\\n",
        "    &=             \\begin{pmatrix}\n",
        "                   \\braket{0|0} & \\braket{0|1} \\\\\n",
        "                   \\braket{1|0} & \\braket{1|1}\n",
        "                   \\end{pmatrix}\n",
        "\\end{align*} \n",
        "$$ -->\n",
        "The detector will detect the state $\\ket{0}$ with the probability shown below.\n",
        "$$\n",
        "\\begin{align*}\n",
        "    |\\braket{0|\\psi}|^2&=\\left|\\frac{\\braket{0|0} + \\braket{0|1}}{\\sqrt{2}}\\right|^2=\\left|\\frac{1 + 0}{\\sqrt{2}}\\right|^2=\\frac12. \\\\\n",
        "    \\text{Since, } &  \\\\\n",
        "    \\braket{i|j} &= \n",
        "    \\begin{cases}\n",
        "    1 \\quad\\text{if } i = j \\\\\n",
        "    0 \\quad\\text{if } i \\ne j.\n",
        "    \\end{cases}\n",
        "\\end{align*}\n",
        "$$\n",
        "Similarly, a detector will detect the state $\\ket{1}$ with the probability shown below.\n",
        "$$\n",
        "    |\\braket{1|\\psi}|^2=\\left|\\frac{\\braket{1|0} + \\braket{1|1}}{\\sqrt{2}}\\right|^2=\\left|\\frac{0 + 1}{\\sqrt{2}}\\right|^2=\\frac12.\n",
        "$$\n",
        "In conclusion, the measurement dectects the states $\\ket{0}$ and $\\ket{1}$ with equal probability."
      ],
      "metadata": {
        "nteract": {
          "transient": {
            "deleting": false
          }
        }
      }
    },
    {
      "cell_type": "markdown",
      "source": [
        "##### T 1.3 (Extra Credit)\n",
        "\n",
        "It does not invoke the true randomness of a quantum machine because it is using a classical random number generator to mimic a quantum machine. To generate a true random number we would need to run it on a true quantum machine."
      ],
      "metadata": {
        "nteract": {
          "transient": {
            "deleting": false
          }
        }
      }
    },
    {
      "cell_type": "markdown",
      "source": [
        "### <span style=\"color:#61c2e8\">Task 2</span>: Random States\n",
        "\n",
        "In Task 1, we explored measuring an equal superposition state to randomly generate 0s and 1s. In this next task, we are going to explore what happens when we no longer have an equal superposition state. We will do this using the $R_Y$ gate. \n",
        "\n",
        "Please compile the Q# code cell and then run the Python cell to simulate the compiled circuit."
      ],
      "metadata": {}
    },
    {
      "cell_type": "code",
      "source": [
        "%%qsharp  \n",
        "\n",
        "/// # Summary\n",
        "/// Allocates a qubit, applies an Ry gate of theta radians, then returns the result of measurement on that qubit. \n",
        "///\n",
        "/// # Input\n",
        "/// ## theta\n",
        "/// Argument passed to the Ry gate, in radians. \n",
        "///\n",
        "/// # Output \n",
        "/// A single measurement result \n",
        "\n",
        "operation RyRotation(theta : Double) : Result {\n",
        "    // Allocate a qubit, all qubits start in the |0⟩ state\n",
        "    use q = Qubit();     \n",
        "\n",
        "    // Apply an Ry gate of degree theta\n",
        "    Ry(theta, q); \n",
        "\n",
        "    // Measure the qubit, then return the measured value\n",
        "    return M(q);\n",
        "}\n"
      ],
      "outputs": [],
      "execution_count": 5,
      "metadata": {
        "microsoft": {
          "language": "qsharp"
        }
      }
    },
    {
      "cell_type": "code",
      "source": [
        "shots = 50\n",
        "results = []\n",
        "thetaRange = [t * 3.14/180 for t in range(0, 360, 10)]\n",
        "for theta in thetaRange:\n",
        "    count1 = 0\n",
        "    for shot in range(shots):\n",
        "        result = RyRotation.simulate(theta=theta)\n",
        "        count1 = count1 + result\n",
        "    results.append(count1/shots)\n",
        "\n",
        "\n",
        "plt.plot(thetaRange, results, label=\"Percentage of 1s Measured\")\n",
        "plt.plot(thetaRange, [1-x for x in results], label=\"Percentage of 0s Measured\")\n",
        "plt.legend()\n",
        "plt.xlabel(\"Theta\")\n",
        "plt.ylabel(\"Percentage\")\n",
        "plt.show()\n"
      ],
      "outputs": [
        {
          "output_type": "display_data",
          "data": {
            "text/plain": "<Figure size 640x480 with 1 Axes>",
            "image/png": "[encoded data removed]"
          },
          "metadata": {}
        }
      ],
      "execution_count": 8,
      "metadata": {}
    },
    {
      "cell_type": "markdown",
      "source": [
        "### <span style=\"color:#61c2e8\">Task 2 Questions</span>: \n",
        "\n",
        "* T2.1. Explain this graph. How does the parameter theta affect the measurement probability?\n",
        "\n",
        "* T2.2. Derive the state prepared by applying the arbitrary $R_Y(\\theta)$ gate to the arbitrary state $|\\psi\\rangle$. In other words, calculate $R_Y(\\theta)|\\psi\\rangle$.\n",
        "\n",
        "* T2.3 Explain how the angle $\\theta$ can be implemented for a polarization photonic qubit. How about an atomic qubit?"
      ],
      "metadata": {}
    },
    {
      "cell_type": "markdown",
      "source": [
        "The $R_y$ gate is shown below.\n",
        "$$\n",
        "    R_y(\\theta) := e^{-i\\theta\\sigma_y/2} = \\begin{bmatrix}\n",
        "                                            \\cos{\\frac{\\theta}{2}} & -\\sin{\\frac{\\theta}{2}} \\\\\n",
        "                                            \\sin{\\frac{\\theta}{2}} & \\cos{\\frac{\\theta}{2}}\n",
        "                                            \\end{bmatrix}\n",
        "$$\n",
        "Initially, a qubit is created by the command $q=Qubit()$. This initializes a qubit with the function $\\ket{0}$. Now, operating the $R_y$ gate on this qubit sets the qubit to the following sate.\n",
        "$$\n",
        "\\begin{bmatrix}\n",
        "\\cos{\\frac{\\theta}{2}} & -\\sin{\\frac{\\theta}{2}} \\\\\n",
        "\\sin{\\frac{\\theta}{2}} & \\cos{\\frac{\\theta}{2}}\n",
        "\\end{bmatrix}\n",
        "\\times\n",
        "\\begin{bmatrix}\n",
        "1 \\\\ \n",
        "0\n",
        "\\end{bmatrix}\n",
        "=\n",
        "\\begin{bmatrix}\n",
        "\\cos{\\frac{\\theta}{2}} \\\\\n",
        "\\sin{\\frac{\\theta}{2}}\n",
        "\\end{bmatrix}\n",
        "$$\n",
        "Therefore, the superposition state of the qubit is shown below.\n",
        "$$\n",
        "\\ket{\\psi} = \\cos{\\frac{\\theta}{2}}\\ket{0} + \\sin{\\frac{\\theta}{2}}\\ket{1}.\n",
        "$$\n",
        "At this state the probability of measuring the state $\\ket{0}$ is $(\\cos{\\theta/2})^2$ and the probabilty of measuring the state $\\ket{1}$ is $(\\sin{\\theta/2})^2$. Therefore, when $\\theta=0$ the probability of measuring the state $\\ket{0}$ is $1$ and the probability of measuring the state $\\ket{1}$ is $0$. When $\\theta=\\pi/2$ the probability of measuring the state $\\ket{0}$ is $0.5$ and the probability of measuring the state $\\ket{1}$ is $0.5$. When $\\theta=\\pi$ the probability of measuring the state $\\ket{0}$ is $0$ and the probability of measuring the state $\\ket{1}$ is $1$. Finally, when $\\theta=2\\pi$ the probability of measuring the state $\\ket{0}$ is $1$ and the probability of measuring the state $\\ket{1}$ is $0$. This is what the graph shows."
      ],
      "metadata": {
        "nteract": {
          "transient": {
            "deleting": false
          }
        }
      }
    },
    {
      "cell_type": "markdown",
      "source": [
        "##### T 2.2\n",
        "\n",
        "Let $\\psi=\\cos{\\phi}\\ket{0} + \\sin{\\phi}\\ket{1}$ for an arbritrary angle $\\phi$ with respect to the $\\ket{0}$ state. Therefore, $R_y(\\theta)\\ket{\\psi}$ is shown below.\n",
        "$$\n",
        "\\begin{align*}\n",
        "    \\begin{bmatrix}\n",
        "    \\cos{\\frac{\\theta}{2}} & -\\sin{\\frac{\\theta}{2}} \\\\\n",
        "    \\sin{\\frac{\\theta}{2}} & \\cos{\\frac{\\theta}{2}}\n",
        "    \\end{bmatrix}\n",
        "    \\times\n",
        "    \\begin{bmatrix}\n",
        "    \\cos{\\phi} \\\\\n",
        "    \\sin{\\phi}\n",
        "    \\end{bmatrix}\n",
        "    =\n",
        "    \\begin{bmatrix}\n",
        "    \\cos{\\phi}\\cos{\\theta / 2} - \\sin{\\phi}\\sin{(\\theta / 2)} \\\\\n",
        "    \\cos{\\phi}\\sin{\\theta / 2} + \\sin{\\phi}\\cos{(\\theta / 2)}\n",
        "    \\end{bmatrix}\n",
        "    =\n",
        "    \\begin{bmatrix}\n",
        "    \\cos{(\\phi + \\theta / 2)} \\\\\n",
        "    \\sin{(\\phi + \\theta / 2)}\n",
        "    \\end{bmatrix}\n",
        "\\end{align*}\n",
        "$$\n",
        "Therefore, the $R_y(\\theta)$ gate rotates the qubit about the y-axis by the angle $\\theta/2$."
      ],
      "metadata": {
        "nteract": {
          "transient": {
            "deleting": false
          }
        }
      }
    },
    {
      "cell_type": "markdown",
      "source": [
        "##### T 2.3\n",
        "\n",
        "The angle $\\theta$ can be implemented using a beam splitter or a polarization material with the appropriate thickness. The state $\\ket{0}$ is polarized at angle $0$ and the state $\\ket{1}$ is polarized at angle $\\pi$. For an atomic qubit the states $\\ket{0}$ and $\\ket{1}$ represent two energy levels, the ground state and the excited state. The superposition is attained by a controlled lazer shots. "
      ],
      "metadata": {
        "nteract": {
          "transient": {
            "deleting": false
          }
        }
      }
    },
    {
      "cell_type": "markdown",
      "source": [
        ">Note:\n",
        ">\n",
        ">We can actually define two other gates like the $R_Y(\\theta)$ gate which allow us to describe all types of rotations. These two other gates are $R_X(\\theta)\\text{ and }R_Z(\\theta)$. \n",
        ">\n",
        ">$R_X(\\theta) = \\begin{bmatrix} \\cos(\\frac{\\theta}{2}) & -i\\sin(\\frac{\\theta}{2}) \\\\ -i\\sin(\\frac{\\theta}{2}) & \\cos(\\frac{\\theta}{2}) \\end{bmatrix}$\n",
        ">\n",
        ">\n",
        ">$R_Z(\\theta) = \\begin{bmatrix} e^{-i\\frac{\\theta}{2}} & 0 \\\\ 0 & e^{i\\frac{\\theta}{2}} \\end{bmatrix}$\n",
        ">\n",
        ">\n",
        ">These gates cause a $\\theta$ degree rotation about the X-axis and Z-axis respectively. Using them we can create any rotation on the Bloch Sphere. In fact the $H$ gate can be represented as follows: $H = -iR_Z(\\pi)R_Y(-\\frac{\\pi}{2})$. "
      ],
      "metadata": {}
    }
  ],
  "metadata": {
    "kernelspec": {
      "name": "python3",
      "language": "python",
      "display_name": "Python 3 (ipykernel)"
    },
    "language_info": {
      "name": "python",
      "version": "3.9.15",
      "mimetype": "text/x-python",
      "codemirror_mode": {
        "name": "ipython",
        "version": 3
      },
      "pygments_lexer": "ipython3",
      "nbconvert_exporter": "python",
      "file_extension": ".py"
    },
    "orig_nbformat": 4,
    "vscode": {
      "interpreter": {
        "hash": "1cde0123ad091c17bb3dac1610a1b00e4cc7ccaccc904fd2e4f3100417f26ae7"
      }
    },
    "nteract": {
      "version": "nteract-front-end@1.0.0"
    },
    "kernel_info": {
      "name": "python3"
    }
  },
  "nbformat": 4,
  "nbformat_minor": 2
}