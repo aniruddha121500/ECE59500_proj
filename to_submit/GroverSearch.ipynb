{
  "cells": [
    {
      "cell_type": "markdown",
      "source": [
        "# Assignment 4 - Grover's Search Algorithm \n",
        "\n",
        "In this assignment we are going to explore Grover's search algorithm, one of the most famous quantum algorithms. Grover's algorithm is an algorithm for solving the following search problem. Given a function $f$ which take and N-bit input and returns a 1-bit output, 0 or 1, find any input $x_0$ for which $f(x_0) = 1$.\n",
        "\n",
        "We can represent this problem on a quantum computer by defining an oracle, G, which acts on our state as follows:\n",
        "$$\n",
        "G|\\psi\\rangle =  \\begin{cases} \n",
        "      -|x\\rangle & |x\\rangle = \\text{a state for which }f(x) = 1\\\\\n",
        "       |x\\rangle & \\text{otherwise}\n",
        "   \\end{cases}\\\\\n",
        "$$\n",
        "\n",
        "Grover's algorithm allows us to find a value $x$ for which $f(x) = 1$ with only $O(\\sqrt{\\frac{2^N}{k}})$ applications of G, where $k$ is the number of $x$'s for which $f(x) = 1$.  "
      ],
      "metadata": {}
    },
    {
      "cell_type": "markdown",
      "source": [
        "#### Run these cells before beginning to import necessary packages.\n",
        "This cell may take a minute or more to complete. Importing qsharp triggers a sequence of actions which allow us to compile and run Q# code in this notebook."
      ],
      "metadata": {}
    },
    {
      "cell_type": "code",
      "source": [
        "import qsharp\n",
        "from qsharp import azure\n",
        "import matplotlib.pyplot as plt"
      ],
      "outputs": [
        {
          "output_type": "stream",
          "name": "stdout",
          "text": "Preparing Q# environment...\n"
        }
      ],
      "execution_count": 1,
      "metadata": {}
    },
    {
      "cell_type": "code",
      "source": [
        "%%qsharp \n",
        "open Microsoft.Quantum.Diagnostics; \n",
        "open Microsoft.Quantum.Canon;\n",
        "open Microsoft.Quantum.Arrays;\n",
        "open Microsoft.Quantum.Random;"
      ],
      "outputs": [],
      "execution_count": 2,
      "metadata": {
        "microsoft": {
          "language": "qsharp"
        }
      }
    },
    {
      "cell_type": "markdown",
      "source": [
        "## <span style=\"color:#61c2e8\">Task 1 Finding Alternating Bit Strings Using Grover's Search</span>:\n",
        "First we will define an oracle. In order to define an oracle we only need to know how to implement the function $f$. Grover's algorithm is suitable for problems in which defining $f$ is easy, while finding a value $x$ which satisfies the equation $f(x) = 1$ is not. One example would be a Sudoku puzzle, where it is easier to check whether a grid filled with digits is an answer than it is to find the answer.\n",
        "\n",
        "For this example we will consider the function $f(x)$ which is equal to 1 when $x$ is a bit string of length $N$ in which no pair of adjacent bits have the same value. If you think about this, it becomes clear that the bit strings for which $f(x) = 1$ alternate between 0 and 1. This means that for any N there will be two possible solutions, one starting with 0 and one starting with 1. So for this example $k = 2$.\n",
        "\n",
        "So our $f$ will look like this:\n",
        "$$\n",
        "f(x) =  \\begin{cases} \n",
        "      1 & x = 0101\\text{... or }1010\\text{...}\\\\\n",
        "      0 & \\text{otherwise}\n",
        "   \\end{cases}\\\\\n",
        "$$\n",
        "However, our oracle will not mark these two states explicitly based on our ability to find the solution classically. Instead, it will use binary logic to check the condition by verifying that each pair of adjacent bits has different values. In this way we can build our oracle without actually knowing what the target states will be."
      ],
      "metadata": {}
    },
    {
      "cell_type": "code",
      "source": [
        "%%qsharp\n",
        "/// # Summary\n",
        "/// A phase oracle which applies a negative phase to \n",
        "/// the states where no adjacent bits are equal.\n",
        "///\n",
        "/// # Input \n",
        "/// ## qs \n",
        "/// The qubits which are having the oracle applied to them. \n",
        "\n",
        "operation AlternatingBitStringOracle(qs : Qubit[]) : Unit { \n",
        "    // We first apply a CNOT gate between each pair of adjacent qubits\n",
        "    // to calculate qs[i] XOR qs[i-1] and store the result in qs[i-1].\n",
        "    // Next, we apply a CZ to the output of all of these XOR operations\n",
        "    // flipping the phase of the state where each XOR evaluates to 1.\n",
        "    // Then we uncompute the previous CNOT gates to return the phase\n",
        "    // to the target states. \n",
        "\n",
        "    // The within-apply statement does 3 things:\n",
        "    // 1. Performs the operations in the within block.\n",
        "    // 2. Performs the operations in the apply block.\n",
        "    // 3. Calculates and performs the adjoint of the within block.\n",
        "    within {\n",
        "        for i in 1 .. Length(qs) - 1 {\n",
        "            CNOT(qs[i], qs[i-1]);\n",
        "        }\n",
        "    } apply {\n",
        "        Controlled Z(qs[0 .. Length(qs) - 3], qs[Length(qs) - 2]);\n",
        "    }\n",
        "}"
      ],
      "outputs": [],
      "execution_count": 6,
      "metadata": {
        "microsoft": {
          "language": "qsharp"
        }
      }
    },
    {
      "cell_type": "markdown",
      "source": [
        "Next, we need to define Grover's diffusion operator. A lot has been written about the reasoning behind the diffusion operator; [this article](https://cnot.io/quantum_algorithms/grover/grovers_algorithm.html) does a great job of explaining it.\n",
        "\n"
      ],
      "metadata": {}
    },
    {
      "cell_type": "code",
      "source": [
        "%%qsharp\n",
        "/// # Summary\n",
        "/// Grover's diffusion operator\n",
        "///\n",
        "/// # Input\n",
        "/// ## qs\n",
        "/// The qubit array which the diffusion operator is applied to.\n",
        "\n",
        "operation Diffusion(qs : Qubit[]) : Unit {\n",
        "    within {\n",
        "        ApplyToEachA(H, qs);\n",
        "        ApplyToEachA(X, qs);\n",
        "    } apply {\n",
        "        // Most gives us every array element except the last.\n",
        "        // Tail gives us the last array element.\n",
        "        Controlled Z(Most(qs), Tail(qs));\n",
        "    }\n",
        "}"
      ],
      "outputs": [],
      "execution_count": 7,
      "metadata": {
        "microsoft": {
          "language": "qsharp"
        }
      }
    },
    {
      "cell_type": "markdown",
      "source": [
        "Lastly, let us define our top-level operation. In it we will allocate the qubits we will use, apply the operations `AlternatingBitStringOracle` and `Diffusion` a specified number of times, and measure the qubits to read out the solution. Note that instead of calculating the optimal number of iterations during runtime we set things up so we can control the number when calling the operation."
      ],
      "metadata": {}
    },
    {
      "cell_type": "code",
      "source": [
        "%%qsharp\n",
        "/// # Summary\n",
        "/// The top-level operation for this implementation. \n",
        "/// Applies the oracle and diffusion operator multiple times.\n",
        "///\n",
        "/// # Input\n",
        "/// ## iterations\n",
        "/// The number of times to apply the oracle and diffusion operator.\n",
        "/// ## N \n",
        "/// The number of qubits to use. Our search space size is then 2^N.\n",
        "///\n",
        "/// # Output\n",
        "/// A Result[] type which contains the measurement result of each\n",
        "/// qubit that was allocated. \n",
        "\n",
        "operation Grovers(iterations : Int, N : Int) : Result[] {\n",
        "    use qs = Qubit[N];\n",
        "    ApplyToEach(H, qs);\n",
        "\n",
        "    for i in 1 .. iterations {\n",
        "        AlternatingBitStringOracle(qs);\n",
        "        Diffusion(qs);\n",
        "    }\n",
        "    return ForEach(M, qs);\n",
        "}"
      ],
      "outputs": [],
      "execution_count": 8,
      "metadata": {
        "microsoft": {
          "language": "qsharp"
        }
      }
    },
    {
      "cell_type": "markdown",
      "source": [
        "Now you can run this cell to see whether our measurement produced a state that is a solution to our problem. "
      ],
      "metadata": {}
    },
    {
      "cell_type": "code",
      "source": [
        "Grovers.simulate(iterations=35, N = 12)"
      ],
      "outputs": [
        {
          "output_type": "execute_result",
          "execution_count": 9,
          "data": {
            "text/plain": "[0, 1, 0, 1, 0, 1, 0, 1, 0, 1, 0, 1]"
          },
          "metadata": {}
        }
      ],
      "execution_count": 9,
      "metadata": {}
    },
    {
      "cell_type": "markdown",
      "source": [
        "Run this to see how many times a query returns a correct answer. Starting with N = 4 and iterations = 2."
      ],
      "metadata": {}
    },
    {
      "cell_type": "code",
      "source": [
        "# Vary these values for question #2\n",
        "N = 4\n",
        "iterations = 2 \n",
        "\n",
        "target1 = [i%2 for i in range(N)]\n",
        "target2 = [i%2 for i in range(1, N+1)]\n",
        "shots = 100\n",
        "correctCount = 0\n",
        "for shot in range(shots):\n",
        "    result = Grovers.simulate(iterations=iterations, N=N)\n",
        "    if result == target1 or result == target2:\n",
        "        correctCount += 1\n",
        "print(\"{}% of queries returned a correct answer\".format(100 * correctCount/shots))\n"
      ],
      "outputs": [
        {
          "output_type": "stream",
          "name": "stdout",
          "text": "96.0% of queries returned a correct answer\n"
        }
      ],
      "execution_count": 9,
      "metadata": {}
    },
    {
      "cell_type": "markdown",
      "source": [
        "Even on an ideal simulation we are only finding a target $x$ ~94% of the time. Fortunately this relatively large error rate decrease significantly as we increase N. As we increase N the probability of measuring the target after the optimal number of iterations will approach 1. \n",
        "\n",
        "\n",
        "However, on hardware we can expect this to be quite a bit worse, especially as we increase the size of the search space and the number of iterations (which translate to the number of qubits and the circuit depth, respectively). Let us submit this job to hardware and see how things play out."
      ],
      "metadata": {}
    },
    {
      "cell_type": "markdown",
      "source": [
        "Connect to Azure workspace."
      ],
      "metadata": {}
    },
    {
      "cell_type": "code",
      "source": [
        "qsharp.azure.connect(\n",
        "   resourceId=\"/subscriptions/476fe4b3-6f35-4af3-8050-b3b41a795058/resourceGroups/AzureQuantum/providers/Microsoft.Quantum/Workspaces/IntroToQuantumProj\",\n",
        "   location=\"East US\")"
      ],
      "outputs": [
        {
          "output_type": "display_data",
          "data": {
            "text/plain": "Connecting to Azure Quantum...",
            "application/x-qsharp-data": "\"Connecting to Azure Quantum...\""
          },
          "metadata": {}
        },
        {
          "output_type": "stream",
          "name": "stdout",
          "text": "Authenticated using Microsoft.Azure.Quantum.Authentication.TokenFileCredential\n\n\nConnected to Azure Quantum workspace IntroToQuantumProj in location eastus.\n"
        },
        {
          "output_type": "execute_result",
          "execution_count": 10,
          "data": {
            "text/plain": "[{'id': 'ionq.qpu', 'current_availability': {}, 'average_queue_time': 9783},\n {'id': 'ionq.qpu.aria-1', 'current_availability': {}, 'average_queue_time': 1595920},\n {'id': 'ionq.simulator', 'current_availability': {}, 'average_queue_time': 2},\n {'id': 'microsoft.estimator', 'current_availability': {}, 'average_queue_time': 0},\n {'id': 'quantinuum.hqs-lt-s1', 'current_availability': {}, 'average_queue_time': 0},\n {'id': 'quantinuum.hqs-lt-s1-apival', 'current_availability': {}, 'average_queue_time': 8},\n {'id': 'quantinuum.hqs-lt-s2', 'current_availability': {}, 'average_queue_time': 142151},\n {'id': 'quantinuum.hqs-lt-s2-apival', 'current_availability': {}, 'average_queue_time': 15},\n {'id': 'quantinuum.hqs-lt-s1-sim', 'current_availability': {}, 'average_queue_time': 80},\n {'id': 'quantinuum.hqs-lt-s2-sim', 'current_availability': {}, 'average_queue_time': 3620},\n {'id': 'quantinuum.hqs-lt', 'current_availability': {}, 'average_queue_time': 0},\n {'id': 'quantinuum.qpu.h1-1', 'current_availability': {}, 'average_queue_time': 0},\n {'id': 'quantinuum.sim.h1-1sc', 'current_availability': {}, 'average_queue_time': 8},\n {'id': 'quantinuum.qpu.h1-2', 'current_availability': {}, 'average_queue_time': 142151},\n {'id': 'quantinuum.sim.h1-2sc', 'current_availability': {}, 'average_queue_time': 15},\n {'id': 'quantinuum.sim.h1-1e', 'current_availability': {}, 'average_queue_time': 80},\n {'id': 'quantinuum.sim.h1-2e', 'current_availability': {}, 'average_queue_time': 3620},\n {'id': 'quantinuum.qpu.h1', 'current_availability': {}, 'average_queue_time': 0},\n {'id': 'rigetti.sim.qvm', 'current_availability': {}, 'average_queue_time': 5},\n {'id': 'rigetti.qpu.aspen-11', 'current_availability': {}, 'average_queue_time': 0},\n {'id': 'rigetti.qpu.aspen-m-2', 'current_availability': {}, 'average_queue_time': 5}]"
          },
          "metadata": {}
        }
      ],
      "execution_count": 10,
      "metadata": {}
    },
    {
      "cell_type": "markdown",
      "source": [
        "Set the target to ionq.qpu."
      ],
      "metadata": {}
    },
    {
      "cell_type": "code",
      "source": [
        "qsharp.azure.target(\"ionq.qpu\")"
      ],
      "outputs": [
        {
          "output_type": "stream",
          "name": "stdout",
          "text": "Loading package Microsoft.Quantum.Providers.IonQ and dependencies...\nActive target is now ionq.qpu\n"
        },
        {
          "output_type": "execute_result",
          "execution_count": 11,
          "data": {
            "text/plain": "{'id': 'ionq.qpu', 'current_availability': {}, 'average_queue_time': 9783}"
          },
          "metadata": {}
        }
      ],
      "execution_count": 11,
      "metadata": {}
    },
    {
      "cell_type": "code",
      "source": [
        "N = 4\n",
        "iterations = 2\n",
        "qsharp.azure.submit(Grovers, iterations=iterations, N=N, shots=500, jobName=\"Grover's iterations={}, N={}\".format(iterations, N))"
      ],
      "outputs": [
        {
          "output_type": "stream",
          "name": "stdout",
          "text": "Submitting Grovers to target ionq.qpu...\nJob successfully submitted.\n   Job name: Grover's iterations=2, N=4\n   Job ID: 439fe676-ac2c-4a6c-b9dc-ad5e724f9a0b\n"
        },
        {
          "output_type": "execute_result",
          "execution_count": 12,
          "data": {
            "text/plain": "{'id': '439fe676-ac2c-4a6c-b9dc-ad5e724f9a0b', 'name': \"Grover's iterations=2, N=4\", 'status': 'Waiting', 'uri': 'https://portal.azure.com/#@microsoft.onmicrosoft.com/resource/subscriptions/476fe4b3-6f35-4af3-8050-b3b41a795058/resourceGroups/AzureQuantum/providers/Microsoft.Quantum/Workspaces/IntroToQuantumProj/job_management?microsoft_azure_quantum_jobid=439fe676-ac2c-4a6c-b9dc-ad5e724f9a0b', 'provider': 'ionq', 'target': 'ionq.qpu', 'creation_time': '2022-12-08T06:22:58.2058849+00:00', 'begin_execution_time': None, 'end_execution_time': None, 'cost_estimate': ''}"
          },
          "metadata": {}
        }
      ],
      "execution_count": 12,
      "metadata": {}
    },
    {
      "cell_type": "code",
      "source": [
        "qsharp.azure.status()"
      ],
      "outputs": [
        {
          "output_type": "execute_result",
          "execution_count": 15,
          "data": {
            "text/plain": "{'id': '439fe676-ac2c-4a6c-b9dc-ad5e724f9a0b', 'name': \"Grover's iterations=2, N=4\", 'status': 'Waiting', 'uri': 'https://portal.azure.com/#@microsoft.onmicrosoft.com/resource/subscriptions/476fe4b3-6f35-4af3-8050-b3b41a795058/resourceGroups/AzureQuantum/providers/Microsoft.Quantum/Workspaces/IntroToQuantumProj/job_management?microsoft_azure_quantum_jobid=439fe676-ac2c-4a6c-b9dc-ad5e724f9a0b', 'provider': 'ionq', 'target': 'ionq.qpu', 'creation_time': '2022-12-08T06:22:58.2058849+00:00', 'begin_execution_time': None, 'end_execution_time': None, 'cost_estimate': ''}"
          },
          "metadata": {}
        }
      ],
      "execution_count": 15,
      "metadata": {}
    },
    {
      "cell_type": "code",
      "source": [
        "output = qsharp.azure.output(jobId=\"a9b95693-43c9-4442-afc4-d6f4c5e37669\")"
      ],
      "outputs": [],
      "execution_count": 16,
      "metadata": {}
    },
    {
      "cell_type": "code",
      "source": [
        "keys = list(output.keys())\n",
        "keys = [key.replace(\",\", \"\") for key in keys]\n",
        "keyLen = len(keys[0]) - 2\n",
        "firstBitString = \"\"\n",
        "secondBitString = \"\"\n",
        "for i in range(keyLen):\n",
        "    firstBitString += str((i+1)%2)\n",
        "    secondBitString += str(i%2)\n",
        "secondBitString = \"[{}]\".format(secondBitString)\n",
        "firstBitString = \"[{}]\".format(firstBitString)\n",
        "outputFreq = list(output.values())\n",
        "\n",
        "firstBitStringLoc = min(keys.index(firstBitString), keys.index(secondBitString))\n",
        "secondBitStringLoc = max(keys.index(firstBitString), keys.index(secondBitString))\n",
        "\n",
        "plt.bar(keys[0:firstBitStringLoc], outputFreq[0:firstBitStringLoc], color = \"blue\")\n",
        "plt.bar(keys[firstBitStringLoc], outputFreq[firstBitStringLoc], color = \"red\")\n",
        "plt.bar(keys[firstBitStringLoc+1:secondBitStringLoc], outputFreq[firstBitStringLoc+1:secondBitStringLoc], color = \"blue\")\n",
        "plt.bar(keys[secondBitStringLoc], outputFreq[secondBitStringLoc], color = \"red\")\n",
        "plt.bar(keys[secondBitStringLoc+1:], outputFreq[secondBitStringLoc+1:], color = \"blue\")\n",
        "plt.xticks(rotation=90)\n",
        "plt.title(\"Measurement Results N = {}\".format(keyLen))\n",
        "plt.show()"
      ],
      "outputs": [
        {
          "output_type": "display_data",
          "data": {
            "text/plain": "<Figure size 640x480 with 1 Axes>",
            "image/png": "[encoded data removed]"
          },
          "metadata": {}
        }
      ],
      "execution_count": 17,
      "metadata": {}
    },
    {
      "cell_type": "markdown",
      "source": [
        "### <span style=\"color:#61c2e8\">Task 1 Questions</span>:\n",
        "\n",
        "* T1.1. Calculate the optimal number of iterations for N = 2, 3, 4, 5, 7 and 12. Please round your answer down.\n",
        "\n",
        "* T1.2. Run the noiseless simulation code with these values of N and the number of iterations you calculated. For each N, what is the approximate percentage of runs that produced correct answers? What are you noticing about the behavior of this value as N increases?\n",
        "\n",
        "* T1.3. The N=2 case doesn't perform any better than just randomly sampling the search space. Provide a possible explanation for this.\n",
        "\n",
        "* T1.4. What happens when you do more iterations than the optimal number of iterations? Compare this to doing fewer than the optimal number of iterations. Use the noiseless simulation code to experiment. \n",
        "\n",
        "* T1.5. Submit a job to the IonQ QPU for N = 3, 4 and 5 using the number of iterations you calculated. What are you seeing as N increases?\n",
        "\n",
        "> `qsharp.azure.output` defaults to the last submitted job. We recommend submitting all hardware jobs as soon as you can, since it can take a while for them to finish. You can then get the output for each of them by calling `qsharp.azure.output(jobId=\"job id\")`. The job ids can be found in your Azure Quantum Workspace in Operations $\\rightarrow$ Job Management.\n"
      ],
      "metadata": {}
    },
    {
      "cell_type": "markdown",
      "source": [
        "##### T 1.1\n",
        "\n",
        "The formula to calculate the optimal number of iterations for any N for the Grover search algorithm is shown below\n",
        "$$\n",
        "    N_\\text{optimal} = \\lfloor \\frac{\\pi}{4} \\sqrt{\\frac{2^N}{K}} - \\frac{1}{2} \\rfloor\n",
        "$$\n",
        "In the above equation $2^n$ [eligible items for the search task](https://learn.microsoft.com/en-us/azure/quantum/concepts-grovers) and *K* repreesents [the different valid inputs](https://learn.microsoft.com/en-us/azure/quantum/concepts-grovers).\n",
        "\n",
        "The following code segment computed the optimal number of iterations for *N*$=2, 3, 4, 5, 7, \\text{and } 12$.\n",
        "\n",
        "[The above discussion referenced this link.](https://learn.microsoft.com/en-us/azure/quantum/concepts-grovers)"
      ],
      "metadata": {
        "nteract": {
          "transient": {
            "deleting": false
          }
        }
      }
    },
    {
      "cell_type": "code",
      "source": [
        "import numpy as np\n",
        "\n",
        "N        = np.array([2, 3, 4, 5, 7, 12])\n",
        "K        = 2\n",
        "num_iter = np.floor((np.pi/4) * np.sqrt((2**N)/K) - (1/2))\n",
        "\n",
        "print(num_iter)"
      ],
      "outputs": [
        {
          "output_type": "stream",
          "name": "stdout",
          "text": "[ 0.  1.  1.  2.  5. 35.]\n"
        }
      ],
      "execution_count": 1,
      "metadata": {
        "jupyter": {
          "source_hidden": false,
          "outputs_hidden": false
        },
        "nteract": {
          "transient": {
            "deleting": false
          }
        }
      }
    },
    {
      "cell_type": "markdown",
      "source": [
        "As seen by the code segment above, the optimal number of iterations for *N*$=2,3,4,5,7,\\text{and }, 12$ is $[ 0, 1, 1, 2, 5, 35 ]$, respectively."
      ],
      "metadata": {
        "nteract": {
          "transient": {
            "deleting": false
          }
        }
      }
    },
    {
      "cell_type": "markdown",
      "source": [
        "##### T 1.2\n",
        "\n",
        "The code segments below runs the simulations with *N*$=2,3,4,5,7,\\text{and }12$ and the number of iterations set to their respective optimal value computed above. The code segments below also display the approximate percentage of runs that produced the correct answers. The results are shown below."
      ],
      "metadata": {
        "nteract": {
          "transient": {
            "deleting": false
          }
        }
      }
    },
    {
      "cell_type": "code",
      "source": [
        "N = 2\n",
        "iterations = 0\n",
        "\n",
        "target1 = [i%2 for i in range(N)]\n",
        "target2 = [i%2 for i in range(1, N+1)]\n",
        "shots = 100\n",
        "correctCount = 0\n",
        "for shot in range(shots):\n",
        "    result = Grovers.simulate(iterations=iterations, N=N)\n",
        "    if result == target1 or result == target2:\n",
        "        correctCount += 1\n",
        "print(\"{}% of queries returned a correct answer\".format(100 * correctCount/shots))\n"
      ],
      "outputs": [
        {
          "output_type": "stream",
          "name": "stdout",
          "text": "54.0% of queries returned a correct answer\n"
        }
      ],
      "execution_count": 47,
      "metadata": {
        "jupyter": {
          "source_hidden": false,
          "outputs_hidden": false
        },
        "nteract": {
          "transient": {
            "deleting": false
          }
        }
      }
    },
    {
      "cell_type": "code",
      "source": [
        "N = 3\n",
        "iterations = 1\n",
        "\n",
        "target1 = [i%2 for i in range(N)]\n",
        "target2 = [i%2 for i in range(1, N+1)]\n",
        "shots = 100\n",
        "correctCount = 0\n",
        "for shot in range(shots):\n",
        "    result = Grovers.simulate(iterations=iterations, N=N)\n",
        "    if result == target1 or result == target2:\n",
        "        correctCount += 1\n",
        "print(\"{}% of queries returned a correct answer\".format(100 * correctCount/shots))\n"
      ],
      "outputs": [
        {
          "output_type": "stream",
          "name": "stdout",
          "text": "100.0% of queries returned a correct answer\n"
        }
      ],
      "execution_count": 37,
      "metadata": {
        "jupyter": {
          "source_hidden": false,
          "outputs_hidden": false
        },
        "nteract": {
          "transient": {
            "deleting": false
          }
        }
      }
    },
    {
      "cell_type": "code",
      "source": [
        "N = 4\n",
        "iterations = 1\n",
        "\n",
        "target1 = [i%2 for i in range(N)]\n",
        "target2 = [i%2 for i in range(1, N+1)]\n",
        "shots = 100\n",
        "correctCount = 0\n",
        "for shot in range(shots):\n",
        "    result = Grovers.simulate(iterations=iterations, N=N)\n",
        "    if result == target1 or result == target2:\n",
        "        correctCount += 1\n",
        "print(\"{}% of queries returned a correct answer\".format(100 * correctCount/shots))\n"
      ],
      "outputs": [
        {
          "output_type": "stream",
          "name": "stdout",
          "text": "73.0% of queries returned a correct answer\n"
        }
      ],
      "execution_count": 39,
      "metadata": {
        "jupyter": {
          "source_hidden": false,
          "outputs_hidden": false
        },
        "nteract": {
          "transient": {
            "deleting": false
          }
        }
      }
    },
    {
      "cell_type": "code",
      "source": [
        "N = 5\n",
        "iterations = 2\n",
        "\n",
        "target1 = [i%2 for i in range(N)]\n",
        "target2 = [i%2 for i in range(1, N+1)]\n",
        "shots = 100\n",
        "correctCount = 0\n",
        "for shot in range(shots):\n",
        "    result = Grovers.simulate(iterations=iterations, N=N)\n",
        "    if result == target1 or result == target2:\n",
        "        correctCount += 1\n",
        "print(\"{}% of queries returned a correct answer\".format(100 * correctCount/shots))\n"
      ],
      "outputs": [
        {
          "output_type": "stream",
          "name": "stdout",
          "text": "90.0% of queries returned a correct answer\n"
        }
      ],
      "execution_count": 48,
      "metadata": {
        "jupyter": {
          "source_hidden": false,
          "outputs_hidden": false
        },
        "nteract": {
          "transient": {
            "deleting": false
          }
        }
      }
    },
    {
      "cell_type": "code",
      "source": [
        "N = 7\n",
        "iterations = 5\n",
        "\n",
        "target1 = [i%2 for i in range(N)]\n",
        "target2 = [i%2 for i in range(1, N+1)]\n",
        "shots = 100\n",
        "correctCount = 0\n",
        "for shot in range(shots):\n",
        "    result = Grovers.simulate(iterations=iterations, N=N)\n",
        "    if result == target1 or result == target2:\n",
        "        correctCount += 1\n",
        "print(\"{}% of queries returned a correct answer\".format(100 * correctCount/shots))\n"
      ],
      "outputs": [
        {
          "output_type": "stream",
          "name": "stdout",
          "text": "96.0% of queries returned a correct answer\n"
        }
      ],
      "execution_count": 49,
      "metadata": {
        "jupyter": {
          "source_hidden": false,
          "outputs_hidden": false
        },
        "nteract": {
          "transient": {
            "deleting": false
          }
        }
      }
    },
    {
      "cell_type": "code",
      "source": [
        "N = 12\n",
        "iterations = 35\n",
        "\n",
        "target1 = [i%2 for i in range(N)]\n",
        "target2 = [i%2 for i in range(1, N+1)]\n",
        "shots = 100\n",
        "correctCount = 0\n",
        "for shot in range(shots):\n",
        "    result = Grovers.simulate(iterations=iterations, N=N)\n",
        "    if result == target1 or result == target2:\n",
        "        correctCount += 1\n",
        "print(\"{}% of queries returned a correct answer\".format(100 * correctCount/shots))\n"
      ],
      "outputs": [
        {
          "output_type": "stream",
          "name": "stdout",
          "text": "100.0% of queries returned a correct answer\n"
        }
      ],
      "execution_count": 50,
      "metadata": {
        "jupyter": {
          "source_hidden": false,
          "outputs_hidden": false
        },
        "nteract": {
          "transient": {
            "deleting": false
          }
        }
      }
    },
    {
      "cell_type": "markdown",
      "source": [
        "The code segments above display the approximate percentage of runs that produced the answers. Approsimately, when *N*$=2$ the approximatley $50\\%$ of runs produced the correct answers, when *N*$=3$ the approximatley all runs produced the correct answer, when *N*$=4$ the approximatley $75\\%$ of runs produced the correct answer, when *N*$=7$ the approximatley $95\\%$ of runs produced the correct answer, and when *N*$=12$ the approximatley all runs produced the correct answer. As the value of *N* increased, the optimal number of iterations produced a higher percentage of correct answers."
      ],
      "metadata": {
        "nteract": {
          "transient": {
            "deleting": false
          }
        }
      }
    },
    {
      "cell_type": "markdown",
      "source": [
        "##### T 1.3\n",
        "\n",
        "When *N*$=2$ and *K*$=2$, the Grover search algorithm does not perform any better than randomly searching the search space, because when the eligible items for the search task matches the number of valid inputs. Because the cardinality of the search space is small, i.e. $2$, randomly searching and performing the Grover's search algorithm with an optimal number of iterations of $1$ would result in the same output."
      ],
      "metadata": {
        "nteract": {
          "transient": {
            "deleting": false
          }
        }
      }
    },
    {
      "cell_type": "markdown",
      "source": [
        "##### T 1.4\n",
        "\n",
        "The two code segments below show the result of performing more number of iterations than the optimal number of iterations when *N*$=2$ and the result of performing fewer number of iterations than the optimal number of iterations when *N*$=2$, respectively."
      ],
      "metadata": {
        "nteract": {
          "transient": {
            "deleting": false
          }
        }
      }
    },
    {
      "cell_type": "code",
      "source": [
        "N = 12\n",
        "iterations = 17\n",
        "\n",
        "target1 = [i%2 for i in range(N)]\n",
        "target2 = [i%2 for i in range(1, N+1)]\n",
        "shots = 100\n",
        "correctCount = 0\n",
        "for shot in range(shots):\n",
        "    result = Grovers.simulate(iterations=iterations, N=N)\n",
        "    if result == target1 or result == target2:\n",
        "        correctCount += 1\n",
        "print(\"{}% of queries returned a correct answer\".format(100 * correctCount/shots))"
      ],
      "outputs": [
        {
          "output_type": "stream",
          "name": "stdout",
          "text": "51.0% of queries returned a correct answer\n"
        }
      ],
      "execution_count": 51,
      "metadata": {
        "jupyter": {
          "source_hidden": false,
          "outputs_hidden": false
        },
        "nteract": {
          "transient": {
            "deleting": false
          }
        }
      }
    },
    {
      "cell_type": "code",
      "source": [
        "N = 12\n",
        "iterations = 70\n",
        "\n",
        "target1 = [i%2 for i in range(N)]\n",
        "target2 = [i%2 for i in range(1, N+1)]\n",
        "shots = 100\n",
        "correctCount = 0\n",
        "for shot in range(shots):\n",
        "    result = Grovers.simulate(iterations=iterations, N=N)\n",
        "    if result == target1 or result == target2:\n",
        "        correctCount += 1\n",
        "print(\"{}% of queries returned a correct answer\".format(100 * correctCount/shots))"
      ],
      "outputs": [
        {
          "output_type": "stream",
          "name": "stdout",
          "text": "0.0% of queries returned a correct answer\n"
        }
      ],
      "execution_count": 52,
      "metadata": {
        "jupyter": {
          "source_hidden": false,
          "outputs_hidden": false
        },
        "nteract": {
          "transient": {
            "deleting": false
          }
        }
      }
    },
    {
      "cell_type": "markdown",
      "source": [
        "As seen by the two code segments above, if we were to perform more number of iterations than the optimal number of iterations or if we were to perform fewer number of iterations than the optimal number of iterations the percentage of runs that find the correct answer decreases. Therefore, when performing Grover's search we should always use the optimal number of iterations, not more or less."
      ],
      "metadata": {
        "nteract": {
          "transient": {
            "deleting": false
          }
        }
      }
    },
    {
      "cell_type": "markdown",
      "source": [
        "##### T 1.5\n",
        "\n",
        "The following code segments submit a job to the IonQ QPU for *N*$=2,3,\\text{and }5$ using the optimal number of iterations for these values of *N*, calculated above. "
      ],
      "metadata": {
        "nteract": {
          "transient": {
            "deleting": false
          }
        }
      }
    },
    {
      "cell_type": "code",
      "source": [
        "qsharp.azure.connect(\n",
        "   resourceId=\"/subscriptions/476fe4b3-6f35-4af3-8050-b3b41a795058/resourceGroups/AzureQuantum/providers/Microsoft.Quantum/Workspaces/IntroToQuantumProj\",\n",
        "   location=\"East US\")\n",
        "\n",
        "qsharp.azure.target(\"ionq.qpu\")"
      ],
      "outputs": [
        {
          "output_type": "display_data",
          "data": {
            "text/plain": "Connecting to Azure Quantum...",
            "application/x-qsharp-data": "\"Connecting to Azure Quantum...\""
          },
          "metadata": {}
        },
        {
          "output_type": "stream",
          "name": "stdout",
          "text": "Authenticated using Microsoft.Azure.Quantum.Authentication.TokenFileCredential\n\n\nConnected to Azure Quantum workspace IntroToQuantumProj in location eastus.\nLoading package Microsoft.Quantum.Providers.IonQ and dependencies...\nActive target is now ionq.qpu\n"
        },
        {
          "output_type": "execute_result",
          "execution_count": 4,
          "data": {
            "text/plain": "{'id': 'ionq.qpu', 'current_availability': {}, 'average_queue_time': 51722}"
          },
          "metadata": {}
        }
      ],
      "execution_count": 4,
      "metadata": {
        "jupyter": {
          "source_hidden": false,
          "outputs_hidden": false
        },
        "nteract": {
          "transient": {
            "deleting": false
          }
        }
      }
    },
    {
      "cell_type": "code",
      "source": [
        "N = 3\n",
        "iterations = 1\n",
        "qsharp.azure.submit(Grovers, iterations=iterations, N=N, shots=500, jobName=\"Grover's iterations={}, N={}\".format(iterations, N))\n",
        "\n",
        "qsharp.azure.status()"
      ],
      "outputs": [
        {
          "output_type": "stream",
          "name": "stdout",
          "text": "Submitting Grovers to target ionq.qpu...\nJob successfully submitted.\n   Job name: Grover's iterations=1, N=3\n   Job ID: 9f563f62-da98-435e-b909-52e7a0f22d56\n"
        },
        {
          "output_type": "execute_result",
          "execution_count": 13,
          "data": {
            "text/plain": "{'id': '9f563f62-da98-435e-b909-52e7a0f22d56', 'name': \"Grover's iterations=1, N=3\", 'status': 'Waiting', 'uri': 'https://portal.azure.com/#@microsoft.onmicrosoft.com/resource/subscriptions/476fe4b3-6f35-4af3-8050-b3b41a795058/resourceGroups/AzureQuantum/providers/Microsoft.Quantum/Workspaces/IntroToQuantumProj/job_management?microsoft_azure_quantum_jobid=9f563f62-da98-435e-b909-52e7a0f22d56', 'provider': 'ionq', 'target': 'ionq.qpu', 'creation_time': '2022-12-09T00:35:04.7374128+00:00', 'begin_execution_time': None, 'end_execution_time': None, 'cost_estimate': ''}"
          },
          "metadata": {}
        }
      ],
      "execution_count": 13,
      "metadata": {
        "jupyter": {
          "source_hidden": false,
          "outputs_hidden": false
        },
        "nteract": {
          "transient": {
            "deleting": false
          }
        }
      }
    },
    {
      "cell_type": "code",
      "source": [
        "output = qsharp.azure.output(jobId=\"9f563f62-da98-435e-b909-52e7a0f22d56\")"
      ],
      "outputs": [],
      "execution_count": 5,
      "metadata": {
        "jupyter": {
          "source_hidden": false,
          "outputs_hidden": false
        },
        "nteract": {
          "transient": {
            "deleting": false
          }
        }
      }
    },
    {
      "cell_type": "code",
      "source": [
        "keys = list(output.keys())\n",
        "keys = [key.replace(\",\", \"\") for key in keys]\n",
        "keyLen = len(keys[0]) - 2\n",
        "firstBitString = \"\"\n",
        "secondBitString = \"\"\n",
        "for i in range(keyLen):\n",
        "    firstBitString += str((i+1)%2)\n",
        "    secondBitString += str(i%2)\n",
        "secondBitString = \"[{}]\".format(secondBitString)\n",
        "firstBitString = \"[{}]\".format(firstBitString)\n",
        "outputFreq = list(output.values())\n",
        "\n",
        "firstBitStringLoc = min(keys.index(firstBitString), keys.index(secondBitString))\n",
        "secondBitStringLoc = max(keys.index(firstBitString), keys.index(secondBitString))\n",
        "\n",
        "plt.bar(keys[0:firstBitStringLoc], outputFreq[0:firstBitStringLoc], color = \"blue\")\n",
        "plt.bar(keys[firstBitStringLoc], outputFreq[firstBitStringLoc], color = \"red\")\n",
        "plt.bar(keys[firstBitStringLoc+1:secondBitStringLoc], outputFreq[firstBitStringLoc+1:secondBitStringLoc], color = \"blue\")\n",
        "plt.bar(keys[secondBitStringLoc], outputFreq[secondBitStringLoc], color = \"red\")\n",
        "plt.bar(keys[secondBitStringLoc+1:], outputFreq[secondBitStringLoc+1:], color = \"blue\")\n",
        "plt.xticks(rotation=90)\n",
        "plt.title(\"Measurement Results N = {}\".format(keyLen))\n",
        "plt.show()"
      ],
      "outputs": [
        {
          "output_type": "display_data",
          "data": {
            "text/plain": "<Figure size 640x480 with 1 Axes>",
            "image/png": "[encoded data removed]"
          },
          "metadata": {}
        }
      ],
      "execution_count": 6,
      "metadata": {
        "jupyter": {
          "source_hidden": false,
          "outputs_hidden": false
        },
        "nteract": {
          "transient": {
            "deleting": false
          }
        }
      }
    },
    {
      "cell_type": "code",
      "source": [
        "N = 4\n",
        "iterations = 1\n",
        "qsharp.azure.submit(Grovers, iterations=iterations, N=N, shots=500, jobName=\"Grover's iterations={}, N={}\".format(iterations, N))\n",
        "\n",
        "qsharp.azure.status()"
      ],
      "outputs": [
        {
          "output_type": "stream",
          "name": "stdout",
          "text": "Submitting Grovers to target ionq.qpu...\nJob successfully submitted.\n   Job name: Grover's iterations=1, N=4\n   Job ID: 41fba03b-18c6-48a6-b0ab-e37e3d5fd80e\n"
        },
        {
          "output_type": "execute_result",
          "execution_count": 16,
          "data": {
            "text/plain": "{'id': '41fba03b-18c6-48a6-b0ab-e37e3d5fd80e', 'name': \"Grover's iterations=1, N=4\", 'status': 'Waiting', 'uri': 'https://portal.azure.com/#@microsoft.onmicrosoft.com/resource/subscriptions/476fe4b3-6f35-4af3-8050-b3b41a795058/resourceGroups/AzureQuantum/providers/Microsoft.Quantum/Workspaces/IntroToQuantumProj/job_management?microsoft_azure_quantum_jobid=41fba03b-18c6-48a6-b0ab-e37e3d5fd80e', 'provider': 'ionq', 'target': 'ionq.qpu', 'creation_time': '2022-12-09T00:38:14.6876557+00:00', 'begin_execution_time': None, 'end_execution_time': None, 'cost_estimate': ''}"
          },
          "metadata": {}
        }
      ],
      "execution_count": 16,
      "metadata": {
        "jupyter": {
          "source_hidden": false,
          "outputs_hidden": false
        },
        "nteract": {
          "transient": {
            "deleting": false
          }
        }
      }
    },
    {
      "cell_type": "code",
      "source": [
        "output = qsharp.azure.output(jobId=\"41fba03b-18c6-48a6-b0ab-e37e3d5fd80e\")"
      ],
      "outputs": [],
      "execution_count": 8,
      "metadata": {
        "jupyter": {
          "source_hidden": false,
          "outputs_hidden": false
        },
        "nteract": {
          "transient": {
            "deleting": false
          }
        }
      }
    },
    {
      "cell_type": "code",
      "source": [
        "keys = list(output.keys())\n",
        "keys = [key.replace(\",\", \"\") for key in keys]\n",
        "keyLen = len(keys[0]) - 2\n",
        "firstBitString = \"\"\n",
        "secondBitString = \"\"\n",
        "for i in range(keyLen):\n",
        "    firstBitString += str((i+1)%2)\n",
        "    secondBitString += str(i%2)\n",
        "secondBitString = \"[{}]\".format(secondBitString)\n",
        "firstBitString = \"[{}]\".format(firstBitString)\n",
        "outputFreq = list(output.values())\n",
        "\n",
        "firstBitStringLoc = min(keys.index(firstBitString), keys.index(secondBitString))\n",
        "secondBitStringLoc = max(keys.index(firstBitString), keys.index(secondBitString))\n",
        "\n",
        "plt.bar(keys[0:firstBitStringLoc], outputFreq[0:firstBitStringLoc], color = \"blue\")\n",
        "plt.bar(keys[firstBitStringLoc], outputFreq[firstBitStringLoc], color = \"red\")\n",
        "plt.bar(keys[firstBitStringLoc+1:secondBitStringLoc], outputFreq[firstBitStringLoc+1:secondBitStringLoc], color = \"blue\")\n",
        "plt.bar(keys[secondBitStringLoc], outputFreq[secondBitStringLoc], color = \"red\")\n",
        "plt.bar(keys[secondBitStringLoc+1:], outputFreq[secondBitStringLoc+1:], color = \"blue\")\n",
        "plt.xticks(rotation=90)\n",
        "plt.title(\"Measurement Results N = {}\".format(keyLen))\n",
        "plt.show()"
      ],
      "outputs": [
        {
          "output_type": "stream",
          "name": "stdout",
          "text": "Submitting Grovers to target ionq.qpu...\nJob successfully submitted.\n   Job name: Grover's iterations=1, N=4\n   Job ID: 589c85a6-671d-4dbe-bb16-43afa5e5616b\n"
        },
        {
          "output_type": "display_data",
          "data": {
            "text/plain": "<Figure size 640x480 with 1 Axes>",
            "image/png": "[encoded data removed]"
          },
          "metadata": {}
        }
      ],
      "execution_count": 58,
      "metadata": {
        "jupyter": {
          "source_hidden": false,
          "outputs_hidden": false
        },
        "nteract": {
          "transient": {
            "deleting": false
          }
        }
      }
    },
    {
      "cell_type": "code",
      "source": [
        "N = 5\n",
        "iterations = 2\n",
        "qsharp.azure.submit(Grovers, iterations=iterations, N=N, shots=500, jobName=\"Grover's iterations={}, N={}\".format(iterations, N))\n",
        "\n",
        "qsharp.azure.status()"
      ],
      "outputs": [
        {
          "output_type": "stream",
          "name": "stdout",
          "text": "Submitting Grovers to target ionq.qpu...\nJob successfully submitted.\n   Job name: Grover's iterations=2, N=5\n   Job ID: 5525e510-aec8-4c51-a807-1bad1f31c8b3\n"
        },
        {
          "output_type": "execute_result",
          "execution_count": 18,
          "data": {
            "text/plain": "{'id': '5525e510-aec8-4c51-a807-1bad1f31c8b3', 'name': \"Grover's iterations=2, N=5\", 'status': 'Waiting', 'uri': 'https://portal.azure.com/#@microsoft.onmicrosoft.com/resource/subscriptions/476fe4b3-6f35-4af3-8050-b3b41a795058/resourceGroups/AzureQuantum/providers/Microsoft.Quantum/Workspaces/IntroToQuantumProj/job_management?microsoft_azure_quantum_jobid=5525e510-aec8-4c51-a807-1bad1f31c8b3', 'provider': 'ionq', 'target': 'ionq.qpu', 'creation_time': '2022-12-09T00:39:32.2149156+00:00', 'begin_execution_time': None, 'end_execution_time': None, 'cost_estimate': ''}"
          },
          "metadata": {}
        }
      ],
      "execution_count": 18,
      "metadata": {
        "jupyter": {
          "source_hidden": false,
          "outputs_hidden": false
        },
        "nteract": {
          "transient": {
            "deleting": false
          }
        }
      }
    },
    {
      "cell_type": "code",
      "source": [
        "output = qsharp.azure.output(jobId=\"5525e510-aec8-4c51-a807-1bad1f31c8b3\")"
      ],
      "outputs": [],
      "execution_count": 9,
      "metadata": {
        "jupyter": {
          "source_hidden": false,
          "outputs_hidden": false
        },
        "nteract": {
          "transient": {
            "deleting": false
          }
        }
      }
    },
    {
      "cell_type": "code",
      "source": [
        "keys = list(output.keys())\n",
        "keys = [key.replace(\",\", \"\") for key in keys]\n",
        "keyLen = len(keys[0]) - 2\n",
        "firstBitString = \"\"\n",
        "secondBitString = \"\"\n",
        "for i in range(keyLen):\n",
        "    firstBitString += str((i+1)%2)\n",
        "    secondBitString += str(i%2)\n",
        "secondBitString = \"[{}]\".format(secondBitString)\n",
        "firstBitString = \"[{}]\".format(firstBitString)\n",
        "outputFreq = list(output.values())\n",
        "\n",
        "firstBitStringLoc = min(keys.index(firstBitString), keys.index(secondBitString))\n",
        "secondBitStringLoc = max(keys.index(firstBitString), keys.index(secondBitString))\n",
        "\n",
        "plt.bar(keys[0:firstBitStringLoc], outputFreq[0:firstBitStringLoc], color = \"blue\")\n",
        "plt.bar(keys[firstBitStringLoc], outputFreq[firstBitStringLoc], color = \"red\")\n",
        "plt.bar(keys[firstBitStringLoc+1:secondBitStringLoc], outputFreq[firstBitStringLoc+1:secondBitStringLoc], color = \"blue\")\n",
        "plt.bar(keys[secondBitStringLoc], outputFreq[secondBitStringLoc], color = \"red\")\n",
        "plt.bar(keys[secondBitStringLoc+1:], outputFreq[secondBitStringLoc+1:], color = \"blue\")\n",
        "plt.xticks(rotation=90)\n",
        "plt.title(\"Measurement Results N = {}\".format(keyLen))\n",
        "plt.show()"
      ],
      "outputs": [
        {
          "output_type": "display_data",
          "data": {
            "text/plain": "<Figure size 640x480 with 1 Axes>",
            "image/png": "[encoded data removed]"
          },
          "metadata": {}
        }
      ],
      "execution_count": 10,
      "metadata": {
        "jupyter": {
          "source_hidden": false,
          "outputs_hidden": false
        },
        "nteract": {
          "transient": {
            "deleting": false
          }
        }
      }
    },
    {
      "cell_type": "markdown",
      "source": [
        "The results shown above display the output of submitting the Grover's search algorithm job to the IonQ QPU for *N*$=3, 4, \\text{and } 5$. As the number *N* increases, the probability of finding the target decreases because we have increased the search space - and the number of iterations correspondingly. "
      ],
      "metadata": {
        "nteract": {
          "transient": {
            "deleting": false
          }
        }
      }
    }
  ],
  "metadata": {
    "kernelspec": {
      "name": "python3",
      "language": "python",
      "display_name": "Python 3 (ipykernel)"
    },
    "language_info": {
      "name": "python",
      "version": "3.9.15",
      "mimetype": "text/x-python",
      "codemirror_mode": {
        "name": "ipython",
        "version": 3
      },
      "pygments_lexer": "ipython3",
      "nbconvert_exporter": "python",
      "file_extension": ".py"
    },
    "orig_nbformat": 4,
    "vscode": {
      "interpreter": {
        "hash": "1cde0123ad091c17bb3dac1610a1b00e4cc7ccaccc904fd2e4f3100417f26ae7"
      }
    },
    "kernel_info": {
      "name": "python3"
    },
    "nteract": {
      "version": "nteract-front-end@1.0.0"
    }
  },
  "nbformat": 4,
  "nbformat_minor": 2
}